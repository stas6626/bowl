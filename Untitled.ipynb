{
 "cells": [
  {
   "cell_type": "code",
   "execution_count": 1,
   "metadata": {},
   "outputs": [
    {
     "data": {
      "text/html": [
       "<style>.container { width:95% !important; }</style>"
      ],
      "text/plain": [
       "<IPython.core.display.HTML object>"
      ]
     },
     "metadata": {},
     "output_type": "display_data"
    }
   ],
   "source": [
    "from scipy import ndimage as ndi\n",
    "import os\n",
    "import numpy as np\n",
    "import pandas as pd\n",
    "import matplotlib.pyplot as plt\n",
    "from tqdm import tqdm\n",
    "from IPython.core.display import display, HTML\n",
    "display(HTML(\"<style>.container { width:95% !important; }</style>\"))\n",
    "\n",
    "import cv2\n",
    "from PIL import Image\n",
    "from skimage import io\n",
    "from tqdm import tqdm\n",
    "import torch as t\n",
    "from torch.nn.modules.loss import BCELoss, BCEWithLogitsLoss\n",
    "from torch.utils import data\n",
    "from torchvision import transforms as tsf\n",
    "import torchvision\n",
    "from torch import nn\n",
    "from torch.nn import functional as F\n",
    "import torch\n",
    "from torchvision import models\n",
    "from transforms import *\n",
    "from models import *\n",
    "from skimage.transform import resize\n",
    "from skimage.morphology import label\n",
    "from utils_and_losses import *\n",
    "torch.manual_seed(1)\n",
    "\n",
    "TRAIN_PATH = './train.pth'\n",
    "TEST_PATH = './test.tph'\n",
    "%matplotlib inline\n",
    "files_for_test = sorted(list(Path('../data/stage_1_test/').iterdir()))"
   ]
  },
  {
   "cell_type": "raw",
   "metadata": {},
   "source": [
    "def process(file_path, has_mask=True):\n",
    "    file_path = Path(file_path)\n",
    "    files = sorted(list(Path(file_path).iterdir()))\n",
    "    datas = []\n",
    "    \n",
    "    for file in tqdm(files):\n",
    "        \n",
    "        item = {}\n",
    "        imgs = []\n",
    "        for image in (file/'images').iterdir():\n",
    "            img = io.imread(image)\n",
    "            imgs.append(img)\n",
    "        #assert len(imgs)==1\n",
    "        if img.shape[2]>3:\n",
    "            omg = file\n",
    "            #assert(img[:,:,3]!=255).sum()==0\n",
    "        img = img[:,:,:3]\n",
    "\n",
    "        if has_mask:\n",
    "            mask_files = list((file/'masks').iterdir())\n",
    "            masks = None\n",
    "            for ii,mask in enumerate(mask_files):\n",
    "                mask = io.imread(mask)\n",
    "                omg = file\n",
    "                #assert (mask[(mask!=0)]==255).all()\n",
    "                if masks is None:\n",
    "                    H,W = mask.shape\n",
    "                    masks = np.zeros((len(mask_files),H,W))\n",
    "                masks[ii] = mask\n",
    "            tmp_mask = masks.sum(0)\n",
    "            omg = file\n",
    "            #assert (tmp_mask[tmp_mask!=0] == 255).all()\n",
    "            for ii,mask in enumerate(masks):\n",
    "                masks[ii] = mask/255 * (ii+1)\n",
    "            mask = masks.sum(0)\n",
    "            item['mask'] = t.from_numpy(mask)\n",
    "        item['name'] = str(file).split('/')[-1]\n",
    "        item['img'] = t.from_numpy(img)\n",
    "        datas.append(item)\n",
    "    return datas\n",
    "\n",
    "train_data = process('../data/stage1_train/')\n",
    "t.save(train_data, TRAIN_PATH)\n",
    "test = process('../data/stage_1_test/',False)\n",
    "t.save(test, TEST_PATH)"
   ]
  },
  {
   "cell_type": "code",
   "execution_count": null,
   "metadata": {},
   "outputs": [],
   "source": []
  },
  {
   "cell_type": "code",
   "execution_count": 2,
   "metadata": {},
   "outputs": [],
   "source": [
    "def read_image(filepath, color_mode=cv2.IMREAD_COLOR, target_size=None):\n",
    "    \"\"\"Read an image from a file and resize it.\"\"\"\n",
    "    img = cv2.imread(filepath, color_mode)\n",
    "    if target_size: \n",
    "        img = cv2.resize(img, target_size, interpolation = cv2.INTER_AREA)\n",
    "    return img\n",
    "      \n",
    "def read_mask(directory, target_size=None):\n",
    "    \"\"\"Read and resize masks contained in a given directory.\"\"\"\n",
    "    for i,filename in enumerate(next(os.walk(directory))[2]):\n",
    "        mask_path = os.path.join(directory, filename)\n",
    "        mask_tmp = read_image(mask_path, cv2.IMREAD_GRAYSCALE, target_size)\n",
    "        if not i: mask = mask_tmp\n",
    "        else: mask = np.maximum(mask, mask_tmp)\n",
    "    return mask \n",
    "\n",
    "def get_contour(img):\n",
    "    img_contour = np.zeros_like(img)\n",
    "    _, contours, hierarchy = cv2.findContours(img,cv2.RETR_TREE,cv2.CHAIN_APPROX_NONE)\n",
    "\n",
    "    cv2.drawContours(img_contour, contours, -1, (255, 255, 255), 2)\n",
    "    return img_contour\n",
    "\n",
    "def iou_t(target, pred):\n",
    "    target_y = label(target > 0.5)\n",
    "    pred_y = label(pred > 0.5)\n",
    "    true_objs = len(np.unique(target_y))\n",
    "    pred_objs = len(np.unique(pred_y))\n",
    "    intersection = np.histogram2d(target_y.flatten(),\n",
    "                                pred_y.flatten(),\n",
    "                                bins=(true_objs, pred_objs))[0]\n",
    "  \n",
    "    area_true = np.histogram(target_y, bins = true_objs)[0]\n",
    "    area_pred = np.histogram(pred_y, bins = pred_objs)[0]\n",
    "    area_true = np.expand_dims(area_true, -1)\n",
    "    area_pred = np.expand_dims(area_pred, 0)\n",
    "  \n",
    "    union = area_true + area_pred - intersection\n",
    "  \n",
    "    intersection = intersection[1:,1:]\n",
    "    union = union[1:,1:]\n",
    "    union[union == 0] = 1e-9\n",
    "\n",
    "    iou = intersection / union\n",
    "  \n",
    "    prec = []\n",
    "    for t in np.arange(0.5, 1.0, 0.05):\n",
    "        tp, fp, fn = precision_at(t, iou)\n",
    "        p = tp / (tp + fp + fn)\n",
    "        prec.append(p)\n",
    "    return np.mean(prec)\n",
    "  \n",
    "def get_center(img):\n",
    "    img_center = np.zeros_like(img)\n",
    "    y, x = ndi.measurements.center_of_mass(img)\n",
    "    cv2.circle(img_center, (int(x), int(y)), 3, (255, 255, 255), -1)\n",
    "    return img_center\n",
    "\n",
    "TRAIN_DIR = '../data/stage1_train/'\n",
    "\n",
    "train_ids = os.listdir(TRAIN_DIR)\n",
    "train_images = [os.path.join(TRAIN_DIR, train_id, 'images', train_id + '.png') \n",
    "                for train_id in train_ids]\n",
    "train_masks = {train_id: [os.path.join(TRAIN_DIR, train_id, 'masks', img_name) \n",
    "                          for img_name in os.listdir(os.path.join(TRAIN_DIR, train_id, 'masks'))]\n",
    "               for train_id in train_ids}\n",
    "\n",
    "TEST_DIR = '../data/stage_1_test/'\n",
    "test_ids = os.listdir(TEST_DIR)\n",
    "test_images = [os.path.join(TEST_DIR, test_id, 'images', test_id + '.png') \n",
    "                for test_id in test_ids]"
   ]
  },
  {
   "cell_type": "code",
   "execution_count": 3,
   "metadata": {},
   "outputs": [],
   "source": [
    "train_data = t.load(TRAIN_PATH)\n",
    "test = t.load(TEST_PATH)"
   ]
  },
  {
   "cell_type": "raw",
   "metadata": {},
   "source": [
    "%%time\n",
    "bad = []\n",
    "\n",
    "img_dir = os.path.join(TRAIN_DIR,train_ids[0], 'images',train_ids[0] + '.png')\n",
    "img = cv2.imread(img_dir)\n",
    "\n",
    "for i, ids in enumerate(train_ids):\n",
    "    img_dir = os.path.join(TRAIN_DIR,ids, 'images',ids + '.png')\n",
    "    if cv2.imread(img_dir).shape[0]%32 != 0 or cv2.imread(img_dir).shape[1]%32 != 0:\n",
    "        bad.append((i, cv2.imread(img_dir).shape))\n",
    "\n",
    "    "
   ]
  },
  {
   "cell_type": "code",
   "execution_count": 5,
   "metadata": {},
   "outputs": [
    {
     "data": {
      "text/plain": [
       "[(4, (360, 360, 3)),\n",
       " (5, (520, 696, 3)),\n",
       " (6, (520, 696, 3)),\n",
       " (8, (360, 360, 3)),\n",
       " (9, (360, 360, 3)),\n",
       " (15, (520, 696, 3)),\n",
       " (19, (520, 696, 3)),\n",
       " (21, (360, 360, 3)),\n",
       " (29, (520, 696, 3)),\n",
       " (32, (603, 1272, 3)),\n",
       " (34, (360, 360, 3)),\n",
       " (36, (360, 360, 3)),\n",
       " (40, (360, 360, 3)),\n",
       " (44, (360, 360, 3)),\n",
       " (48, (520, 696, 3)),\n",
       " (59, (520, 696, 3)),\n",
       " (73, (520, 696, 3)),\n",
       " (79, (520, 696, 3)),\n",
       " (86, (360, 360, 3)),\n",
       " (92, (360, 360, 3)),\n",
       " (94, (360, 360, 3)),\n",
       " (99, (520, 696, 3)),\n",
       " (100, (360, 360, 3)),\n",
       " (104, (520, 696, 3)),\n",
       " (107, (520, 696, 3)),\n",
       " (115, (360, 360, 3)),\n",
       " (129, (520, 696, 3)),\n",
       " (136, (520, 696, 3)),\n",
       " (137, (360, 360, 3)),\n",
       " (138, (520, 696, 3)),\n",
       " (140, (360, 360, 3)),\n",
       " (142, (520, 696, 3)),\n",
       " (151, (520, 696, 3)),\n",
       " (153, (360, 360, 3)),\n",
       " (158, (520, 696, 3)),\n",
       " (165, (360, 360, 3)),\n",
       " (167, (360, 360, 3)),\n",
       " (171, (520, 696, 3)),\n",
       " (172, (360, 360, 3)),\n",
       " (173, (360, 360, 3)),\n",
       " (179, (360, 360, 3)),\n",
       " (182, (520, 696, 3)),\n",
       " (183, (520, 696, 3)),\n",
       " (186, (520, 696, 3)),\n",
       " (189, (520, 696, 3)),\n",
       " (190, (520, 696, 3)),\n",
       " (191, (360, 360, 3)),\n",
       " (194, (520, 696, 3)),\n",
       " (196, (603, 1272, 3)),\n",
       " (199, (520, 696, 3)),\n",
       " (207, (360, 360, 3)),\n",
       " (210, (520, 696, 3)),\n",
       " (216, (360, 360, 3)),\n",
       " (220, (520, 696, 3)),\n",
       " (227, (360, 360, 3)),\n",
       " (228, (520, 696, 3)),\n",
       " (229, (520, 696, 3)),\n",
       " (231, (520, 696, 3)),\n",
       " (233, (360, 360, 3)),\n",
       " (234, (360, 360, 3)),\n",
       " (235, (520, 696, 3)),\n",
       " (237, (520, 696, 3)),\n",
       " (239, (520, 696, 3)),\n",
       " (243, (360, 360, 3)),\n",
       " (245, (260, 347, 3)),\n",
       " (255, (360, 360, 3)),\n",
       " (258, (360, 360, 3)),\n",
       " (260, (360, 360, 3)),\n",
       " (261, (360, 360, 3)),\n",
       " (264, (360, 360, 3)),\n",
       " (266, (520, 696, 3)),\n",
       " (268, (520, 696, 3)),\n",
       " (279, (360, 360, 3)),\n",
       " (280, (360, 360, 3)),\n",
       " (283, (520, 696, 3)),\n",
       " (284, (520, 696, 3)),\n",
       " (286, (520, 696, 3)),\n",
       " (287, (520, 696, 3)),\n",
       " (289, (520, 696, 3)),\n",
       " (291, (520, 696, 3)),\n",
       " (294, (520, 696, 3)),\n",
       " (299, (520, 696, 3)),\n",
       " (300, (360, 360, 3)),\n",
       " (305, (260, 347, 3)),\n",
       " (308, (1040, 1388, 3)),\n",
       " (309, (520, 696, 3)),\n",
       " (310, (360, 360, 3)),\n",
       " (311, (360, 360, 3)),\n",
       " (313, (360, 360, 3)),\n",
       " (315, (360, 360, 3)),\n",
       " (323, (360, 360, 3)),\n",
       " (326, (360, 360, 3)),\n",
       " (327, (360, 360, 3)),\n",
       " (328, (360, 360, 3)),\n",
       " (331, (360, 360, 3)),\n",
       " (332, (603, 1272, 3)),\n",
       " (333, (360, 360, 3)),\n",
       " (335, (520, 696, 3)),\n",
       " (338, (360, 360, 3)),\n",
       " (343, (360, 360, 3)),\n",
       " (346, (360, 360, 3)),\n",
       " (349, (520, 696, 3)),\n",
       " (353, (360, 360, 3)),\n",
       " (362, (360, 360, 3)),\n",
       " (367, (520, 696, 3)),\n",
       " (376, (360, 360, 3)),\n",
       " (381, (520, 696, 3)),\n",
       " (388, (360, 360, 3)),\n",
       " (392, (520, 696, 3)),\n",
       " (394, (520, 696, 3)),\n",
       " (395, (520, 696, 3)),\n",
       " (396, (520, 696, 3)),\n",
       " (404, (520, 696, 3)),\n",
       " (406, (360, 360, 3)),\n",
       " (411, (520, 696, 3)),\n",
       " (414, (360, 360, 3)),\n",
       " (416, (520, 696, 3)),\n",
       " (420, (520, 696, 3)),\n",
       " (423, (360, 360, 3)),\n",
       " (424, (520, 696, 3)),\n",
       " (426, (520, 696, 3)),\n",
       " (427, (520, 696, 3)),\n",
       " (429, (260, 347, 3)),\n",
       " (435, (520, 696, 3)),\n",
       " (436, (520, 696, 3)),\n",
       " (437, (360, 360, 3)),\n",
       " (442, (520, 696, 3)),\n",
       " (444, (360, 360, 3)),\n",
       " (445, (360, 360, 3)),\n",
       " (448, (520, 696, 3)),\n",
       " (449, (360, 360, 3)),\n",
       " (454, (360, 360, 3)),\n",
       " (455, (520, 696, 3)),\n",
       " (463, (520, 696, 3)),\n",
       " (466, (360, 360, 3)),\n",
       " (467, (520, 696, 3)),\n",
       " (470, (603, 1272, 3)),\n",
       " (473, (360, 360, 3)),\n",
       " (474, (520, 696, 3)),\n",
       " (481, (520, 696, 3)),\n",
       " (485, (360, 360, 3)),\n",
       " (493, (520, 696, 3)),\n",
       " (500, (603, 1272, 3)),\n",
       " (501, (360, 360, 3)),\n",
       " (503, (520, 696, 3)),\n",
       " (507, (360, 360, 3)),\n",
       " (509, (360, 360, 3)),\n",
       " (512, (520, 696, 3)),\n",
       " (515, (360, 360, 3)),\n",
       " (517, (360, 360, 3)),\n",
       " (518, (520, 696, 3)),\n",
       " (521, (360, 360, 3)),\n",
       " (526, (520, 696, 3)),\n",
       " (527, (520, 696, 3)),\n",
       " (528, (520, 696, 3)),\n",
       " (530, (360, 360, 3)),\n",
       " (532, (520, 696, 3)),\n",
       " (534, (520, 696, 3)),\n",
       " (539, (520, 696, 3)),\n",
       " (543, (360, 360, 3)),\n",
       " (544, (520, 696, 3)),\n",
       " (545, (360, 360, 3)),\n",
       " (550, (360, 360, 3)),\n",
       " (551, (360, 360, 3)),\n",
       " (553, (360, 360, 3)),\n",
       " (555, (360, 360, 3)),\n",
       " (560, (520, 696, 3)),\n",
       " (561, (520, 696, 3)),\n",
       " (564, (260, 347, 3)),\n",
       " (565, (360, 360, 3)),\n",
       " (574, (520, 696, 3)),\n",
       " (579, (520, 696, 3)),\n",
       " (580, (603, 1272, 3)),\n",
       " (589, (360, 360, 3)),\n",
       " (590, (520, 696, 3)),\n",
       " (595, (520, 696, 3)),\n",
       " (602, (520, 696, 3)),\n",
       " (604, (520, 696, 3)),\n",
       " (607, (520, 696, 3)),\n",
       " (611, (360, 360, 3)),\n",
       " (613, (360, 360, 3)),\n",
       " (614, (360, 360, 3)),\n",
       " (617, (360, 360, 3)),\n",
       " (622, (260, 347, 3)),\n",
       " (625, (520, 696, 3)),\n",
       " (632, (520, 696, 3)),\n",
       " (634, (520, 696, 3)),\n",
       " (638, (360, 360, 3)),\n",
       " (640, (360, 360, 3)),\n",
       " (647, (360, 360, 3)),\n",
       " (651, (360, 360, 3)),\n",
       " (655, (360, 360, 3)),\n",
       " (656, (360, 360, 3)),\n",
       " (662, (360, 360, 3)),\n",
       " (666, (360, 360, 3))]"
      ]
     },
     "execution_count": 5,
     "metadata": {},
     "output_type": "execute_result"
    }
   ],
   "source": [
    "bad"
   ]
  },
  {
   "cell_type": "code",
   "execution_count": 6,
   "metadata": {
    "scrolled": true
   },
   "outputs": [],
   "source": [
    "class Dataset():\n",
    "    def __init__(self, root_dir, img_id, transform=None, train=True, problem_type=None):\n",
    "        self.root_dir = root_dir\n",
    "        self.img_id = img_id\n",
    "        self.transform = transform\n",
    "        self.problem_type = problem_type\n",
    "        self.train = train\n",
    "        self.images = [os.path.join(root_dir, train_id, 'images', train_id + '.png') for train_id in img_id]\n",
    "        if train:\n",
    "            self.train_masks = {train_id: [os.path.join(root_dir, train_id, 'masks', img_name) for img_name in os.listdir(os.path.join(root_dir, train_id, 'masks'))] for train_id in img_id}\n",
    "    \n",
    "    def __getitem__(self, idx):\n",
    "        if self.train:\n",
    "            img_dir = os.path.join(TRAIN_DIR, self.img_id[idx], 'images', self.img_id[idx] + '.png')\n",
    "            img = cv2.imread(img_dir)\n",
    "            \n",
    "            #original_h, original_w = img.shape[0], img.shape[1]\n",
    "            #img = resize(img, (IMG_H, IMG_W), mode='constant', preserve_range=True)\n",
    "            \n",
    "            #img_cc = process(img)\n",
    "            #img_cc = img_cc.reshape(img_cc.shape[0], img_cc.shape[1], 1)\n",
    "            #img = np.concatenate((img, img_cc), axis=2)\n",
    "            masks = [cv2.imread(train_mask)[..., 0] for train_mask in self.train_masks[self.img_id[idx]]]\n",
    "            mask = sum(masks) #FOR STAS: Here is a mask reading and center+contour extraction\n",
    "            centers = []\n",
    "            for m in masks:\n",
    "                centers.append(get_center(m))#works only for single mask file(not for the sum of masks)\n",
    "            mask_center = sum(centers)\n",
    "            mask_contour = get_contour(mask) #works for sum of masks(but may be better for single mask file, need tests)\n",
    "            \n",
    "            mask_contour = np.expand_dims(mask_contour, -1)\n",
    "            mask_center = np.expand_dims(mask_center, -1)\n",
    "            mask = np.expand_dims(mask, -1)\n",
    "            mask[mask > 0.00001] = 255\n",
    "            print(img.shape, mask.shape, mask_center.shape, mask_contour.shape)\n",
    "            img, mask, mask_center, mask_contour = self.transform(img, mask, mask_center, mask_contour)\n",
    "            img[:,:,0], img[:,:,2] = img[:,:,2], img[:,:,0] #return_to_RGB\n",
    "            print(img.shape, mask.shape, mask_center.shape, mask_contour.shape)\n",
    "            \n",
    "            \n",
    "            mask = np.swapaxes(mask, 2, 0) / 255.0\n",
    "            img = np.swapaxes(img, 2, 0) / 255.0\n",
    "            mask_contour = np.swapaxes(mask_contour, 2, 0) / 255.0\n",
    "            mask_center = np.swapaxes(mask_center, 2, 0) / 255.0\n",
    "            \n",
    "            print(img.shape, mask.shape, mask_center.shape, mask_contour.shape)\n",
    "            \n",
    "            \n",
    "            sample = torch.FloatTensor(np.stack((img[0], img[1], img[2], mask[0], mask_center[0], mask_contour[0])))\n",
    "            \n",
    "          \n",
    "        else:\n",
    "            img_dir = os.path.join(self.root_dir, self.img_id[idx], 'images', self.img_id[idx] + '.png')\n",
    "            img = cv2.imread(img_dir)\n",
    "            \n",
    "            original_h, original_w = img.shape[0], img.shape[1]\n",
    "            #img = resize(img, (IMG_H, IMG_W), mode='constant', preserve_range=True)\n",
    "            \n",
    "            #img_cc = process(img)\n",
    "            #img_cc = img_cc.reshape(img_cc.shape[0], img_cc.shape[1], 1)\n",
    "            #img = np.concatenate((img, img_cc), axis=2)\n",
    "            img = np.expand_dims(np.swapaxes(img, 2, 0), 0) / 255.0\n",
    "            #size = (img.shape[0],img.shape[1])  # (Height, Weidth)\n",
    "            sample = [torch.FloatTensor(img), self.img_id[idx], original_h, original_w]\n",
    "        return sample\n",
    "        \n",
    "    def __len__(self):\n",
    "        return len(self.datas)"
   ]
  },
  {
   "cell_type": "code",
   "execution_count": 41,
   "metadata": {},
   "outputs": [],
   "source": [
    "train_transform = DanillCompose([\n",
    "        DanillTransform(UnetTansformation(),instruction=(True, True, True, True)),\n",
    "        RandomCrop4(),\n",
    "        ShiftScaleRotate4(),\n",
    "        HorizontalFlip4(),\n",
    "        VerticalFlip4(),\n",
    "        DanillTransform(RandomHueSaturationValue(), instruction=(True, False, False, False)),\n",
    "        DanillTransform(RandomBrightness(), instruction=(True, False, False, False)),\n",
    "        DanillTransform(RandomContrast(), instruction=(True, False, False, False)),\n",
    "        DanillTransform(Normalize(),instruction=(True, False, False, False),prob=0.5),\n",
    "        Reshape4(),\n",
    "    ])"
   ]
  },
  {
   "cell_type": "code",
   "execution_count": 42,
   "metadata": {},
   "outputs": [],
   "source": [
    "train_dataset = Dataset(TRAIN_DIR,train_ids, transform=train_transform)\n",
    "#valid_dataset = Dataset(TEST_DIR, transform=val_transform, mode=\"val\")\n",
    "\n",
    "trainloader = t.utils.data.DataLoader(train_dataset, batch_size = 32, shuffle = True, num_workers=16)\n",
    "#validloader = t.utils.data.DataLoader(valid_dataset, batch_size = 32, shuffle = True, num_workers=16)"
   ]
  },
  {
   "cell_type": "code",
   "execution_count": 62,
   "metadata": {
    "scrolled": true
   },
   "outputs": [
    {
     "name": "stdout",
     "output_type": "stream",
     "text": [
      "(256, 320, 3) (256, 320, 1) (256, 320, 1) (256, 320, 1)\n",
      "243\n",
      "(128, 128, 3) (128, 128, 1) (128, 128, 1) (128, 128, 1)\n",
      "(3, 128, 128) (1, 128, 128) (1, 128, 128) (1, 128, 128)\n",
      "CPU times: user 138 ms, sys: 1.43 ms, total: 140 ms\n",
      "Wall time: 136 ms\n"
     ]
    },
    {
     "data": {
      "image/png": "[encoded data removed]",
      "text/plain": [
       "<matplotlib.figure.Figure at 0x7fc420997eb8>"
      ]
     },
     "metadata": {},
     "output_type": "display_data"
    }
   ],
   "source": [
    "%%time\n",
    "em = train_dataset[10]\n",
    "img, mask, mask_center, mask_contour = em[[0,1,2]].permute(1,2,0).numpy(), em[3].numpy(), em[4].numpy(), em[5].numpy()\n",
    "\n",
    "if img.min() < 0:\n",
    "    img = img * .5 + .5\n",
    "\n",
    "plt.subplot(221)\n",
    "plt.imshow(img)\n",
    "plt.subplot(222)\n",
    "plt.imshow(mask)\n",
    "plt.subplot(223)\n",
    "plt.imshow(mask_center)\n",
    "plt.subplot(224)\n",
    "plt.imshow(mask_contour)"
   ]
  },
  {
   "cell_type": "code",
   "execution_count": 11,
   "metadata": {},
   "outputs": [],
   "source": [
    "model = AlbuNet(pretrained=True).cuda()\n",
    "optimizer = t.optim.Adam(model.parameters(),lr = 5e-5)"
   ]
  },
  {
   "cell_type": "code",
   "execution_count": 16,
   "metadata": {},
   "outputs": [
    {
     "ename": "TypeError",
     "evalue": "__call__() missing 1 required positional argument: 'mask'",
     "output_type": "error",
     "traceback": [
      "\u001b[0;31m---------------------------------------------------------------------------\u001b[0m",
      "\u001b[0;31mTypeError\u001b[0m                                 Traceback (most recent call last)",
      "\u001b[0;32m<ipython-input-16-24ea3ef64a2c>\u001b[0m in \u001b[0;36m<module>\u001b[0;34m()\u001b[0m\n\u001b[0;32m----> 1\u001b[0;31m \u001b[0mimg\u001b[0m\u001b[0;34m,\u001b[0m \u001b[0mmask\u001b[0m \u001b[0;34m=\u001b[0m \u001b[0mvalid_dataset\u001b[0m\u001b[0;34m[\u001b[0m\u001b[0;36m7\u001b[0m\u001b[0;34m]\u001b[0m\u001b[0;34m\u001b[0m\u001b[0m\n\u001b[0m\u001b[1;32m      2\u001b[0m \u001b[0mplt\u001b[0m\u001b[0;34m.\u001b[0m\u001b[0msubplot\u001b[0m\u001b[0;34m(\u001b[0m\u001b[0;36m121\u001b[0m\u001b[0;34m)\u001b[0m\u001b[0;34m\u001b[0m\u001b[0m\n\u001b[1;32m      3\u001b[0m \u001b[0mplt\u001b[0m\u001b[0;34m.\u001b[0m\u001b[0mimshow\u001b[0m\u001b[0;34m(\u001b[0m\u001b[0mimg\u001b[0m\u001b[0;34m.\u001b[0m\u001b[0mpermute\u001b[0m\u001b[0;34m(\u001b[0m\u001b[0;36m1\u001b[0m\u001b[0;34m,\u001b[0m\u001b[0;36m2\u001b[0m\u001b[0;34m,\u001b[0m\u001b[0;36m0\u001b[0m\u001b[0;34m)\u001b[0m\u001b[0;34m.\u001b[0m\u001b[0mnumpy\u001b[0m\u001b[0;34m(\u001b[0m\u001b[0;34m)\u001b[0m\u001b[0;34m*\u001b[0m\u001b[0;36m0.5\u001b[0m\u001b[0;34m+\u001b[0m\u001b[0;36m0.5\u001b[0m\u001b[0;34m)\u001b[0m\u001b[0;34m\u001b[0m\u001b[0m\n",
      "\u001b[0;32m<ipython-input-4-b6fc5ccda086>\u001b[0m in \u001b[0;36m__getitem__\u001b[0;34m(self, index)\u001b[0m\n\u001b[1;32m     15\u001b[0m         \u001b[0mmask\u001b[0m \u001b[0;34m=\u001b[0m \u001b[0;34m(\u001b[0m\u001b[0mdata\u001b[0m\u001b[0;34m[\u001b[0m\u001b[0;34m'mask'\u001b[0m\u001b[0;34m]\u001b[0m\u001b[0;34m[\u001b[0m\u001b[0;34m:\u001b[0m\u001b[0;34m,\u001b[0m\u001b[0;34m:\u001b[0m\u001b[0;34m,\u001b[0m\u001b[0;32mNone\u001b[0m\u001b[0;34m]\u001b[0m \u001b[0;34m>\u001b[0m \u001b[0;36m0.00001\u001b[0m\u001b[0;34m)\u001b[0m\u001b[0;34m.\u001b[0m\u001b[0mnumpy\u001b[0m\u001b[0;34m(\u001b[0m\u001b[0;34m)\u001b[0m\u001b[0;34m\u001b[0m\u001b[0m\n\u001b[1;32m     16\u001b[0m \u001b[0;34m\u001b[0m\u001b[0m\n\u001b[0;32m---> 17\u001b[0;31m         \u001b[0mimg\u001b[0m\u001b[0;34m,\u001b[0m \u001b[0mmask\u001b[0m \u001b[0;34m=\u001b[0m \u001b[0mself\u001b[0m\u001b[0;34m.\u001b[0m\u001b[0mtransform\u001b[0m\u001b[0;34m(\u001b[0m\u001b[0mimg\u001b[0m\u001b[0;34m,\u001b[0m \u001b[0mmask\u001b[0m\u001b[0;34m)\u001b[0m\u001b[0;34m\u001b[0m\u001b[0m\n\u001b[0m\u001b[1;32m     18\u001b[0m         \u001b[0mimg\u001b[0m\u001b[0;34m[\u001b[0m\u001b[0;34m:\u001b[0m\u001b[0;34m,\u001b[0m\u001b[0;34m:\u001b[0m\u001b[0;34m,\u001b[0m\u001b[0;36m0\u001b[0m\u001b[0;34m]\u001b[0m\u001b[0;34m,\u001b[0m \u001b[0mimg\u001b[0m\u001b[0;34m[\u001b[0m\u001b[0;34m:\u001b[0m\u001b[0;34m,\u001b[0m\u001b[0;34m:\u001b[0m\u001b[0;34m,\u001b[0m\u001b[0;36m2\u001b[0m\u001b[0;34m]\u001b[0m \u001b[0;34m=\u001b[0m \u001b[0mimg\u001b[0m\u001b[0;34m[\u001b[0m\u001b[0;34m:\u001b[0m\u001b[0;34m,\u001b[0m\u001b[0;34m:\u001b[0m\u001b[0;34m,\u001b[0m\u001b[0;36m2\u001b[0m\u001b[0;34m]\u001b[0m\u001b[0;34m,\u001b[0m \u001b[0mimg\u001b[0m\u001b[0;34m[\u001b[0m\u001b[0;34m:\u001b[0m\u001b[0;34m,\u001b[0m\u001b[0;34m:\u001b[0m\u001b[0;34m,\u001b[0m\u001b[0;36m0\u001b[0m\u001b[0;34m]\u001b[0m \u001b[0;31m#return_to_RGB\u001b[0m\u001b[0;34m\u001b[0m\u001b[0m\n\u001b[1;32m     19\u001b[0m \u001b[0;34m\u001b[0m\u001b[0m\n",
      "\u001b[0;32m/media/stas/fastdata/Notebooks/bowl/old/transforms.py\u001b[0m in \u001b[0;36m__call__\u001b[0;34m(self, x, mask)\u001b[0m\n\u001b[1;32m     11\u001b[0m     \u001b[0;32mdef\u001b[0m \u001b[0m__call__\u001b[0m\u001b[0;34m(\u001b[0m\u001b[0mself\u001b[0m\u001b[0;34m,\u001b[0m \u001b[0mx\u001b[0m\u001b[0;34m,\u001b[0m \u001b[0mmask\u001b[0m\u001b[0;34m=\u001b[0m\u001b[0;32mNone\u001b[0m\u001b[0;34m)\u001b[0m\u001b[0;34m:\u001b[0m\u001b[0;34m\u001b[0m\u001b[0m\n\u001b[1;32m     12\u001b[0m         \u001b[0;32mfor\u001b[0m \u001b[0mt\u001b[0m \u001b[0;32min\u001b[0m \u001b[0mself\u001b[0m\u001b[0;34m.\u001b[0m\u001b[0mtransforms\u001b[0m\u001b[0;34m:\u001b[0m\u001b[0;34m\u001b[0m\u001b[0m\n\u001b[0;32m---> 13\u001b[0;31m             \u001b[0mx\u001b[0m\u001b[0;34m,\u001b[0m \u001b[0mmask\u001b[0m \u001b[0;34m=\u001b[0m \u001b[0mt\u001b[0m\u001b[0;34m(\u001b[0m\u001b[0mx\u001b[0m\u001b[0;34m,\u001b[0m \u001b[0mmask\u001b[0m\u001b[0;34m)\u001b[0m\u001b[0;34m\u001b[0m\u001b[0m\n\u001b[0m\u001b[1;32m     14\u001b[0m         \u001b[0;32mreturn\u001b[0m \u001b[0mx\u001b[0m\u001b[0;34m,\u001b[0m \u001b[0mmask\u001b[0m\u001b[0;34m\u001b[0m\u001b[0m\n\u001b[1;32m     15\u001b[0m \u001b[0;34m\u001b[0m\u001b[0m\n",
      "\u001b[0;32m/media/stas/fastdata/Notebooks/bowl/old/transforms.py\u001b[0m in \u001b[0;36m__call__\u001b[0;34m(self, x, mask)\u001b[0m\n\u001b[1;32m     48\u001b[0m \u001b[0;34m\u001b[0m\u001b[0m\n\u001b[1;32m     49\u001b[0m     \u001b[0;32mdef\u001b[0m \u001b[0m__call__\u001b[0m\u001b[0;34m(\u001b[0m\u001b[0mself\u001b[0m\u001b[0;34m,\u001b[0m \u001b[0mx\u001b[0m\u001b[0;34m,\u001b[0m \u001b[0mmask\u001b[0m\u001b[0;34m=\u001b[0m\u001b[0;32mNone\u001b[0m\u001b[0;34m)\u001b[0m\u001b[0;34m:\u001b[0m\u001b[0;34m\u001b[0m\u001b[0m\n\u001b[0;32m---> 50\u001b[0;31m         \u001b[0;32mreturn\u001b[0m \u001b[0mself\u001b[0m\u001b[0;34m.\u001b[0m\u001b[0mtrans\u001b[0m\u001b[0;34m(\u001b[0m\u001b[0mx\u001b[0m\u001b[0;34m)\u001b[0m\u001b[0;34m,\u001b[0m \u001b[0mmask\u001b[0m\u001b[0;34m\u001b[0m\u001b[0m\n\u001b[0m\u001b[1;32m     51\u001b[0m \u001b[0;34m\u001b[0m\u001b[0m\n\u001b[1;32m     52\u001b[0m \u001b[0;32mclass\u001b[0m \u001b[0mRandomAugment\u001b[0m\u001b[0;34m:\u001b[0m\u001b[0;34m\u001b[0m\u001b[0m\n",
      "\u001b[0;31mTypeError\u001b[0m: __call__() missing 1 required positional argument: 'mask'"
     ]
    }
   ],
   "source": [
    "img, mask = valid_dataset[7]\n",
    "plt.subplot(121)\n",
    "plt.imshow(img.permute(1,2,0).numpy()*0.5+0.5)"
   ]
  },
  {
   "cell_type": "code",
   "execution_count": 12,
   "metadata": {},
   "outputs": [],
   "source": [
    "loss_array = []\n",
    "minimalochka = 1\n",
    "early_stop = 10\n",
    "i_will_wait = 0"
   ]
  },
  {
   "cell_type": "code",
   "execution_count": 13,
   "metadata": {
    "scrolled": true
   },
   "outputs": [
    {
     "name": "stderr",
     "output_type": "stream",
     "text": [
      " 27%|██▋       | 27/100 [03:20<09:02,  7.43s/it]"
     ]
    },
    {
     "name": "stdout",
     "output_type": "stream",
     "text": [
      "28\n",
      "CPU times: user 2min 42s, sys: 40.1 s, total: 3min 22s\n",
      "Wall time: 3min 28s\n"
     ]
    }
   ],
   "source": [
    "%%time\n",
    "for epoch in tqdm(range(100)):\n",
    "    model.train()\n",
    "    \n",
    "    for x_train, y_train  in trainloader:#train\n",
    "        ls = []\n",
    "        x_train = t.autograd.Variable(x_train).cuda()\n",
    "        y_train = t.autograd.Variable(y_train).cuda()\n",
    "        optimizer.zero_grad()\n",
    "        o = model(x_train)\n",
    "        loss = LossBinary()      \n",
    "        output = loss(o, y_train)\n",
    "        \n",
    "        output.backward()\n",
    "        optimizer.step()\n",
    "        ls.append(output.data[0])\n",
    "        \n",
    "    #model.eval()\n",
    "    \"\"\"for x_train, y_train  in validloader:#valid\n",
    "        ls = []\n",
    "        x_train = t.autograd.Variable(x_train).cuda()\n",
    "        y_train = t.autograd.Variable(y_train).cuda()\n",
    "        \n",
    "        o = model(x_train)\n",
    "        loss = LossBinary()      \n",
    "        output = loss(o, y_train)\n",
    "        ls.append(output.data[0])\n",
    "        \n",
    "    loss_array.append(np.mean(ls))\n",
    "\"\"\"\n",
    "    loss_array.append(np.mean(ls))\n",
    "    if loss_array[-1] < minimalochka:\n",
    "        minimalochka = loss_array[-1]\n",
    "        i_will_wait = 0\n",
    "        #print(epoch + 1,loss_array[-1],end=\"\")\n",
    "        torch.save(model, \"cool_model.torch\")\n",
    "    if i_will_wait > (early_stop-1):\n",
    "        print(epoch + 1)\n",
    "        break\n",
    "        \n",
    "    i_will_wait += 1"
   ]
  },
  {
   "cell_type": "code",
   "execution_count": 23,
   "metadata": {
    "scrolled": true
   },
   "outputs": [
    {
     "data": {
      "text/plain": [
       "[<matplotlib.lines.Line2D at 0x7f8a07dd9f98>]"
      ]
     },
     "execution_count": 23,
     "metadata": {},
     "output_type": "execute_result"
    },
    {
     "data": {
      "image/png": "[encoded data removed]",
      "text/plain": [
       "<matplotlib.figure.Figure at 0x7f8a0837a390>"
      ]
     },
     "metadata": {},
     "output_type": "display_data"
    }
   ],
   "source": [
    "plt.plot(loss_array)"
   ]
  },
  {
   "cell_type": "code",
   "execution_count": 13,
   "metadata": {},
   "outputs": [],
   "source": [
    "class TestDataset():\n",
    "    def __init__(self,path,source_transform):\n",
    "        self.datas = t.load(path)\n",
    "        self.s_transform = source_transform\n",
    "    def __getitem__(self, index):\n",
    "        data = self.datas[index]\n",
    "        img = data['img'].numpy()\n",
    "        img = self.s_transform(img)\n",
    "        return img\n",
    "    def __len__(self):\n",
    "        return len(self.datas)\n",
    "\n",
    "testset = TestDataset(TEST_PATH, s_trans)\n",
    "testdataloader = t.utils.data.DataLoader(testset, batch_size=100)"
   ]
  },
  {
   "cell_type": "code",
   "execution_count": 28,
   "metadata": {},
   "outputs": [],
   "source": [
    "model = torch.load(\"cool_model.torch\")\n",
    "model = model.eval()\n",
    "for data in testdataloader:\n",
    "    data = t.autograd.Variable(data, volatile=True).cuda()\n",
    "    o = model(data)\n",
    "    break"
   ]
  },
  {
   "cell_type": "code",
   "execution_count": 15,
   "metadata": {},
   "outputs": [],
   "source": [
    "o = o - o.min()\n",
    "o = o / o.max()"
   ]
  },
  {
   "cell_type": "code",
   "execution_count": 29,
   "metadata": {},
   "outputs": [
    {
     "data": {
      "text/plain": [
       "<matplotlib.image.AxesImage at 0x7fee184102b0>"
      ]
     },
     "execution_count": 29,
     "metadata": {},
     "output_type": "execute_result"
    },
    {
     "data": {
      "image/png": "[encoded data removed]",
      "text/plain": [
       "<matplotlib.figure.Figure at 0x7fee1843ea20>"
      ]
     },
     "metadata": {},
     "output_type": "display_data"
    }
   ],
   "source": [
    "i = 0\n",
    "\n",
    "#tra = 0.8\n",
    "flat = o[i][0].data.cpu().numpy()\n",
    "\n",
    "#low = flat < tra\n",
    "#high = flat >= tra\n",
    "\n",
    "#flat[low] = 0\n",
    "#flat[high] = 1\n",
    "\n",
    "plt.subplot(121)\n",
    "plt.imshow(data[i].data.cpu().permute(1,2,0).numpy()*0.5+0.5)\n",
    "plt.subplot(122)\n",
    "plt.imshow(flat)"
   ]
  },
  {
   "cell_type": "code",
   "execution_count": 19,
   "metadata": {},
   "outputs": [],
   "source": [
    "test_data = o.data.cpu().numpy()\n",
    "preds_test_t = (test_data > tra).astype(np.uint8)"
   ]
  },
  {
   "cell_type": "code",
   "execution_count": 20,
   "metadata": {},
   "outputs": [
    {
     "data": {
      "text/plain": [
       "((65, 1, 128, 128), (65, 1, 128, 128))"
      ]
     },
     "execution_count": 20,
     "metadata": {},
     "output_type": "execute_result"
    }
   ],
   "source": [
    "test_data.shape,preds_test_t.shape"
   ]
  },
  {
   "cell_type": "code",
   "execution_count": 21,
   "metadata": {},
   "outputs": [],
   "source": [
    "preds_test_upsampled = []\n",
    "for i in range(65):\n",
    "    preds_test_upsampled.append((resize(np.squeeze(preds_test_t[i][0]), \n",
    "                                       (256, 256),\n",
    "                                       mode='constant', preserve_range=True) > 0.01))"
   ]
  },
  {
   "cell_type": "code",
   "execution_count": 22,
   "metadata": {},
   "outputs": [
    {
     "data": {
      "text/plain": [
       "<matplotlib.image.AxesImage at 0x7fee181e5be0>"
      ]
     },
     "execution_count": 22,
     "metadata": {},
     "output_type": "execute_result"
    },
    {
     "data": {
      "image/png": "[encoded data removed]",
      "text/plain": [
       "<matplotlib.figure.Figure at 0x7fee183ad208>"
      ]
     },
     "metadata": {},
     "output_type": "display_data"
    }
   ],
   "source": [
    "plt.imshow(preds_test_upsampled[4])"
   ]
  },
  {
   "cell_type": "code",
   "execution_count": 23,
   "metadata": {},
   "outputs": [],
   "source": [
    "# Run-length encoding stolen from https://www.kaggle.com/rakhlin/fast-run-length-encoding-python\n",
    "def rle_encoding(x):\n",
    "    dots = np.where(x.T.flatten() == 1)[0]\n",
    "    run_lengths = []\n",
    "    prev = -2\n",
    "    for b in dots:\n",
    "        if (b>prev+1): run_lengths.extend((b + 1, 0))\n",
    "        run_lengths[-1] += 1\n",
    "        prev = b\n",
    "    return run_lengths\n",
    "\n",
    "def prob_to_rles(x, cutoff=0.5):\n",
    "    lab_img = label(x > cutoff)\n",
    "    for i in range(1, lab_img.max() + 1):\n",
    "        yield rle_encoding(lab_img == i)"
   ]
  },
  {
   "cell_type": "code",
   "execution_count": 24,
   "metadata": {},
   "outputs": [],
   "source": [
    "new_test_ids = []\n",
    "rles = []\n",
    "for n, id_ in enumerate(files):\n",
    "    rle = list(prob_to_rles(preds_test_upsampled[n]))\n",
    "    rles.extend(rle)\n",
    "    new_test_ids.extend([id_] * len(rle))"
   ]
  },
  {
   "cell_type": "code",
   "execution_count": 25,
   "metadata": {},
   "outputs": [],
   "source": [
    "# Create submission DataFrame\n",
    "sub = pd.DataFrame()\n",
    "sub['ImageId'] = new_test_ids\n",
    "sub['ImageId'] = sub.ImageId.apply(lambda x: str(x)[21:])\n",
    "sub['EncodedPixels'] = pd.Series(rles).apply(lambda x: ' '.join(str(y) for y in x))\n",
    "sub.to_csv('sub-dsbowl2018-1.csv', index=False)"
   ]
  },
  {
   "cell_type": "code",
   "execution_count": 26,
   "metadata": {},
   "outputs": [
    {
     "data": {
      "text/html": [
       "<div>\n",
       "<style scoped>\n",
       "    .dataframe tbody tr th:only-of-type {\n",
       "        vertical-align: middle;\n",
       "    }\n",
       "\n",
       "    .dataframe tbody tr th {\n",
       "        vertical-align: top;\n",
       "    }\n",
       "\n",
       "    .dataframe thead th {\n",
       "        text-align: right;\n",
       "    }\n",
       "</style>\n",
       "<table border=\"1\" class=\"dataframe\">\n",
       "  <thead>\n",
       "    <tr style=\"text-align: right;\">\n",
       "      <th></th>\n",
       "      <th>ImageId</th>\n",
       "      <th>EncodedPixels</th>\n",
       "    </tr>\n",
       "  </thead>\n",
       "  <tbody>\n",
       "    <tr>\n",
       "      <th>0</th>\n",
       "      <td>0114f484a16c152baa2d82fdd43740880a762c93f436c8...</td>\n",
       "      <td>1 5 257 5 513 5 769 3 1025 3</td>\n",
       "    </tr>\n",
       "    <tr>\n",
       "      <th>1</th>\n",
       "      <td>0114f484a16c152baa2d82fdd43740880a762c93f436c8...</td>\n",
       "      <td>64257 3 64513 3 64769 5 65025 5 65281 5</td>\n",
       "    </tr>\n",
       "    <tr>\n",
       "      <th>2</th>\n",
       "      <td>0114f484a16c152baa2d82fdd43740880a762c93f436c8...</td>\n",
       "      <td>43818 16 44074 16 44328 20 44584 20 44838 24 4...</td>\n",
       "    </tr>\n",
       "    <tr>\n",
       "      <th>3</th>\n",
       "      <td>0114f484a16c152baa2d82fdd43740880a762c93f436c8...</td>\n",
       "      <td>49504 18 49760 18 50014 22 50270 22 50524 26 5...</td>\n",
       "    </tr>\n",
       "    <tr>\n",
       "      <th>4</th>\n",
       "      <td>0114f484a16c152baa2d82fdd43740880a762c93f436c8...</td>\n",
       "      <td>9098 10 9354 10 9606 16 9862 16 10116 20 10372...</td>\n",
       "    </tr>\n",
       "  </tbody>\n",
       "</table>\n",
       "</div>"
      ],
      "text/plain": [
       "                                             ImageId  \\\n",
       "0  0114f484a16c152baa2d82fdd43740880a762c93f436c8...   \n",
       "1  0114f484a16c152baa2d82fdd43740880a762c93f436c8...   \n",
       "2  0114f484a16c152baa2d82fdd43740880a762c93f436c8...   \n",
       "3  0114f484a16c152baa2d82fdd43740880a762c93f436c8...   \n",
       "4  0114f484a16c152baa2d82fdd43740880a762c93f436c8...   \n",
       "\n",
       "                                       EncodedPixels  \n",
       "0                       1 5 257 5 513 5 769 3 1025 3  \n",
       "1            64257 3 64513 3 64769 5 65025 5 65281 5  \n",
       "2  43818 16 44074 16 44328 20 44584 20 44838 24 4...  \n",
       "3  49504 18 49760 18 50014 22 50270 22 50524 26 5...  \n",
       "4  9098 10 9354 10 9606 16 9862 16 10116 20 10372...  "
      ]
     },
     "execution_count": 26,
     "metadata": {},
     "output_type": "execute_result"
    }
   ],
   "source": [
    "sub.head()"
   ]
  },
  {
   "cell_type": "code",
   "execution_count": null,
   "metadata": {},
   "outputs": [],
   "source": []
  }
 ],
 "metadata": {
  "kernelspec": {
   "display_name": "Python 3",
   "language": "python",
   "name": "python3"
  },
  "language_info": {
   "codemirror_mode": {
    "name": "ipython",
    "version": 3
   },
   "file_extension": ".py",
   "mimetype": "text/x-python",
   "name": "python",
   "nbconvert_exporter": "python",
   "pygments_lexer": "ipython3",
   "version": "3.6.4"
  }
 },
 "nbformat": 4,
 "nbformat_minor": 2
}
