{
 "cells": [
  {
   "cell_type": "code",
   "execution_count": 113,
   "metadata": {},
   "outputs": [
    {
     "data": {
      "text/html": [
       "<style>.container { width:95% !important; }</style>"
      ],
      "text/plain": [
       "<IPython.core.display.HTML object>"
      ]
     },
     "metadata": {},
     "output_type": "display_data"
    }
   ],
   "source": [
    "import os\n",
    "import numpy as np\n",
    "import pandas as pd\n",
    "import matplotlib.pyplot as plt\n",
    "from tqdm import tqdm\n",
    "from IPython.core.display import display, HTML\n",
    "display(HTML(\"<style>.container { width:95% !important; }</style>\"))\n",
    "\n",
    "import cv2\n",
    "from pathlib import Path\n",
    "from PIL import Image\n",
    "from skimage import io\n",
    "from tqdm import tqdm\n",
    "import torch as t\n",
    "from torch.nn.modules.loss import BCELoss, BCEWithLogitsLoss\n",
    "from torch.utils import data\n",
    "from torchvision import transforms as tsf\n",
    "import torchvision\n",
    "from torch import nn\n",
    "from torch.nn import functional as F\n",
    "import torch\n",
    "from torchvision import models\n",
    "from transforms import *\n",
    "from models import *\n",
    "from skimage.transform import resize\n",
    "from skimage.morphology import label\n",
    "torch.manual_seed(1)\n",
    "\n",
    "TRAIN_PATH = './train.pth'\n",
    "TEST_PATH = './test.tph'\n",
    "%matplotlib inline"
   ]
  },
  {
   "cell_type": "code",
   "execution_count": 23,
   "metadata": {},
   "outputs": [],
   "source": [
    "class LossBinary:\n",
    "    def __init__(self, jaccard_weight=0):\n",
    "        self.nll_loss = nn.BCEWithLogitsLoss()\n",
    "        self.jaccard_weight = jaccard_weight\n",
    "\n",
    "    def __call__(self, outputs, targets):\n",
    "        loss = self.nll_loss(outputs, targets)\n",
    "\n",
    "        if self.jaccard_weight:\n",
    "            eps = 1e-15\n",
    "            jaccard_target = (targets == 1).float()\n",
    "            jaccard_output = F.sigmoid(outputs)\n",
    "\n",
    "            intersection = (jaccard_output * jaccard_target).sum()\n",
    "            union = jaccard_output.sum() + jaccard_target.sum()\n",
    "\n",
    "            loss -= self.jaccard_weight * torch.log((intersection + eps) / (union - intersection + eps))\n",
    "        return loss\n",
    "\n",
    "def to_float_tensor(img):\n",
    "    return torch.from_numpy(np.moveaxis(img, -1, 0)).float()"
   ]
  },
  {
   "cell_type": "code",
   "execution_count": 3,
   "metadata": {},
   "outputs": [
    {
     "name": "stderr",
     "output_type": "stream",
     "text": [
      "100%|██████████| 670/670 [01:11<00:00,  9.41it/s]\n",
      "100%|██████████| 65/65 [00:00<00:00, 213.82it/s]\n"
     ]
    }
   ],
   "source": [
    "def process(file_path, has_mask=True):\n",
    "    file_path = Path(file_path)\n",
    "    global files, omg\n",
    "    files = sorted(list(Path(file_path).iterdir()))\n",
    "    datas = []\n",
    "\n",
    "    for file in tqdm(files):\n",
    "        item = {}\n",
    "        imgs = []\n",
    "        for image in (file/'images').iterdir():\n",
    "            img = io.imread(image)\n",
    "            imgs.append(img)\n",
    "        #assert len(imgs)==1\n",
    "        if img.shape[2]>3:\n",
    "            omg = file\n",
    "            #assert(img[:,:,3]!=255).sum()==0\n",
    "        img = img[:,:,:3]\n",
    "\n",
    "        if has_mask:\n",
    "            mask_files = list((file/'masks').iterdir())\n",
    "            masks = None\n",
    "            for ii,mask in enumerate(mask_files):\n",
    "                mask = io.imread(mask)\n",
    "                omg = file\n",
    "                #assert (mask[(mask!=0)]==255).all()\n",
    "                if masks is None:\n",
    "                    H,W = mask.shape\n",
    "                    masks = np.zeros((len(mask_files),H,W))\n",
    "                masks[ii] = mask\n",
    "            tmp_mask = masks.sum(0)\n",
    "            omg = file\n",
    "            #assert (tmp_mask[tmp_mask!=0] == 255).all()\n",
    "            for ii,mask in enumerate(masks):\n",
    "                masks[ii] = mask/255 * (ii+1)\n",
    "            mask = masks.sum(0)\n",
    "            item['mask'] = t.from_numpy(mask)\n",
    "        item['name'] = str(file).split('/')[-1]\n",
    "        item['img'] = t.from_numpy(img)\n",
    "        datas.append(item)\n",
    "    return datas\n",
    "\n",
    "# You can skip this if you have alreadly done it.\n",
    "\n",
    "train_data = process('../data/stage1_train/')\n",
    "#t.save(train_data, TRAIN_PATH)\n",
    "test = process('../data/stage_1_test/',False)\n",
    "#t.save(test, TEST_PATH)"
   ]
  },
  {
   "cell_type": "code",
   "execution_count": 126,
   "metadata": {},
   "outputs": [
    {
     "data": {
      "text/plain": [
       "256"
      ]
     },
     "execution_count": 126,
     "metadata": {},
     "output_type": "execute_result"
    }
   ],
   "source": [
    "train_data[0][\"img\"].numpy().shape"
   ]
  },
  {
   "cell_type": "code",
   "execution_count": null,
   "metadata": {},
   "outputs": [],
   "source": [
    "class DoubleTrans:\n",
    "    def __init__(self, trans):\n",
    "        self.trans = trans\n",
    "\n",
    "    def __call__(self, x, mask=None):\n",
    "        return self.trans(x), self.trans(mask)"
   ]
  },
  {
   "cell_type": "code",
   "execution_count": null,
   "metadata": {},
   "outputs": [],
   "source": []
  },
  {
   "cell_type": "code",
   "execution_count": 131,
   "metadata": {},
   "outputs": [
    {
     "data": {
      "text/plain": [
       "94"
      ]
     },
     "execution_count": 131,
     "metadata": {},
     "output_type": "execute_result"
    }
   ],
   "source": [
    "np.random.randint(100)"
   ]
  },
  {
   "cell_type": "code",
   "execution_count": 132,
   "metadata": {},
   "outputs": [],
   "source": [
    "class RandomCrop:\n",
    "    def __init__(self, prob=.5):\n",
    "        self.prob = prob\n",
    "\n",
    "    def __call__(self, img, mask=None):\n",
    "        shape = img.shape\n",
    "        first  = np.random.randint(shape[0]-128)\n",
    "        second = np.random.randint(shape[1]-128)\n",
    "        return img[first:first+128, second:second+128,:], mask[first:first+128, second:second+128,:]"
   ]
  },
  {
   "cell_type": "code",
   "execution_count": 141,
   "metadata": {
    "scrolled": true
   },
   "outputs": [],
   "source": [
    "import PIL\n",
    "class Dataset():\n",
    "    def __init__(self, data, to_augment=False, transform=None, mode='train', problem_type=None):\n",
    "        self.datas = data\n",
    "        self.to_augment = to_augment\n",
    "        self.transform = transform\n",
    "        self.mode = mode\n",
    "        self.problem_type = problem_type\n",
    "    \n",
    "    def __getitem__(self, index):\n",
    "        data = self.datas[index]\n",
    "        img = data['img'].numpy()\n",
    "        img[:,:,0], img[:,:,2] = img[:,:,2], img[:,:,0] #to_opencv_BGR\n",
    "        \n",
    "        mask = (data['mask'][:,:,None] > 0.00001).numpy()\n",
    "\n",
    "        img, mask = self.transform(img, mask)\n",
    "        img[:,:,0], img[:,:,2] = img[:,:,2], img[:,:,0]#return_to_RGB\n",
    "\n",
    "        if self.mode == 'train':\n",
    "            if self.problem_type == 'binary':\n",
    "                return to_float_tensor(img), torch.from_numpy(np.expand_dims(mask, 0)).float()\n",
    "            else:\n",
    "                return to_float_tensor(img), torch.from_numpy(mask).long()\n",
    "        else:\n",
    "            return to_float_tensor(img), str(img_file_name)\n",
    "        \n",
    "    def __len__(self):\n",
    "        return len(self.datas)\n",
    "    \n",
    "    \n",
    "s_trans = tsf.Compose([\n",
    "    tsf.ToPILImage(),\n",
    "    tsf.Resize((128,128)),\n",
    "    tsf.ToTensor(),\n",
    "    tsf.Normalize(mean = [0.5,0.5,0.5],std = [0.5,0.5,0.5])\n",
    "]\n",
    ")\n",
    "t_trans = tsf.Compose([\n",
    "    tsf.ToPILImage(),\n",
    "    tsf.Resize((128,128),interpolation=PIL.Image.NEAREST),\n",
    "    tsf.ToTensor()]\n",
    ")"
   ]
  },
  {
   "cell_type": "code",
   "execution_count": 142,
   "metadata": {},
   "outputs": [],
   "source": [
    "train_transform = DualCompose([\n",
    "        RandomCrop(),\n",
    "        ShiftScaleRotate(),\n",
    "        HorizontalFlip(),\n",
    "        VerticalFlip(),\n",
    "        ImageOnly(RandomHueSaturationValue()),\n",
    "        ImageOnly(RandomBrightness()),\n",
    "        ImageOnly(RandomContrast()),\n",
    "        #DoubleTrans(tsf.ToPILImage()),\n",
    "        #ImageOnly(resize((128,128),interpolation=PIL.Image.NEAREST)),\n",
    "        #DoubleTrans(tsf.ToTensor()),\n",
    "        #ImageOnly(tsf.Normalize(mean = [0.5,0.5,0.5],std = [0.5,0.5,0.5]))\n",
    "        \n",
    "    ])\n",
    "\n",
    "val_transform = DualCompose([\n",
    "        ImageOnly(tsf.Normalize(mean = [0.5,0.5,0.5],std = [0.5,0.5,0.5]))\n",
    "    ])"
   ]
  },
  {
   "cell_type": "code",
   "execution_count": 143,
   "metadata": {},
   "outputs": [],
   "source": [
    "train_dataset = Dataset(train_data[:600], transform=train_transform)\n",
    "valid_dataset = Dataset(train_data[600:], transform=val_transform)\n",
    "\n",
    "trainloader = t.utils.data.DataLoader(train_dataset, batch_size = 32, shuffle = True)\n",
    "validloader = t.utils.data.DataLoader(valid_dataset, batch_size = 32, shuffle = True)"
   ]
  },
  {
   "cell_type": "code",
   "execution_count": 152,
   "metadata": {},
   "outputs": [
    {
     "data": {
      "text/plain": [
       "<matplotlib.image.AxesImage at 0x7f8e10675b38>"
      ]
     },
     "execution_count": 152,
     "metadata": {},
     "output_type": "execute_result"
    },
    {
     "data": {
      "image/png": "[encoded data removed]",
      "text/plain": [
       "<matplotlib.figure.Figure at 0x7f8e3c527668>"
      ]
     },
     "metadata": {},
     "output_type": "display_data"
    }
   ],
   "source": [
    "img,mask = train_dataset[2]\n",
    "plt.subplot(121)\n",
    "plt.imshow(img.permute(1,2,0).numpy())\n",
    "plt.subplot(122)\n",
    "plt.imshow(mask.numpy())"
   ]
  },
  {
   "cell_type": "code",
   "execution_count": 145,
   "metadata": {},
   "outputs": [
    {
     "data": {
      "text/plain": [
       "\n",
       "    0     0     0  ...      0     0     0\n",
       "    0     0     0  ...      0     0     0\n",
       "    0     0     0  ...      0     0     0\n",
       "       ...          ⋱          ...       \n",
       "    0     0     0  ...      1     1     1\n",
       "    0     0     0  ...      1     1     1\n",
       "    0     0     0  ...      1     1     1\n",
       "[torch.LongTensor of size 128x128]"
      ]
     },
     "execution_count": 145,
     "metadata": {},
     "output_type": "execute_result"
    }
   ],
   "source": [
    "mask"
   ]
  },
  {
   "cell_type": "code",
   "execution_count": 7,
   "metadata": {},
   "outputs": [],
   "source": [
    "model = AlbuNet(pretrained=True).cuda()\n",
    "optimizer = t.optim.Adam(model.parameters(),lr = 5e-4)"
   ]
  },
  {
   "cell_type": "code",
   "execution_count": 8,
   "metadata": {},
   "outputs": [],
   "source": [
    "loss_array = []\n",
    "minimalochka = 1\n",
    "early_stop = 10\n",
    "i_will_wait = 0"
   ]
  },
  {
   "cell_type": "code",
   "execution_count": 9,
   "metadata": {
    "scrolled": true
   },
   "outputs": [
    {
     "name": "stderr",
     "output_type": "stream",
     "text": [
      " 25%|██▌       | 25/100 [04:00<12:01,  9.61s/it]"
     ]
    },
    {
     "name": "stdout",
     "output_type": "stream",
     "text": [
      "26\n",
      "CPU times: user 3min 47s, sys: 22.2 s, total: 4min 9s\n",
      "Wall time: 4min 10s\n"
     ]
    }
   ],
   "source": [
    "%%time\n",
    "for epoch in tqdm(range(100)):\n",
    "    ls = []\n",
    "    model.train()\n",
    "    \n",
    "    for x_train, y_train  in trainloader:#train\n",
    "        \n",
    "        x_train = t.autograd.Variable(x_train).cuda()\n",
    "        y_train = t.autograd.Variable(y_train).cuda()\n",
    "        \n",
    "        optimizer.zero_grad()\n",
    "        o = model(x_train)\n",
    "        loss = LossBinary()      \n",
    "        output = loss(o, y_train)\n",
    "        \n",
    "        output.backward()\n",
    "        optimizer.step()\n",
    "    \n",
    "    model.eval()\n",
    "    for x_train, y_train  in validloader:#valid\n",
    "        ls = []\n",
    "        x_train = t.autograd.Variable(x_train).cuda()\n",
    "        y_train = t.autograd.Variable(y_train).cuda()\n",
    "        \n",
    "        o = model(x_train)\n",
    "        loss = LossBinary()      \n",
    "        output = loss(o, y_train)\n",
    "        ls.append(output.data[0])\n",
    "        \n",
    "    loss_array.append(np.mean(ls))\n",
    "\n",
    "    if loss_array[-1] < minimalochka:\n",
    "        minimalochka = loss_array[-1]\n",
    "        i_will_wait = 0\n",
    "        #print(epoch + 1,loss_array[-1],end=\"\")\n",
    "        torch.save(model, \"cool_model.torch\")\n",
    "    if i_will_wait > (early_stop-1):\n",
    "        print(epoch + 1)\n",
    "        break\n",
    "        \n",
    "    i_will_wait += 1"
   ]
  },
  {
   "cell_type": "code",
   "execution_count": 12,
   "metadata": {
    "scrolled": true
   },
   "outputs": [
    {
     "data": {
      "text/plain": [
       "[<matplotlib.lines.Line2D at 0x7fee184b04e0>]"
      ]
     },
     "execution_count": 12,
     "metadata": {},
     "output_type": "execute_result"
    },
    {
     "data": {
      "image/png": "[encoded data removed]",
      "text/plain": [
       "<matplotlib.figure.Figure at 0x7fee184dde10>"
      ]
     },
     "metadata": {},
     "output_type": "display_data"
    }
   ],
   "source": [
    "plt.plot(loss_array)"
   ]
  },
  {
   "cell_type": "code",
   "execution_count": 13,
   "metadata": {},
   "outputs": [],
   "source": [
    "class TestDataset():\n",
    "    def __init__(self,path,source_transform):\n",
    "        self.datas = t.load(path)\n",
    "        self.s_transform = source_transform\n",
    "    def __getitem__(self, index):\n",
    "        data = self.datas[index]\n",
    "        img = data['img'].numpy()\n",
    "        img = self.s_transform(img)\n",
    "        return img\n",
    "    def __len__(self):\n",
    "        return len(self.datas)\n",
    "\n",
    "testset = TestDataset(TEST_PATH, s_trans)\n",
    "testdataloader = t.utils.data.DataLoader(testset, batch_size=100)"
   ]
  },
  {
   "cell_type": "code",
   "execution_count": 28,
   "metadata": {},
   "outputs": [],
   "source": [
    "model = torch.load(\"cool_model.torch\")\n",
    "model = model.eval()\n",
    "for data in testdataloader:\n",
    "    data = t.autograd.Variable(data, volatile=True).cuda()\n",
    "    o = model(data)\n",
    "    break"
   ]
  },
  {
   "cell_type": "code",
   "execution_count": 15,
   "metadata": {},
   "outputs": [],
   "source": [
    "o = o - o.min()\n",
    "o = o / o.max()"
   ]
  },
  {
   "cell_type": "code",
   "execution_count": 29,
   "metadata": {},
   "outputs": [
    {
     "data": {
      "text/plain": [
       "<matplotlib.image.AxesImage at 0x7fee184102b0>"
      ]
     },
     "execution_count": 29,
     "metadata": {},
     "output_type": "execute_result"
    },
    {
     "data": {
      "image/png": "[encoded data removed]",
      "text/plain": [
       "<matplotlib.figure.Figure at 0x7fee1843ea20>"
      ]
     },
     "metadata": {},
     "output_type": "display_data"
    }
   ],
   "source": [
    "i = 0\n",
    "\n",
    "#tra = 0.8\n",
    "flat = o[i][0].data.cpu().numpy()\n",
    "\n",
    "#low = flat < tra\n",
    "#high = flat >= tra\n",
    "\n",
    "#flat[low] = 0\n",
    "#flat[high] = 1\n",
    "\n",
    "plt.subplot(121)\n",
    "plt.imshow(data[i].data.cpu().permute(1,2,0).numpy()*0.5+0.5)\n",
    "plt.subplot(122)\n",
    "plt.imshow(flat)"
   ]
  },
  {
   "cell_type": "code",
   "execution_count": 19,
   "metadata": {},
   "outputs": [],
   "source": [
    "test_data = o.data.cpu().numpy()\n",
    "preds_test_t = (test_data > tra).astype(np.uint8)"
   ]
  },
  {
   "cell_type": "code",
   "execution_count": 20,
   "metadata": {},
   "outputs": [
    {
     "data": {
      "text/plain": [
       "((65, 1, 128, 128), (65, 1, 128, 128))"
      ]
     },
     "execution_count": 20,
     "metadata": {},
     "output_type": "execute_result"
    }
   ],
   "source": [
    "test_data.shape,preds_test_t.shape"
   ]
  },
  {
   "cell_type": "code",
   "execution_count": 21,
   "metadata": {},
   "outputs": [],
   "source": [
    "preds_test_upsampled = []\n",
    "for i in range(65):\n",
    "    preds_test_upsampled.append((resize(np.squeeze(preds_test_t[i][0]), \n",
    "                                       (256, 256),\n",
    "                                       mode='constant', preserve_range=True) > 0.01))"
   ]
  },
  {
   "cell_type": "code",
   "execution_count": 22,
   "metadata": {},
   "outputs": [
    {
     "data": {
      "text/plain": [
       "<matplotlib.image.AxesImage at 0x7fee181e5be0>"
      ]
     },
     "execution_count": 22,
     "metadata": {},
     "output_type": "execute_result"
    },
    {
     "data": {
      "image/png": "[encoded data removed]",
      "text/plain": [
       "<matplotlib.figure.Figure at 0x7fee183ad208>"
      ]
     },
     "metadata": {},
     "output_type": "display_data"
    }
   ],
   "source": [
    "plt.imshow(preds_test_upsampled[4])"
   ]
  },
  {
   "cell_type": "code",
   "execution_count": 23,
   "metadata": {},
   "outputs": [],
   "source": [
    "# Run-length encoding stolen from https://www.kaggle.com/rakhlin/fast-run-length-encoding-python\n",
    "def rle_encoding(x):\n",
    "    dots = np.where(x.T.flatten() == 1)[0]\n",
    "    run_lengths = []\n",
    "    prev = -2\n",
    "    for b in dots:\n",
    "        if (b>prev+1): run_lengths.extend((b + 1, 0))\n",
    "        run_lengths[-1] += 1\n",
    "        prev = b\n",
    "    return run_lengths\n",
    "\n",
    "def prob_to_rles(x, cutoff=0.5):\n",
    "    lab_img = label(x > cutoff)\n",
    "    for i in range(1, lab_img.max() + 1):\n",
    "        yield rle_encoding(lab_img == i)"
   ]
  },
  {
   "cell_type": "code",
   "execution_count": 24,
   "metadata": {},
   "outputs": [],
   "source": [
    "new_test_ids = []\n",
    "rles = []\n",
    "for n, id_ in enumerate(files):\n",
    "    rle = list(prob_to_rles(preds_test_upsampled[n]))\n",
    "    rles.extend(rle)\n",
    "    new_test_ids.extend([id_] * len(rle))"
   ]
  },
  {
   "cell_type": "code",
   "execution_count": 25,
   "metadata": {},
   "outputs": [],
   "source": [
    "# Create submission DataFrame\n",
    "sub = pd.DataFrame()\n",
    "sub['ImageId'] = new_test_ids\n",
    "sub['ImageId'] = sub.ImageId.apply(lambda x: str(x)[21:])\n",
    "sub['EncodedPixels'] = pd.Series(rles).apply(lambda x: ' '.join(str(y) for y in x))\n",
    "sub.to_csv('sub-dsbowl2018-1.csv', index=False)"
   ]
  },
  {
   "cell_type": "code",
   "execution_count": 26,
   "metadata": {},
   "outputs": [
    {
     "data": {
      "text/html": [
       "<div>\n",
       "<style scoped>\n",
       "    .dataframe tbody tr th:only-of-type {\n",
       "        vertical-align: middle;\n",
       "    }\n",
       "\n",
       "    .dataframe tbody tr th {\n",
       "        vertical-align: top;\n",
       "    }\n",
       "\n",
       "    .dataframe thead th {\n",
       "        text-align: right;\n",
       "    }\n",
       "</style>\n",
       "<table border=\"1\" class=\"dataframe\">\n",
       "  <thead>\n",
       "    <tr style=\"text-align: right;\">\n",
       "      <th></th>\n",
       "      <th>ImageId</th>\n",
       "      <th>EncodedPixels</th>\n",
       "    </tr>\n",
       "  </thead>\n",
       "  <tbody>\n",
       "    <tr>\n",
       "      <th>0</th>\n",
       "      <td>0114f484a16c152baa2d82fdd43740880a762c93f436c8...</td>\n",
       "      <td>1 5 257 5 513 5 769 3 1025 3</td>\n",
       "    </tr>\n",
       "    <tr>\n",
       "      <th>1</th>\n",
       "      <td>0114f484a16c152baa2d82fdd43740880a762c93f436c8...</td>\n",
       "      <td>64257 3 64513 3 64769 5 65025 5 65281 5</td>\n",
       "    </tr>\n",
       "    <tr>\n",
       "      <th>2</th>\n",
       "      <td>0114f484a16c152baa2d82fdd43740880a762c93f436c8...</td>\n",
       "      <td>43818 16 44074 16 44328 20 44584 20 44838 24 4...</td>\n",
       "    </tr>\n",
       "    <tr>\n",
       "      <th>3</th>\n",
       "      <td>0114f484a16c152baa2d82fdd43740880a762c93f436c8...</td>\n",
       "      <td>49504 18 49760 18 50014 22 50270 22 50524 26 5...</td>\n",
       "    </tr>\n",
       "    <tr>\n",
       "      <th>4</th>\n",
       "      <td>0114f484a16c152baa2d82fdd43740880a762c93f436c8...</td>\n",
       "      <td>9098 10 9354 10 9606 16 9862 16 10116 20 10372...</td>\n",
       "    </tr>\n",
       "  </tbody>\n",
       "</table>\n",
       "</div>"
      ],
      "text/plain": [
       "                                             ImageId  \\\n",
       "0  0114f484a16c152baa2d82fdd43740880a762c93f436c8...   \n",
       "1  0114f484a16c152baa2d82fdd43740880a762c93f436c8...   \n",
       "2  0114f484a16c152baa2d82fdd43740880a762c93f436c8...   \n",
       "3  0114f484a16c152baa2d82fdd43740880a762c93f436c8...   \n",
       "4  0114f484a16c152baa2d82fdd43740880a762c93f436c8...   \n",
       "\n",
       "                                       EncodedPixels  \n",
       "0                       1 5 257 5 513 5 769 3 1025 3  \n",
       "1            64257 3 64513 3 64769 5 65025 5 65281 5  \n",
       "2  43818 16 44074 16 44328 20 44584 20 44838 24 4...  \n",
       "3  49504 18 49760 18 50014 22 50270 22 50524 26 5...  \n",
       "4  9098 10 9354 10 9606 16 9862 16 10116 20 10372...  "
      ]
     },
     "execution_count": 26,
     "metadata": {},
     "output_type": "execute_result"
    }
   ],
   "source": [
    "sub.head()"
   ]
  },
  {
   "cell_type": "code",
   "execution_count": null,
   "metadata": {},
   "outputs": [],
   "source": []
  }
 ],
 "metadata": {
  "kernelspec": {
   "display_name": "Python 3",
   "language": "python",
   "name": "python3"
  },
  "language_info": {
   "codemirror_mode": {
    "name": "ipython",
    "version": 3
   },
   "file_extension": ".py",
   "mimetype": "text/x-python",
   "name": "python",
   "nbconvert_exporter": "python",
   "pygments_lexer": "ipython3",
   "version": "3.6.4"
  }
 },
 "nbformat": 4,
 "nbformat_minor": 2
}
