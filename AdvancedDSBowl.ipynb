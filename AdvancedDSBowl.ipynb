{
  "nbformat": 4,
  "nbformat_minor": 0,
  "metadata": {
    "colab": {
      "name": "AdvancedDSBowl.ipynb",
      "version": "0.3.2",
      "views": {},
      "default_view": {},
      "provenance": [
        {
          "file_id": "11nJJUJkpHAOTWJ7ahpjXnzXPMeV59PPK",
          "timestamp": 1522764862769
        }
      ],
      "collapsed_sections": []
    },
    "kernelspec": {
      "name": "python3",
      "display_name": "Python 3"
    },
    "accelerator": "GPU"
  },
  "cells": [
    {
      "metadata": {
        "id": "9upu9R5oBai0",
        "colab_type": "code",
        "colab": {
          "autoexec": {
            "startup": false,
            "wait_interval": 0
          },
          "output_extras": [
            {}
          ],
          "base_uri": "https://localhost:8080/",
          "height": 105
        },
        "outputId": "c0b6519a-0615-4138-8221-14c79bbba322",
        "executionInfo": {
          "status": "ok",
          "timestamp": 1522934634758,
          "user_tz": -180,
          "elapsed": 16515,
          "user": {
            "displayName": "Даниил Ларионов",
            "photoUrl": "//lh3.googleusercontent.com/-ctIQBLRHGYI/AAAAAAAAAAI/AAAAAAAAABg/_SlKdw9EHys/s50-c-k-no/photo.jpg",
            "userId": "100808819455405962260"
          }
        }
      },
      "cell_type": "code",
      "source": [
        "!apt-get install -y -qq software-properties-common python-software-properties module-init-tools\n",
        "!add-apt-repository -y ppa:alessandro-strada/ppa 2>&1 > /dev/null\n",
        "!apt-get update -qq 2>&1 > /dev/null\n",
        "!apt-get -y install -qq google-drive-ocamlfuse fuse\n",
        "from google.colab import auth\n",
        "auth.authenticate_user()\n",
        "from oauth2client.client import GoogleCredentials\n",
        "creds = GoogleCredentials.get_application_default()\n",
        "import getpass\n",
        "!google-drive-ocamlfuse -headless -id={creds.client_id} -secret={creds.client_secret} < /dev/null 2>&1 | grep URL\n",
        "vcode = getpass.getpass()\n",
        "!echo {vcode} | google-drive-ocamlfuse -headless -id={creds.client_id} -secret={creds.client_secret}"
      ],
      "execution_count": 0,
      "outputs": [
        {
          "output_type": "stream",
          "text": [
            "Please, open the following URL in a web browser: https://accounts.google.com/o/oauth2/auth?client_id=32555940559.apps.googleusercontent.com&redirect_uri=urn%3Aietf%3Awg%3Aoauth%3A2.0%3Aoob&scope=https%3A%2F%2Fwww.googleapis.com%2Fauth%2Fdrive&response_type=code&access_type=offline&approval_prompt=force\r\n",
            "··········\n",
            "Please, open the following URL in a web browser: https://accounts.google.com/o/oauth2/auth?client_id=32555940559.apps.googleusercontent.com&redirect_uri=urn%3Aietf%3Awg%3Aoauth%3A2.0%3Aoob&scope=https%3A%2F%2Fwww.googleapis.com%2Fauth%2Fdrive&response_type=code&access_type=offline&approval_prompt=force\n",
            "Please enter the verification code: Access token retrieved correctly.\n"
          ],
          "name": "stdout"
        }
      ]
    },
    {
      "metadata": {
        "id": "OouRzDzTBdMe",
        "colab_type": "code",
        "colab": {
          "autoexec": {
            "startup": false,
            "wait_interval": 0
          },
          "output_extras": [
            {}
          ],
          "base_uri": "https://localhost:8080/",
          "height": 51
        },
        "outputId": "39a0047f-8815-43c4-b105-96333bdb6592",
        "executionInfo": {
          "status": "ok",
          "timestamp": 1522934649481,
          "user_tz": -180,
          "elapsed": 4595,
          "user": {
            "displayName": "Даниил Ларионов",
            "photoUrl": "//lh3.googleusercontent.com/-ctIQBLRHGYI/AAAAAAAAAAI/AAAAAAAAABg/_SlKdw9EHys/s50-c-k-no/photo.jpg",
            "userId": "100808819455405962260"
          }
        }
      },
      "cell_type": "code",
      "source": [
        "!mkdir -p drive\n",
        "!google-drive-ocamlfuse drive"
      ],
      "execution_count": 0,
      "outputs": [
        {
          "output_type": "stream",
          "text": [
            "fuse: mountpoint is not empty\r\n",
            "fuse: if you are sure this is safe, use the 'nonempty' mount option\r\n"
          ],
          "name": "stdout"
        }
      ]
    },
    {
      "metadata": {
        "id": "P__JJXAkDmxz",
        "colab_type": "code",
        "colab": {
          "autoexec": {
            "startup": false,
            "wait_interval": 0
          },
          "output_extras": [
            {}
          ],
          "base_uri": "https://localhost:8080/",
          "height": 68
        },
        "outputId": "6b4b55bc-1ea5-4dba-cb7a-fed43fe2a21b",
        "executionInfo": {
          "status": "ok",
          "timestamp": 1522934651850,
          "user_tz": -180,
          "elapsed": 2111,
          "user": {
            "displayName": "Даниил Ларионов",
            "photoUrl": "//lh3.googleusercontent.com/-ctIQBLRHGYI/AAAAAAAAAAI/AAAAAAAAABg/_SlKdw9EHys/s50-c-k-no/photo.jpg",
            "userId": "100808819455405962260"
          }
        }
      },
      "cell_type": "code",
      "source": [
        "!ls drive/bowl/models"
      ],
      "execution_count": 0,
      "outputs": [
        {
          "output_type": "stream",
          "text": [
            "albunet32.pth\t\tstarterkit2cc2.pth  starterkit_albunet.pth\r\n",
            "albunet.pth\t\tstarterkit2cc.pth   starterkit.pth\r\n",
            "starterkit2cc2mod1.pth\tstarterkit2.pth     unet16.pth\r\n"
          ],
          "name": "stdout"
        }
      ]
    },
    {
      "metadata": {
        "id": "svrq85i57Dyq",
        "colab_type": "code",
        "colab": {
          "autoexec": {
            "startup": false,
            "wait_interval": 0
          }
        }
      },
      "cell_type": "code",
      "source": [
        "!mkdir bowl/"
      ],
      "execution_count": 0,
      "outputs": []
    },
    {
      "metadata": {
        "id": "-7_OtvOqykPQ",
        "colab_type": "code",
        "colab": {
          "autoexec": {
            "startup": false,
            "wait_interval": 0
          }
        }
      },
      "cell_type": "code",
      "source": [
        "!mkdir bowl/stage1_train/"
      ],
      "execution_count": 0,
      "outputs": []
    },
    {
      "metadata": {
        "id": "LWk0P0G6Gtk4",
        "colab_type": "code",
        "colab": {
          "autoexec": {
            "startup": false,
            "wait_interval": 0
          }
        }
      },
      "cell_type": "code",
      "source": [
        "!mkdir bowl/stage1_test/"
      ],
      "execution_count": 0,
      "outputs": []
    },
    {
      "metadata": {
        "id": "JFyqj2Kp22fj",
        "colab_type": "code",
        "colab": {
          "autoexec": {
            "startup": false,
            "wait_interval": 0
          }
        }
      },
      "cell_type": "code",
      "source": [
        "!unzip drive/bowl/stage1_train.zip -d bowl/stage1_train/"
      ],
      "execution_count": 0,
      "outputs": []
    },
    {
      "metadata": {
        "id": "wSwAqijPGngt",
        "colab_type": "code",
        "colab": {
          "autoexec": {
            "startup": false,
            "wait_interval": 0
          }
        }
      },
      "cell_type": "code",
      "source": [
        "!unzip drive/bowl/stage1_test.zip -d bowl/stage1_test/"
      ],
      "execution_count": 0,
      "outputs": []
    },
    {
      "metadata": {
        "id": "h82YDIGtADv7",
        "colab_type": "code",
        "colab": {
          "autoexec": {
            "startup": false,
            "wait_interval": 0
          }
        }
      },
      "cell_type": "code",
      "source": [
        "!pip install telepyth"
      ],
      "execution_count": 0,
      "outputs": []
    },
    {
      "metadata": {
        "id": "AScAAjYT4WQJ",
        "colab_type": "code",
        "colab": {
          "autoexec": {
            "startup": false,
            "wait_interval": 0
          }
        }
      },
      "cell_type": "code",
      "source": [
        "# http://pytorch.org/\n",
        "from os import path\n",
        "from wheel.pep425tags import get_abbr_impl, get_impl_ver, get_abi_tag\n",
        "platform = '{}{}-{}'.format(get_abbr_impl(), get_impl_ver(), get_abi_tag())\n",
        "\n",
        "accelerator = 'cu80' if path.exists('/opt/bin/nvidia-smi') else 'cpu'\n",
        "\n",
        "!pip install -q http://download.pytorch.org/whl/{accelerator}/torch-0.3.0.post4-{platform}-linux_x86_64.whl torchvision"
      ],
      "execution_count": 0,
      "outputs": []
    },
    {
      "metadata": {
        "id": "tLheHgV71FKM",
        "colab_type": "code",
        "colab": {
          "autoexec": {
            "startup": false,
            "wait_interval": 0
          }
        }
      },
      "cell_type": "code",
      "source": [
        "import pandas as pd\n",
        "import numpy as np\n",
        "\n",
        "import cv2\n",
        "import os\n",
        "\n",
        "import torch\n",
        "import torchvision\n",
        "from torch import nn\n",
        "import torch.nn.functional as F\n",
        "from torch.autograd import Variable\n",
        "from torch.optim import Adam\n",
        "\n",
        "import matplotlib.pyplot as plt\n",
        "import matplotlib.cm as cm  \n",
        "\n",
        "%matplotlib inline"
      ],
      "execution_count": 0,
      "outputs": []
    },
    {
      "metadata": {
        "id": "PILuYWTMQyGd",
        "colab_type": "code",
        "colab": {
          "autoexec": {
            "startup": false,
            "wait_interval": 0
          }
        }
      },
      "cell_type": "code",
      "source": [
        "from torchvision import transforms, utils\n",
        "from skimage import io, transform"
      ],
      "execution_count": 0,
      "outputs": []
    },
    {
      "metadata": {
        "id": "PrmRN6LA4NHc",
        "colab_type": "code",
        "colab": {
          "autoexec": {
            "startup": false,
            "wait_interval": 0
          }
        }
      },
      "cell_type": "code",
      "source": [
        "def imshow_args(x):\n",
        "    \"\"\"Matplotlib imshow arguments for plotting.\"\"\"\n",
        "    if len(x.shape)==2: return x, cm.gray\n",
        "    if x.shape[2]==1: return x[:,:,0], cm.gray\n",
        "    return x, None\n",
        "  \n",
        "def read_image(filepath, color_mode=cv2.IMREAD_COLOR, target_size=None):\n",
        "    \"\"\"Read an image from a file and resize it.\"\"\"\n",
        "    img = cv2.imread(filepath, color_mode)\n",
        "    if target_size: \n",
        "        img = cv2.resize(img, target_size, interpolation = cv2.INTER_AREA)\n",
        "    return img\n",
        "      \n",
        "def read_mask(directory, target_size=None):\n",
        "    \"\"\"Read and resize masks contained in a given directory.\"\"\"\n",
        "    for i,filename in enumerate(next(os.walk(directory))[2]):\n",
        "        mask_path = os.path.join(directory, filename)\n",
        "        mask_tmp = read_image(mask_path, cv2.IMREAD_GRAYSCALE, target_size)\n",
        "        if not i: mask = mask_tmp\n",
        "        else: mask = np.maximum(mask, mask_tmp)\n",
        "    return mask \n",
        "\n",
        "def normalize(data, type_=1): \n",
        "    \"\"\"Normalize data.\"\"\"\n",
        "    if type_==0:\n",
        "        # Convert pixel values from [0:255] to [0:1] by global factor\n",
        "        data = data.astype(np.float32) / data.max()\n",
        "    if type_==1:\n",
        "        # Convert pixel values from [0:255] to [0:1] by local factor\n",
        "        div = data.max(axis=tuple(np.arange(1,len(data.shape))), keepdims=True) \n",
        "        div[div < 0.01*data.mean()] = 1. # protect against too small pixel intensities\n",
        "        data = data.astype(np.float32)/div\n",
        "    if type_==2:\n",
        "        # Standardisation of each image \n",
        "        data = data.astype(np.float32) / data.max() \n",
        "        mean = data.mean(axis=tuple(np.arange(1,len(data.shape))), keepdims=True) \n",
        "        std = data.std(axis=tuple(np.arange(1,len(data.shape))), keepdims=True) \n",
        "        data = (data-mean)/std\n",
        "\n",
        "    return data\n",
        "  \n",
        "def invert_imgs(imgs, cutoff=.5):\n",
        "    '''Invert image if mean value is greater than cutoff.'''\n",
        "    imgs = np.array(list(map(lambda x: 1.-x if np.mean(x)<cutoff else x, imgs)))\n",
        "    return normalize(imgs)"
      ],
      "execution_count": 0,
      "outputs": []
    },
    {
      "metadata": {
        "id": "oTqiR_y59p1x",
        "colab_type": "code",
        "colab": {
          "autoexec": {
            "startup": false,
            "wait_interval": 0
          }
        }
      },
      "cell_type": "code",
      "source": [
        "def process(img_rgb):\n",
        "    #green channel happends to produce slightly better results\n",
        "    #than the grayscale image and other channels\n",
        "    img_gray=img_rgb[:,:,1]#cv2.cvtColor(img_rgb, cv2.COLOR_BGR2GRAY)\n",
        "    #morphological opening (size tuned on training data)\n",
        "    circle7=cv2.getStructuringElement(cv2.MORPH_ELLIPSE,(7,7))\n",
        "    img_open=cv2.morphologyEx(img_gray, cv2.MORPH_OPEN, circle7)\n",
        "    #Otsu thresholding\n",
        "    img_th=cv2.threshold(img_open,0,255,cv2.THRESH_OTSU)[1]\n",
        "    #Invert the image in case the objects of interest are in the dark side\n",
        "    if(np.sum(img_th==255)>np.sum(img_th==0)):\n",
        "        img_th=cv2.bitwise_not(img_th)\n",
        "    #second morphological opening (on binary image this time)\n",
        "    bin_open=cv2.morphologyEx(img_th, cv2.MORPH_OPEN, circle7) \n",
        "    #connected components\n",
        "    cc=cv2.connectedComponents(bin_open)[1]\n",
        "    #cc=segment_on_dt(bin_open,20)\n",
        "    return cc"
      ],
      "execution_count": 0,
      "outputs": []
    },
    {
      "metadata": {
        "id": "FMQ-ot6H0BJQ",
        "colab_type": "code",
        "colab": {
          "autoexec": {
            "startup": false,
            "wait_interval": 0
          }
        }
      },
      "cell_type": "code",
      "source": [
        "class ConvRelu(nn.Module):\n",
        "    def __init__(self, in_, out):\n",
        "        super().__init__()\n",
        "        self.conv = conv3x3(in_, out)\n",
        "        self.activation = nn.ReLU(inplace=True)\n",
        "\n",
        "    def forward(self, x):\n",
        "        x = self.conv(x)\n",
        "        x = self.activation(x)\n",
        "        return x"
      ],
      "execution_count": 0,
      "outputs": []
    },
    {
      "metadata": {
        "id": "G5-X2NIt0KAt",
        "colab_type": "code",
        "colab": {
          "autoexec": {
            "startup": false,
            "wait_interval": 0
          }
        }
      },
      "cell_type": "code",
      "source": [
        "def conv3x3(in_, out):\n",
        "    return nn.Conv2d(in_, out, 3, padding=1)"
      ],
      "execution_count": 0,
      "outputs": []
    },
    {
      "metadata": {
        "id": "zIpnveYrznAP",
        "colab_type": "code",
        "colab": {
          "autoexec": {
            "startup": false,
            "wait_interval": 0
          }
        }
      },
      "cell_type": "code",
      "source": [
        "class DecoderBlockV2(nn.Module):\n",
        "    def __init__(self, in_channels, middle_channels, out_channels, is_deconv=True):\n",
        "        super(DecoderBlockV2, self).__init__()\n",
        "        self.in_channels = in_channels\n",
        "\n",
        "        if is_deconv:\n",
        "            \"\"\"\n",
        "                Paramaters for Deconvolution were chosen to avoid artifacts, following\n",
        "                link https://distill.pub/2016/deconv-checkerboard/\n",
        "            \"\"\"\n",
        "\n",
        "            self.block = nn.Sequential(\n",
        "                ConvRelu(in_channels, middle_channels),\n",
        "                nn.ConvTranspose2d(middle_channels, out_channels, kernel_size=4, stride=2,\n",
        "                                   padding=1),\n",
        "                nn.ReLU(inplace=True)\n",
        "            )\n",
        "        else:\n",
        "            self.block = nn.Sequential(\n",
        "                nn.Upsample(scale_factor=2, mode='bilinear'),\n",
        "                ConvRelu(in_channels, middle_channels),\n",
        "                ConvRelu(middle_channels, out_channels),\n",
        "            )\n",
        "\n",
        "    def forward(self, x):\n",
        "        return self.block(x)\n"
      ],
      "execution_count": 0,
      "outputs": []
    },
    {
      "metadata": {
        "id": "x4dpiKmfyaiI",
        "colab_type": "code",
        "colab": {
          "autoexec": {
            "startup": false,
            "wait_interval": 0
          }
        }
      },
      "cell_type": "code",
      "source": [
        "class AlbuNet(nn.Module):\n",
        "    \"\"\"\n",
        "        UNet (https://arxiv.org/abs/1505.04597) with Resnet34(https://arxiv.org/abs/1512.03385) encoder\n",
        "        Proposed by Alexander Buslaev: https://www.linkedin.com/in/al-buslaev/\n",
        "        \"\"\"\n",
        "\n",
        "    def __init__(self, num_classes=1, num_filters=32, pretrained=False, is_deconv=False):\n",
        "        \"\"\"\n",
        "        :param num_classes:\n",
        "        :param num_filters:\n",
        "        :param pretrained:\n",
        "            False - no pre-trained network is used\n",
        "            True  - encoder is pre-trained with resnet34\n",
        "        :is_deconv:\n",
        "            False: bilinear interpolation is used in decoder\n",
        "            True: deconvolution is used in decoder\n",
        "        \"\"\"\n",
        "        super().__init__()\n",
        "        self.num_classes = num_classes\n",
        "\n",
        "        self.pool = nn.MaxPool2d(2, 2)\n",
        "\n",
        "        self.encoder = torchvision.models.resnet34(pretrained=pretrained)\n",
        "\n",
        "        self.relu = nn.ReLU(inplace=True)\n",
        "\n",
        "        self.conv1 = nn.Sequential(self.encoder.conv1,\n",
        "                                   self.encoder.bn1,\n",
        "                                   self.encoder.relu,\n",
        "                                   self.pool)\n",
        "\n",
        "        self.conv2 = self.encoder.layer1\n",
        "\n",
        "        self.conv3 = self.encoder.layer2\n",
        "\n",
        "        self.conv4 = self.encoder.layer3\n",
        "\n",
        "        self.conv5 = self.encoder.layer4\n",
        "\n",
        "        self.center = DecoderBlockV2(512, num_filters * 8 * 2, num_filters * 8, is_deconv)\n",
        "\n",
        "        self.dec5 = DecoderBlockV2(512 + num_filters * 8, num_filters * 8 * 2, num_filters * 8, is_deconv)\n",
        "        self.dec4 = DecoderBlockV2(256 + num_filters * 8, num_filters * 8 * 2, num_filters * 8, is_deconv)\n",
        "        self.dec3 = DecoderBlockV2(128 + num_filters * 8, num_filters * 4 * 2, num_filters * 2, is_deconv)\n",
        "        self.dec2 = DecoderBlockV2(64 + num_filters * 2, num_filters * 2 * 2, num_filters * 2 * 2, is_deconv)\n",
        "        self.dec1 = DecoderBlockV2(num_filters * 2 * 2, num_filters * 2 * 2, num_filters, is_deconv)\n",
        "        self.dec0 = ConvRelu(num_filters, num_filters)\n",
        "        self.final = nn.Conv2d(num_filters, num_classes, kernel_size=1)\n",
        "\n",
        "    def forward(self, x):\n",
        "        conv1 = self.conv1(x)\n",
        "        conv2 = self.conv2(conv1)\n",
        "        conv3 = self.conv3(conv2)\n",
        "        conv4 = self.conv4(conv3)\n",
        "        conv5 = self.conv5(conv4)\n",
        "\n",
        "        center = self.center(self.pool(conv5))\n",
        "\n",
        "        dec5 = self.dec5(torch.cat([center, conv5], 1))\n",
        "\n",
        "        dec4 = self.dec4(torch.cat([dec5, conv4], 1))\n",
        "        dec3 = self.dec3(torch.cat([dec4, conv3], 1))\n",
        "        dec2 = self.dec2(torch.cat([dec3, conv2], 1))\n",
        "        dec1 = self.dec1(dec2)\n",
        "        dec0 = self.dec0(dec1)\n",
        "\n",
        "        if self.num_classes > 1:\n",
        "            x_out = F.log_softmax(self.final(dec0), dim=1)\n",
        "        else:\n",
        "            x_out = self.final(dec0)\n",
        "\n",
        "        return x_out"
      ],
      "execution_count": 0,
      "outputs": []
    },
    {
      "metadata": {
        "id": "Sru4SRriRW_l",
        "colab_type": "code",
        "colab": {
          "autoexec": {
            "startup": false,
            "wait_interval": 0
          }
        }
      },
      "cell_type": "code",
      "source": [
        "from torch.utils.data import *\n",
        "class DSB2018Dataset(Dataset):\n",
        "    def __init__(self, root_dir, img_id, train=True, transform=None):\n",
        "        \"\"\"\n",
        "        Args:\n",
        "        :param root_dir (string): Directory with all the images\n",
        "        :param img_id (list): lists of image id\n",
        "        :param train: if equals true, then read training set, so the output is image, mask and imgId\n",
        "                      if equals false, then read testing set, so the output is image and imgId\n",
        "        :param transform (callable, optional): Optional transform to be applied on a sample\n",
        "        \"\"\"\n",
        "        self.root_dir = root_dir\n",
        "        self.img_id = img_id\n",
        "        self.train = train\n",
        "        self.transform = transform\n",
        "        self.images = [os.path.join(root_dir, train_id, 'images', train_id + '.png') for train_id in img_id]\n",
        "        if train:\n",
        "          self.train_masks = {train_id: [os.path.join(root_dir, train_id, 'masks', img_name) for img_name in os.listdir(os.path.join(root_dir, train_id, 'masks'))] for train_id in img_id}\n",
        "        \n",
        "    def __len__(self):\n",
        "        return len(self.img_id)\n",
        "\n",
        "    def __getitem__(self, idx):\n",
        "        if self.train:\n",
        "            \n",
        "            \n",
        "            img_dir = os.path.join(TRAIN_DIR, self.img_id[idx], 'images', self.img_id[idx] + '.png')\n",
        "            img = cv2.imread(img_dir)\n",
        "            #img_cc = process(img)\n",
        "            #img_cc = img_cc.reshape(img_cc.shape[0], img_cc.shape[1], 1)\n",
        "            #img = np.concatenate((img, img_cc), axis=2)\n",
        "            mask = sum((cv2.imread(train_mask)[..., 0] for train_mask in self.train_masks[self.img_id[idx]]))\n",
        "            mask = np.expand_dims(mask, axis=-1)\n",
        "            mask = np.expand_dims(np.swapaxes(mask, 2, 0), 0) / 255.0\n",
        "            img = np.expand_dims(np.swapaxes(img, 2, 0), 0) / 255.0\n",
        "            sample = {'image': torch.FloatTensor(img), 'mask': torch.FloatTensor(mask), 'img_id':self.img_id[idx], \"height\":img.shape[0], \"width\":img.shape[1]}\n",
        "\n",
        "        else:\n",
        "            img_dir = os.path.join(self.root_dir, self.img_id[idx], 'images', self.img_id[idx] + '.png')\n",
        "            img = cv2.imread(img_dir)\n",
        "            #img_cc = process(img)\n",
        "            #img_cc = img_cc.reshape(img_cc.shape[0], img_cc.shape[1], 1)\n",
        "            #img = np.concatenate((img, img_cc), axis=2)\n",
        "            img = np.expand_dims(np.swapaxes(img, 2, 0), 0) / 255.0\n",
        "            size = (img.shape[0],img.shape[1])  # (Height, Weidth)\n",
        "            sample = {'image': torch.FloatTensor(img), 'img_id': self.img_id[idx], \"height\":img.shape[0], \"width\":img.shape[1]}\n",
        "\n",
        "        if self.transform:\n",
        "            sample = self.transform(sample)\n",
        "\n",
        "        return sample"
      ],
      "execution_count": 0,
      "outputs": []
    },
    {
      "metadata": {
        "id": "w5froGrdkZbV",
        "colab_type": "code",
        "colab": {
          "autoexec": {
            "startup": false,
            "wait_interval": 0
          }
        }
      },
      "cell_type": "code",
      "source": [
        "class LossBinary:\n",
        "    def __init__(self, jaccard_weight=0):\n",
        "        self.nll_loss = nn.BCEWithLogitsLoss()\n",
        "        self.jaccard_weight = jaccard_weight\n",
        "\n",
        "    def __call__(self, outputs, targets):\n",
        "        loss = self.nll_loss(outputs, targets)\n",
        "\n",
        "        if self.jaccard_weight:\n",
        "            eps = 1e-15\n",
        "            jaccard_target = (targets == 1).float()\n",
        "            jaccard_output = F.sigmoid(outputs)\n",
        "\n",
        "            intersection = (jaccard_output * jaccard_target).sum()\n",
        "            union = jaccard_output.sum() + jaccard_target.sum()\n",
        "\n",
        "            loss -= self.jaccard_weight * torch.log((intersection + eps) / (union - intersection + eps))\n",
        "        return loss"
      ],
      "execution_count": 0,
      "outputs": []
    },
    {
      "metadata": {
        "id": "ADlDwVvvoA_E",
        "colab_type": "code",
        "colab": {
          "autoexec": {
            "startup": false,
            "wait_interval": 0
          }
        }
      },
      "cell_type": "code",
      "source": [
        "model_path = \"drive/bowl/models/\"\n",
        "submission_path = \"drive/bowl/submissions/\"\n",
        "model_name = \"starterkit_albunet\"\n",
        "model_file = model_name + '.pth'\n",
        "submission_file = model_name + '.csv'"
      ],
      "execution_count": 0,
      "outputs": []
    },
    {
      "metadata": {
        "id": "HY-KlIzA1FKT",
        "colab_type": "code",
        "colab": {
          "autoexec": {
            "startup": false,
            "wait_interval": 0
          }
        }
      },
      "cell_type": "code",
      "source": [
        "TRAIN_DIR = 'bowl/stage1_train/'\n",
        "\n",
        "train_ids = os.listdir(TRAIN_DIR)\n",
        "train_images = [os.path.join(TRAIN_DIR, train_id, 'images', train_id + '.png') \n",
        "                for train_id in train_ids]\n",
        "train_masks = {train_id: [os.path.join(TRAIN_DIR, train_id, 'masks', img_name) \n",
        "                          for img_name in os.listdir(os.path.join(TRAIN_DIR, train_id, 'masks'))]\n",
        "               for train_id in train_ids}"
      ],
      "execution_count": 0,
      "outputs": []
    },
    {
      "metadata": {
        "id": "gKSfADLb1FK5",
        "colab_type": "code",
        "colab": {
          "autoexec": {
            "startup": false,
            "wait_interval": 0
          }
        }
      },
      "cell_type": "code",
      "source": [
        "TEST_DIR = 'bowl/stage1_test/'\n",
        "test_ids = os.listdir(TEST_DIR)\n",
        "test_images = [os.path.join(TEST_DIR, test_id, 'images', test_id + '.png') \n",
        "                for test_id in test_ids]"
      ],
      "execution_count": 0,
      "outputs": []
    },
    {
      "metadata": {
        "id": "iH36GMB60X0s",
        "colab_type": "code",
        "colab": {
          "autoexec": {
            "startup": false,
            "wait_interval": 0
          },
          "output_extras": [
            {
              "item_id": 1
            },
            {
              "item_id": 2
            },
            {
              "item_id": 3
            },
            {
              "item_id": 4
            }
          ],
          "base_uri": "https://localhost:8080/",
          "height": 880
        },
        "outputId": "3771ec2e-7cdc-41fc-db42-524248b7cfa9",
        "executionInfo": {
          "status": "ok",
          "timestamp": 1522951216471,
          "user_tz": -180,
          "elapsed": 964,
          "user": {
            "displayName": "Даниил Ларионов",
            "photoUrl": "//lh3.googleusercontent.com/-ctIQBLRHGYI/AAAAAAAAAAI/AAAAAAAAABg/_SlKdw9EHys/s50-c-k-no/photo.jpg",
            "userId": "100808819455405962260"
          }
        }
      },
      "cell_type": "code",
      "source": [
        "def precision_at(threshold, iou):\n",
        "    matches = iou > threshold\n",
        "    true_positives = np.sum(matches, axis=1) == 1   # Correct objects\n",
        "    false_positives = np.sum(matches, axis=0) == 0  # Missed objects\n",
        "    false_negatives = np.sum(matches, axis=1) == 0  # Extra objects\n",
        "    tp, fp, fn = np.sum(true_positives), np.sum(false_positives), np.sum(false_negatives)\n",
        "    return tp, fp, fn\n",
        "\n",
        "def iou_t(target, pred):\n",
        "  target_y = label(target > 0.5)\n",
        "  pred_y = label(pred > 0.5)\n",
        "  true_objs = len(np.unique(target_y))\n",
        "  pred_objs = len(np.unique(pred_y))\n",
        "  intersection = np.histogram2d(target_y.flatten(),\n",
        "                                pred_y.flatten(),\n",
        "                                bins=(true_objs, pred_objs))[0]\n",
        "  \n",
        "  area_true = np.histogram(target_y, bins = true_objs)[0]\n",
        "  area_pred = np.histogram(pred_y, bins = pred_objs)[0]\n",
        "  area_true = np.expand_dims(area_true, -1)\n",
        "  area_pred = np.expand_dims(area_pred, 0)\n",
        "  \n",
        "  union = area_true + area_pred - intersection\n",
        "  \n",
        "  intersection = intersection[1:,1:]\n",
        "  union = union[1:,1:]\n",
        "  union[union == 0] = 1e-9\n",
        "\n",
        "  iou = intersection / union\n",
        "  \n",
        "  prec = []\n",
        "  for t in np.arange(0.5, 1.0, 0.05):\n",
        "    tp, fp, fn = precision_at(t, iou)\n",
        "    p = tp / (tp + fp + fn)\n",
        "    prec.append(p)\n",
        "  return np.mean(prec)\n",
        "\n"
      ],
      "execution_count": 84,
      "outputs": [
        {
          "output_type": "stream",
          "text": [
            "image:  431b9b0c520a28375b5a0c18d0a5039dd62cbca7c4a0bcc25af3b763d4a81bec\n",
            "sizes:  torch.Size([3, 256, 256])\n",
            "mask:  torch.Size([1, 256, 256])\n",
            "pred:  torch.Size([1, 256, 256])\n",
            "IoU metric value:  0.6262121212121212\n"
          ],
          "name": "stdout"
        },
        {
          "output_type": "display_data",
          "data": {
            "image/png": "[encoded data removed]",
            "text/plain": [
              "<matplotlib.figure.Figure at 0x7f0a7e474d30>"
            ]
          },
          "metadata": {
            "tags": []
          }
        },
        {
          "output_type": "display_data",
          "data": {
            "image/png": "[encoded data removed]",
            "text/plain": [
              "<matplotlib.figure.Figure at 0x7f0a7e54ad68>"
            ]
          },
          "metadata": {
            "tags": []
          }
        },
        {
          "output_type": "display_data",
          "data": {
            "image/png": "[encoded data removed]",
            "text/plain": [
              "<matplotlib.figure.Figure at 0x7f0a7dba21d0>"
            ]
          },
          "metadata": {
            "tags": []
          }
        }
      ]
    },
    {
      "metadata": {
        "id": "XCsZ0LUo5ROl",
        "colab_type": "code",
        "colab": {
          "autoexec": {
            "startup": false,
            "wait_interval": 0
          }
        }
      },
      "cell_type": "code",
      "source": [
        "def find_conventional_images(ids, _dir):\n",
        "  fails = []\n",
        "  for i in ids:\n",
        "    img = read_image(os.path.join(_dir, i, 'images', i + '.png'))\n",
        "    h = img.shape[0]\n",
        "    w = img.shape[1]\n",
        "    if h % 32 == 0 or w % 32 == 0: fails.append(i)\n",
        "  return fails"
      ],
      "execution_count": 0,
      "outputs": []
    },
    {
      "metadata": {
        "id": "eQveed4nR7PC",
        "colab_type": "code",
        "colab": {
          "autoexec": {
            "startup": false,
            "wait_interval": 0
          }
        }
      },
      "cell_type": "code",
      "source": [
        "train_dataset = DSB2018Dataset(root_dir = TRAIN_DIR, img_id = train_ids)"
      ],
      "execution_count": 0,
      "outputs": []
    },
    {
      "metadata": {
        "id": "ESOv5InQ1FKg",
        "colab_type": "code",
        "colab": {
          "autoexec": {
            "startup": false,
            "wait_interval": 0
          }
        }
      },
      "cell_type": "code",
      "source": [
        "starter_model = nn.Sequential(nn.Conv2d(3, 16, (11, 11), padding=5),\n",
        "                      nn.ReLU(),\n",
        "                      nn.Conv2d(16, 16, (5, 5), padding=2),\n",
        "                      nn.ReLU(),\n",
        "                      nn.Conv2d(16, 1, (5, 5), padding=2),\n",
        "                      nn.Sigmoid())"
      ],
      "execution_count": 0,
      "outputs": []
    },
    {
      "metadata": {
        "id": "T80josZcKSo-",
        "colab_type": "code",
        "colab": {
          "autoexec": {
            "startup": false,
            "wait_interval": 0
          }
        }
      },
      "cell_type": "code",
      "source": [
        "albu_model = AlbuNet(pretrained=True)"
      ],
      "execution_count": 0,
      "outputs": []
    },
    {
      "metadata": {
        "id": "cPv9G3zKAIG2",
        "colab_type": "code",
        "colab": {
          "autoexec": {
            "startup": false,
            "wait_interval": 0
          }
        }
      },
      "cell_type": "code",
      "source": [
        "from telepyth import TelepythClient"
      ],
      "execution_count": 0,
      "outputs": []
    },
    {
      "metadata": {
        "id": "qQhLcOKF1FKo",
        "colab_type": "code",
        "colab": {
          "autoexec": {
            "startup": false,
            "wait_interval": 0
          }
        }
      },
      "cell_type": "code",
      "source": [
        "def train(model, dataset, loss_func, name_prefix=\"\", n_epochs=10, batch_size=16):\n",
        "  \n",
        "  tp = TelepythClient(token=\"3105941719605529941\")\n",
        "  tp.send_text(\"Training on \" + name_prefix + model_name)\n",
        "  \n",
        "  N_EPOCHS = n_epochs\n",
        "  BATCH_SIZE = batch_size\n",
        "\n",
        "  optimizer = Adam(model.parameters(), lr=0.0005)\n",
        "  model.cuda()\n",
        "  model.train()\n",
        "  best_loss = 9999\n",
        "  losses = []\n",
        "  for epoch in range(N_EPOCHS):\n",
        "      report_ep = \"Epoch[{}]\".format(epoch)\n",
        "      tp.send_text(report_ep)\n",
        "      print(\"Epoch[{}]\".format(epoch))\n",
        "      b = 0\n",
        "      i = 0\n",
        "      avg_loss = 0\n",
        "      batch_num = 0\n",
        "      optimizer.zero_grad()\n",
        "      for tr in dataset:\n",
        "          batch_x = Variable(tr['image'].cuda())\n",
        "\n",
        "          batch_y = Variable(tr['mask'].cuda())\n",
        "          batch_y = batch_y.view(1, batch_y.size()[1], batch_y.size()[2])\n",
        "        \n",
        "          prediction = model(batch_x)[:, 0]\n",
        "\n",
        "          loss = loss_func(prediction, batch_y)\n",
        "          avg_loss = 0.9 * avg_loss + 0.1 * loss.data[0]\n",
        "          loss = loss / BATCH_SIZE\n",
        "          loss.backward()\n",
        "        \n",
        "          avg_loss = 0.9 * avg_loss + 0.1 * loss.data[0]\n",
        "          losses.append(avg_loss)\n",
        "        \n",
        "          if i % BATCH_SIZE == BATCH_SIZE - 1:\n",
        "              report_b = \"Batch #{}; Loss:{}\".format(b, avg_loss)\n",
        "              if b % 20 == 0:\n",
        "                tp.send_text(report_b)\n",
        "              print(report_b)\n",
        "              b += 1\n",
        "              optimizer.step()\n",
        "              i = -1\n",
        "              optimizer.zero_grad()\n",
        "          i += 1\n",
        "      if (avg_loss < best_loss):\n",
        "        best_loss = avg_loss\n",
        "        report_loss = \"Epoch last loss - {}. Loss improved; Model Saved as {}\".format(avg_loss, model_path + name_prefix + model_file)\n",
        "        torch.save(model,  model_path + name_prefix + model_file)\n",
        "        tp.send_text(report_loss)\n",
        "        print(report_loss)\n",
        "        \n",
        "      else:\n",
        "        report_loss = \"Epoch last loss - {}. Not an improvement\".format(avg_loss)\n",
        "        tp.send_text(report_loss)\n",
        "        print(report_loss)\n",
        "        \n",
        "  report_end = \"Training ended\"\n",
        "  print(report_end)\n",
        "  tp.send_text(report_end)\n",
        "  return losses"
      ],
      "execution_count": 0,
      "outputs": []
    },
    {
      "metadata": {
        "id": "Fx78RANrbgOH",
        "colab_type": "code",
        "colab": {
          "autoexec": {
            "startup": false,
            "wait_interval": 0
          }
        }
      },
      "cell_type": "code",
      "source": [
        "#_ = train(albu_model, dataset = train_dataset, loss_func = LossBinary(), n_epochs = 100, name_prefix=\"albu\")\n",
        "_ = train(starter_model, dataset = DSB2018Dataset(TRAIN_DIR, train_ids), loss_func = F.binary_cross_entropy, n_epochs = 100, name_prefix=\"starter\")"
      ],
      "execution_count": 0,
      "outputs": []
    },
    {
      "metadata": {
        "id": "Gcn9KJfDwIaL",
        "colab_type": "code",
        "colab": {
          "autoexec": {
            "startup": false,
            "wait_interval": 0
          }
        }
      },
      "cell_type": "code",
      "source": [
        "albunet = torch.load(model_path + \"albu\" + model_file)\n",
        "#starternet = torch.load(model_path + \"starterkit2.pth\")"
      ],
      "execution_count": 0,
      "outputs": []
    },
    {
      "metadata": {
        "id": "s7VN3ct8xN04",
        "colab_type": "code",
        "colab": {
          "autoexec": {
            "startup": false,
            "wait_interval": 0
          }
        }
      },
      "cell_type": "code",
      "source": [
        "starternet = torch.load(model_path + \"starterkit2.pth\")"
      ],
      "execution_count": 0,
      "outputs": []
    },
    {
      "metadata": {
        "id": "E0npAPjIcQX8",
        "colab_type": "code",
        "colab": {
          "autoexec": {
            "startup": false,
            "wait_interval": 0
          }
        }
      },
      "cell_type": "code",
      "source": [
        "test_dataset = DSB2018Dataset(TEST_DIR, test_ids, train=False)"
      ],
      "execution_count": 0,
      "outputs": []
    },
    {
      "metadata": {
        "id": "aMANDhRv1FLE",
        "colab_type": "code",
        "colab": {
          "autoexec": {
            "startup": false,
            "wait_interval": 0
          }
        }
      },
      "cell_type": "code",
      "source": [
        "from skimage.morphology import label\n",
        "\n",
        "def rle_encoding(x):\n",
        "    dots = np.where(x.flatten() == 1)[0]\n",
        "    run_lengths = []\n",
        "    prev = -2\n",
        "    for b in dots:\n",
        "        if (b>prev+1): run_lengths.extend((b + 1, 0))\n",
        "        run_lengths[-1] += 1\n",
        "        prev = b\n",
        "    return run_lengths\n",
        "\n",
        "def prob_to_rles(x, cutoff=0.5):\n",
        "    lab_img = label(x > cutoff)\n",
        "    for i in range(1, lab_img.max() + 1):\n",
        "        yield rle_encoding(lab_img == i)"
      ],
      "execution_count": 0,
      "outputs": []
    },
    {
      "metadata": {
        "id": "MEuNrEEhcGvH",
        "colab_type": "code",
        "colab": {
          "autoexec": {
            "startup": false,
            "wait_interval": 0
          }
        }
      },
      "cell_type": "code",
      "source": [
        "from skimage.transform import resize\n",
        "image_ids = []\n",
        "rles = []\n",
        "starternet.cpu()\n",
        "albunet.cpu()\n",
        "starternet.eval()\n",
        "albunet.eval()\n",
        "\n",
        "for test in test_dataset:\n",
        "    batch_x = test['image']\n",
        "    batch_x = Variable(batch_x).cuda()\n",
        "    \n",
        "    if test['height'] % 32 != 0 or test['width'] % 32 != 0:\n",
        "      prediction = starter_model(batch_x)[0, 0].data.cpu().numpy()\n",
        "    else:\n",
        "      prediction = albu_model(batch_x)[0, 0].data.cpu().numpy()\n",
        "    \n",
        "    #prediction = model(batch_x)[0, 0].data.cpu().numpy()\n",
        "    \n",
        "    for rle in prob_to_rles(prediction):\n",
        "        image_ids.append(test['img_id'])\n",
        "        rles.append(rle)"
      ],
      "execution_count": 0,
      "outputs": []
    },
    {
      "metadata": {
        "id": "ZMNfNBCp1FLQ",
        "colab_type": "code",
        "colab": {
          "autoexec": {
            "startup": false,
            "wait_interval": 0
          }
        }
      },
      "cell_type": "code",
      "source": [
        "\n",
        "submission = pd.DataFrame(data={'ImageId': image_ids,\n",
        "                                'EncodedPixels': [' '.join(map(str, x)) for x in rles]})"
      ],
      "execution_count": 0,
      "outputs": []
    },
    {
      "metadata": {
        "id": "KnbwtKngdmiA",
        "colab_type": "code",
        "colab": {
          "autoexec": {
            "startup": false,
            "wait_interval": 0
          },
          "output_extras": [
            {}
          ],
          "base_uri": "https://localhost:8080/",
          "height": 80
        },
        "outputId": "0308ccd7-2a02-47ac-ec0e-e1dbdf088f4b",
        "executionInfo": {
          "status": "ok",
          "timestamp": 1522880979833,
          "user_tz": -180,
          "elapsed": 642,
          "user": {
            "displayName": "Даниил Ларионов",
            "photoUrl": "//lh3.googleusercontent.com/-ctIQBLRHGYI/AAAAAAAAAAI/AAAAAAAAABg/_SlKdw9EHys/s50-c-k-no/photo.jpg",
            "userId": "100808819455405962260"
          }
        }
      },
      "cell_type": "code",
      "source": [
        "submission.head(1)"
      ],
      "execution_count": 0,
      "outputs": [
        {
          "output_type": "execute_result",
          "data": {
            "text/html": [
              "<div>\n",
              "<style scoped>\n",
              "    .dataframe tbody tr th:only-of-type {\n",
              "        vertical-align: middle;\n",
              "    }\n",
              "\n",
              "    .dataframe tbody tr th {\n",
              "        vertical-align: top;\n",
              "    }\n",
              "\n",
              "    .dataframe thead th {\n",
              "        text-align: right;\n",
              "    }\n",
              "</style>\n",
              "<table border=\"1\" class=\"dataframe\">\n",
              "  <thead>\n",
              "    <tr style=\"text-align: right;\">\n",
              "      <th></th>\n",
              "      <th>EncodedPixels</th>\n",
              "      <th>ImageId</th>\n",
              "    </tr>\n",
              "  </thead>\n",
              "  <tbody>\n",
              "    <tr>\n",
              "      <th>0</th>\n",
              "      <td>6 16 262 16 518 16 774 16 1030 16 1287 14 1545...</td>\n",
              "      <td>38f5cfb55fc8b048e82a5c895b25fefae7a70c71ab9990...</td>\n",
              "    </tr>\n",
              "  </tbody>\n",
              "</table>\n",
              "</div>"
            ],
            "text/plain": [
              "                                       EncodedPixels  \\\n",
              "0  6 16 262 16 518 16 774 16 1030 16 1287 14 1545...   \n",
              "\n",
              "                                             ImageId  \n",
              "0  38f5cfb55fc8b048e82a5c895b25fefae7a70c71ab9990...  "
            ]
          },
          "metadata": {
            "tags": []
          },
          "execution_count": 36
        }
      ]
    },
    {
      "metadata": {
        "id": "5pC_yqBj1FLV",
        "colab_type": "code",
        "colab": {
          "autoexec": {
            "startup": false,
            "wait_interval": 0
          }
        }
      },
      "cell_type": "code",
      "source": [
        "submission.to_csv(submission_path + submission_file, index=None)"
      ],
      "execution_count": 0,
      "outputs": []
    },
    {
      "metadata": {
        "id": "ZkSa5XEv1FL1",
        "colab_type": "code",
        "colab": {
          "autoexec": {
            "startup": false,
            "wait_interval": 0
          },
          "output_extras": [
            {}
          ],
          "base_uri": "https://localhost:8080/",
          "height": 34
        },
        "outputId": "870cfacc-4703-4aa6-8d8a-ba3d302cded8",
        "executionInfo": {
          "status": "ok",
          "timestamp": 1522693526583,
          "user_tz": -180,
          "elapsed": 1644,
          "user": {
            "displayName": "Даниил Ларионов",
            "photoUrl": "//lh3.googleusercontent.com/-ctIQBLRHGYI/AAAAAAAAAAI/AAAAAAAAABg/_SlKdw9EHys/s50-c-k-no/photo.jpg",
            "userId": "100808819455405962260"
          }
        }
      },
      "cell_type": "code",
      "source": [
        "!ls"
      ],
      "execution_count": 0,
      "outputs": [
        {
          "output_type": "stream",
          "text": [
            "0.csv  1.csv  bowl  data  datalab  drive  starterkit-2.csv  sub.csv\r\n"
          ],
          "name": "stdout"
        }
      ]
    },
    {
      "metadata": {
        "id": "m_p2qbL0JOqb",
        "colab_type": "code",
        "colab": {
          "autoexec": {
            "startup": false,
            "wait_interval": 0
          }
        }
      },
      "cell_type": "code",
      "source": [
        "!cp starterkit-2.csv drive/bowl/submissions/"
      ],
      "execution_count": 0,
      "outputs": []
    },
    {
      "metadata": {
        "id": "aRMXLFYoJdzy",
        "colab_type": "code",
        "colab": {
          "autoexec": {
            "startup": false,
            "wait_interval": 0
          }
        }
      },
      "cell_type": "code",
      "source": [
        ""
      ],
      "execution_count": 0,
      "outputs": []
    }
  ]
}
