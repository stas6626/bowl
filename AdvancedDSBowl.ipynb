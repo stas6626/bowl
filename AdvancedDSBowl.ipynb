{
  "nbformat": 4,
  "nbformat_minor": 0,
  "metadata": {
    "colab": {
      "name": "AdvancedDSBowl.ipynb",
      "version": "0.3.2",
      "views": {},
      "default_view": {},
      "provenance": [
        {
          "file_id": "11nJJUJkpHAOTWJ7ahpjXnzXPMeV59PPK",
          "timestamp": 1522764862769
        }
      ],
      "collapsed_sections": []
    },
    "kernelspec": {
      "name": "python3",
      "display_name": "Python 3"
    },
    "accelerator": "GPU"
  },
  "cells": [
    {
      "metadata": {
        "id": "9upu9R5oBai0",
        "colab_type": "code",
        "colab": {
          "autoexec": {
            "startup": false,
            "wait_interval": 0
          },
          "base_uri": "https://localhost:8080/",
          "height": 105
        },
        "outputId": "7d5178a2-d38c-415d-c7ae-e2f3f7431bb5",
        "executionInfo": {
          "status": "ok",
          "timestamp": 1523735405880,
          "user_tz": -180,
          "elapsed": 17118,
          "user": {
            "displayName": "Даниил Ларионов",
            "photoUrl": "//lh3.googleusercontent.com/-ctIQBLRHGYI/AAAAAAAAAAI/AAAAAAAAABg/_SlKdw9EHys/s50-c-k-no/photo.jpg",
            "userId": "100808819455405962260"
          }
        }
      },
      "cell_type": "code",
      "source": [
        "!apt-get install -y -qq software-properties-common python-software-properties module-init-tools\n",
        "!add-apt-repository -y ppa:alessandro-strada/ppa 2>&1 > /dev/null\n",
        "!apt-get update -qq 2>&1 > /dev/null\n",
        "!apt-get -y install -qq google-drive-ocamlfuse fuse\n",
        "from google.colab import auth\n",
        "auth.authenticate_user()\n",
        "from oauth2client.client import GoogleCredentials\n",
        "creds = GoogleCredentials.get_application_default()\n",
        "import getpass\n",
        "!google-drive-ocamlfuse -headless -id={creds.client_id} -secret={creds.client_secret} < /dev/null 2>&1 | grep URL\n",
        "vcode = getpass.getpass()\n",
        "!echo {vcode} | google-drive-ocamlfuse -headless -id={creds.client_id} -secret={creds.client_secret}"
      ],
      "execution_count": 3,
      "outputs": [
        {
          "output_type": "stream",
          "text": [
            "Please, open the following URL in a web browser: https://accounts.google.com/o/oauth2/auth?client_id=32555940559.apps.googleusercontent.com&redirect_uri=urn%3Aietf%3Awg%3Aoauth%3A2.0%3Aoob&scope=https%3A%2F%2Fwww.googleapis.com%2Fauth%2Fdrive&response_type=code&access_type=offline&approval_prompt=force\r\n",
            "··········\n",
            "Please, open the following URL in a web browser: https://accounts.google.com/o/oauth2/auth?client_id=32555940559.apps.googleusercontent.com&redirect_uri=urn%3Aietf%3Awg%3Aoauth%3A2.0%3Aoob&scope=https%3A%2F%2Fwww.googleapis.com%2Fauth%2Fdrive&response_type=code&access_type=offline&approval_prompt=force\n",
            "Please enter the verification code: Access token retrieved correctly.\n"
          ],
          "name": "stdout"
        }
      ]
    },
    {
      "metadata": {
        "id": "OouRzDzTBdMe",
        "colab_type": "code",
        "colab": {
          "autoexec": {
            "startup": false,
            "wait_interval": 0
          }
        }
      },
      "cell_type": "code",
      "source": [
        "!mkdir -p drive\n",
        "!google-drive-ocamlfuse drive"
      ],
      "execution_count": 0,
      "outputs": []
    },
    {
      "metadata": {
        "id": "P__JJXAkDmxz",
        "colab_type": "code",
        "colab": {
          "autoexec": {
            "startup": false,
            "wait_interval": 0
          },
          "base_uri": "https://localhost:8080/",
          "height": 102
        },
        "outputId": "ec61d363-f1f3-4598-e91f-6681d3cff2a8",
        "executionInfo": {
          "status": "ok",
          "timestamp": 1523735417986,
          "user_tz": -180,
          "elapsed": 4290,
          "user": {
            "displayName": "Даниил Ларионов",
            "photoUrl": "//lh3.googleusercontent.com/-ctIQBLRHGYI/AAAAAAAAAAI/AAAAAAAAABg/_SlKdw9EHys/s50-c-k-no/photo.jpg",
            "userId": "100808819455405962260"
          }
        }
      },
      "cell_type": "code",
      "source": [
        "!ls drive/bowl/models"
      ],
      "execution_count": 5,
      "outputs": [
        {
          "output_type": "stream",
          "text": [
            "albunet_resize.pth\t\t starterkit2.pth\r\n",
            "albustarterkit_albunet.pth\t starterkit_albunet.pth\r\n",
            "cool_model_which_can_work.torch  starterkit.pth\r\n",
            "starterkit2cc2.pth\t\t starter_starterkit_albunet.pth\r\n",
            "starterkit2cc.pth\t\t starterstarterkit_albunet.pth\r\n"
          ],
          "name": "stdout"
        }
      ]
    },
    {
      "metadata": {
        "id": "d7yLkTfNu1-T",
        "colab_type": "code",
        "colab": {
          "autoexec": {
            "startup": false,
            "wait_interval": 0
          },
          "base_uri": "https://localhost:8080/",
          "height": 34
        },
        "outputId": "33eee4c9-4e41-454c-aa5a-b109163e0a6c",
        "executionInfo": {
          "status": "ok",
          "timestamp": 1523735420216,
          "user_tz": -180,
          "elapsed": 1555,
          "user": {
            "displayName": "Даниил Ларионов",
            "photoUrl": "//lh3.googleusercontent.com/-ctIQBLRHGYI/AAAAAAAAAAI/AAAAAAAAABg/_SlKdw9EHys/s50-c-k-no/photo.jpg",
            "userId": "100808819455405962260"
          }
        }
      },
      "cell_type": "code",
      "source": [
        "!ls"
      ],
      "execution_count": 6,
      "outputs": [
        {
          "output_type": "stream",
          "text": [
            "datalab  drive\r\n"
          ],
          "name": "stdout"
        }
      ]
    },
    {
      "metadata": {
        "id": "svrq85i57Dyq",
        "colab_type": "code",
        "colab": {
          "autoexec": {
            "startup": false,
            "wait_interval": 0
          }
        }
      },
      "cell_type": "code",
      "source": [
        "!mkdir bowl/"
      ],
      "execution_count": 0,
      "outputs": []
    },
    {
      "metadata": {
        "id": "-7_OtvOqykPQ",
        "colab_type": "code",
        "colab": {
          "autoexec": {
            "startup": false,
            "wait_interval": 0
          }
        }
      },
      "cell_type": "code",
      "source": [
        "!mkdir bowl/stage1_train/"
      ],
      "execution_count": 0,
      "outputs": []
    },
    {
      "metadata": {
        "id": "LWk0P0G6Gtk4",
        "colab_type": "code",
        "colab": {
          "autoexec": {
            "startup": false,
            "wait_interval": 0
          }
        }
      },
      "cell_type": "code",
      "source": [
        "!mkdir bowl/stage1_test/"
      ],
      "execution_count": 0,
      "outputs": []
    },
    {
      "metadata": {
        "id": "U86t-KICrnhc",
        "colab_type": "code",
        "colab": {
          "autoexec": {
            "startup": false,
            "wait_interval": 0
          }
        }
      },
      "cell_type": "code",
      "source": [
        "!mkdir bowl/stage2_test/"
      ],
      "execution_count": 0,
      "outputs": []
    },
    {
      "metadata": {
        "id": "JFyqj2Kp22fj",
        "colab_type": "code",
        "colab": {
          "autoexec": {
            "startup": false,
            "wait_interval": 0
          }
        }
      },
      "cell_type": "code",
      "source": [
        "!unzip drive/bowl/stage1_train.zip -d bowl/stage1_train/"
      ],
      "execution_count": 0,
      "outputs": []
    },
    {
      "metadata": {
        "id": "wSwAqijPGngt",
        "colab_type": "code",
        "colab": {
          "autoexec": {
            "startup": false,
            "wait_interval": 0
          }
        }
      },
      "cell_type": "code",
      "source": [
        "!unzip drive/bowl/stage1_test.zip -d bowl/stage1_test/"
      ],
      "execution_count": 0,
      "outputs": []
    },
    {
      "metadata": {
        "id": "KHNbAuahstUH",
        "colab_type": "code",
        "colab": {
          "autoexec": {
            "startup": false,
            "wait_interval": 0
          }
        }
      },
      "cell_type": "code",
      "source": [
        "!unzip drive/bowl/stage2_test_final.zip -d bowl/stage2_test/"
      ],
      "execution_count": 0,
      "outputs": []
    },
    {
      "metadata": {
        "id": "SpI0sh5KilhV",
        "colab_type": "code",
        "colab": {
          "autoexec": {
            "startup": false,
            "wait_interval": 0
          }
        }
      },
      "cell_type": "code",
      "source": [
        "!cp drive/bowl/stage1_solution.csv stage1_solution.csv"
      ],
      "execution_count": 0,
      "outputs": []
    },
    {
      "metadata": {
        "id": "AScAAjYT4WQJ",
        "colab_type": "code",
        "colab": {
          "autoexec": {
            "startup": false,
            "wait_interval": 0
          }
        }
      },
      "cell_type": "code",
      "source": [
        "# http://pytorch.org/\n",
        "from os import path\n",
        "from wheel.pep425tags import get_abbr_impl, get_impl_ver, get_abi_tag\n",
        "platform = '{}{}-{}'.format(get_abbr_impl(), get_impl_ver(), get_abi_tag())\n",
        "\n",
        "accelerator = 'cu80' if path.exists('/opt/bin/nvidia-smi') else 'cpu'\n",
        "\n",
        "!pip install -q http://download.pytorch.org/whl/{accelerator}/torch-0.3.0.post4-{platform}-linux_x86_64.whl torchvision"
      ],
      "execution_count": 0,
      "outputs": []
    },
    {
      "metadata": {
        "id": "tLheHgV71FKM",
        "colab_type": "code",
        "colab": {
          "autoexec": {
            "startup": false,
            "wait_interval": 0
          }
        }
      },
      "cell_type": "code",
      "source": [
        "import pandas as pd\n",
        "import numpy as np\n",
        "\n",
        "import cv2\n",
        "import os\n",
        "\n",
        "import torch\n",
        "import torchvision\n",
        "from torch import nn\n",
        "import torch.nn.functional as F\n",
        "from torch.autograd import Variable\n",
        "from torch.optim import Adam\n",
        "\n",
        "import matplotlib.pyplot as plt\n",
        "import matplotlib.cm as cm  \n",
        "\n",
        "from skimage.morphology import label\n",
        "\n",
        "%matplotlib inline"
      ],
      "execution_count": 0,
      "outputs": []
    },
    {
      "metadata": {
        "id": "PILuYWTMQyGd",
        "colab_type": "code",
        "colab": {
          "autoexec": {
            "startup": false,
            "wait_interval": 0
          }
        }
      },
      "cell_type": "code",
      "source": [
        "from torchvision import transforms, utils\n",
        "from skimage import io, transform"
      ],
      "execution_count": 0,
      "outputs": []
    },
    {
      "metadata": {
        "id": "SX548WFkOfXy",
        "colab_type": "code",
        "colab": {
          "autoexec": {
            "startup": false,
            "wait_interval": 0
          }
        }
      },
      "cell_type": "code",
      "source": [
        "def precision_at(threshold, iou):\n",
        "    matches = iou > threshold\n",
        "    true_positives = np.sum(matches, axis=1) == 1   # Correct objects\n",
        "    false_positives = np.sum(matches, axis=0) == 0  # Missed objects\n",
        "    false_negatives = np.sum(matches, axis=1) == 0  # Extra objects\n",
        "    tp, fp, fn = np.sum(true_positives), np.sum(false_positives), np.sum(false_negatives)\n",
        "    return tp, fp, fn\n",
        "\n",
        "def iou_t(target, pred):\n",
        "  target_y = label(target > 0.5)\n",
        "  pred_y = label(pred > 0.5)\n",
        "  true_objs = len(np.unique(target_y))\n",
        "  pred_objs = len(np.unique(pred_y))\n",
        "  intersection = np.histogram2d(target_y.flatten(),\n",
        "                                pred_y.flatten(),\n",
        "                                bins=(true_objs, pred_objs))[0]\n",
        "  \n",
        "  area_true = np.histogram(target_y, bins = true_objs)[0]\n",
        "  area_pred = np.histogram(pred_y, bins = pred_objs)[0]\n",
        "  area_true = np.expand_dims(area_true, -1)\n",
        "  area_pred = np.expand_dims(area_pred, 0)\n",
        "  \n",
        "  union = area_true + area_pred - intersection\n",
        "  \n",
        "  intersection = intersection[1:,1:]\n",
        "  union = union[1:,1:]\n",
        "  union[union == 0] = 1e-9\n",
        "\n",
        "  iou = intersection / union\n",
        "  \n",
        "  prec = []\n",
        "  for t in np.arange(0.5, 1.0, 0.05):\n",
        "    tp, fp, fn = precision_at(t, iou)\n",
        "    p = tp / (tp + fp + fn)\n",
        "    prec.append(p)\n",
        "  return np.mean(prec)"
      ],
      "execution_count": 0,
      "outputs": []
    },
    {
      "metadata": {
        "id": "FMQ-ot6H0BJQ",
        "colab_type": "code",
        "colab": {
          "autoexec": {
            "startup": false,
            "wait_interval": 0
          }
        }
      },
      "cell_type": "code",
      "source": [
        "class ConvRelu(nn.Module):\n",
        "    def __init__(self, in_, out):\n",
        "        super().__init__()\n",
        "        self.conv = conv3x3(in_, out)\n",
        "        self.activation = nn.ReLU(inplace=True)\n",
        "\n",
        "    def forward(self, x):\n",
        "        x = self.conv(x)\n",
        "        x = self.activation(x)\n",
        "        return x"
      ],
      "execution_count": 0,
      "outputs": []
    },
    {
      "metadata": {
        "id": "G5-X2NIt0KAt",
        "colab_type": "code",
        "colab": {
          "autoexec": {
            "startup": false,
            "wait_interval": 0
          }
        }
      },
      "cell_type": "code",
      "source": [
        "def conv3x3(in_, out):\n",
        "    return nn.Conv2d(in_, out, 3, padding=1)"
      ],
      "execution_count": 0,
      "outputs": []
    },
    {
      "metadata": {
        "id": "zIpnveYrznAP",
        "colab_type": "code",
        "colab": {
          "autoexec": {
            "startup": false,
            "wait_interval": 0
          }
        }
      },
      "cell_type": "code",
      "source": [
        "class DecoderBlockV2(nn.Module):\n",
        "    def __init__(self, in_channels, middle_channels, out_channels, is_deconv=True):\n",
        "        super(DecoderBlockV2, self).__init__()\n",
        "        self.in_channels = in_channels\n",
        "\n",
        "        if is_deconv:\n",
        "            \"\"\"\n",
        "                Paramaters for Deconvolution were chosen to avoid artifacts, following\n",
        "                link https://distill.pub/2016/deconv-checkerboard/\n",
        "            \"\"\"\n",
        "\n",
        "            self.block = nn.Sequential(\n",
        "                ConvRelu(in_channels, middle_channels),\n",
        "                nn.ConvTranspose2d(middle_channels, out_channels, kernel_size=4, stride=2,\n",
        "                                   padding=1),\n",
        "                nn.ReLU(inplace=True)\n",
        "            )\n",
        "        else:\n",
        "            self.block = nn.Sequential(\n",
        "                nn.Upsample(scale_factor=2, mode='bilinear'),\n",
        "                ConvRelu(in_channels, middle_channels),\n",
        "                ConvRelu(middle_channels, out_channels),\n",
        "            )\n",
        "\n",
        "    def forward(self, x):\n",
        "        return self.block(x)\n"
      ],
      "execution_count": 0,
      "outputs": []
    },
    {
      "metadata": {
        "id": "x4dpiKmfyaiI",
        "colab_type": "code",
        "colab": {
          "autoexec": {
            "startup": false,
            "wait_interval": 0
          }
        }
      },
      "cell_type": "code",
      "source": [
        "class AlbuNet1(nn.Module):\n",
        "    \"\"\"\n",
        "        UNet (https://arxiv.org/abs/1505.04597) with Resnet34(https://arxiv.org/abs/1512.03385) encoder\n",
        "        Proposed by Alexander Buslaev: https://www.linkedin.com/in/al-buslaev/\n",
        "        \"\"\"\n",
        "\n",
        "    def __init__(self, num_classes=1, num_filters=32, pretrained=True, is_deconv=False):\n",
        "        \"\"\"\n",
        "        :param num_classes:\n",
        "        :param num_filters:\n",
        "        :param pretrained:\n",
        "            False - no pre-trained network is used\n",
        "            True  - encoder is pre-trained with resnet34\n",
        "        :is_deconv:\n",
        "            False: bilinear interpolation is used in decoder\n",
        "            True: deconvolution is used in decoder\n",
        "        \"\"\"\n",
        "        super().__init__()\n",
        "        self.num_classes = num_classes\n",
        "\n",
        "        self.pool = nn.MaxPool2d(2, 2)\n",
        "\n",
        "        self.encoder = torchvision.models.resnet34(pretrained=pretrained)\n",
        "\n",
        "        self.relu = nn.ReLU(inplace=True)\n",
        "\n",
        "        self.conv1 = nn.Sequential(self.encoder.conv1,\n",
        "                                   self.encoder.bn1,\n",
        "                                   self.encoder.relu,\n",
        "                                   self.pool)\n",
        "\n",
        "        self.conv2 = self.encoder.layer1\n",
        "\n",
        "        self.conv3 = self.encoder.layer2\n",
        "\n",
        "        self.conv4 = self.encoder.layer3\n",
        "\n",
        "        self.conv5 = self.encoder.layer4\n",
        "\n",
        "        self.center = DecoderBlockV2(512, num_filters * 8 * 2, num_filters * 8, is_deconv)\n",
        "\n",
        "        self.dec5 = DecoderBlockV2(512 + num_filters * 8, num_filters * 8 * 2, num_filters * 8, is_deconv)\n",
        "        self.dec4 = DecoderBlockV2(256 + num_filters * 8, num_filters * 8 * 2, num_filters * 8, is_deconv)\n",
        "        self.dec3 = DecoderBlockV2(128 + num_filters * 8, num_filters * 4 * 2, num_filters * 2, is_deconv)\n",
        "        self.dec2 = DecoderBlockV2(64 + num_filters * 2, num_filters * 2 * 2, num_filters * 2 * 2, is_deconv)\n",
        "        self.dec1 = DecoderBlockV2(num_filters * 2 * 2, num_filters * 2 * 2, num_filters, is_deconv)\n",
        "        self.dec0 = ConvRelu(num_filters, num_filters)\n",
        "        self.final = nn.Conv2d(num_filters, num_classes, kernel_size=1)\n",
        "\n",
        "    def forward(self, x):\n",
        "        #print(\"input size: \", x.size())\n",
        "        conv1 = self.conv1(x)\n",
        "        #print(\"conv1 size: \", conv1.size())\n",
        "        conv2 = self.conv2(conv1)\n",
        "        #print(\"conv2 size: \", conv2.size())\n",
        "        conv3 = self.conv3(conv2)\n",
        "        #print(\"conv3 size: \", conv3.size())\n",
        "        conv4 = self.conv4(conv3)\n",
        "        #print(\"conv4 size: \", conv4.size())\n",
        "        conv5 = self.conv5(conv4)\n",
        "        #print(\"conv5 size: \", conv5.size())\n",
        "\n",
        "        center = self.center(self.pool(conv5))\n",
        "        #print(\"center size: \", center.size())\n",
        "\n",
        "        dec5 = self.dec5(torch.cat([center, conv5], 1))\n",
        "        #print(\"dec5 size: \", dec5.size())\n",
        "\n",
        "        dec4 = self.dec4(torch.cat([dec5, conv4], 1))\n",
        "        dec3 = self.dec3(torch.cat([dec4, conv3], 1))\n",
        "        dec2 = self.dec2(torch.cat([dec3, conv2], 1))\n",
        "        dec1 = self.dec1(dec2)\n",
        "        dec0 = self.dec0(dec1)\n",
        "\n",
        "        if self.num_classes > 1:\n",
        "            x_out = F.sigmoid(self.final(dec0))\n",
        "        else:\n",
        "            x_out = self.final(dec0)\n",
        "\n",
        "        return x_out"
      ],
      "execution_count": 0,
      "outputs": []
    },
    {
      "metadata": {
        "id": "w5froGrdkZbV",
        "colab_type": "code",
        "colab": {
          "autoexec": {
            "startup": false,
            "wait_interval": 0
          }
        }
      },
      "cell_type": "code",
      "source": [
        "class LossBinary:\n",
        "    def __init__(self, jaccard_weight=0):\n",
        "        self.nll_loss = nn.BCEWithLogitsLoss()\n",
        "        self.jaccard_weight = jaccard_weight\n",
        "\n",
        "    def __call__(self, outputs, targets):\n",
        "        loss = self.nll_loss(outputs, targets)\n",
        "\n",
        "        if self.jaccard_weight:\n",
        "            eps = 1e-15\n",
        "            jaccard_target = (targets == 1).float()\n",
        "            jaccard_output = F.sigmoid(outputs)\n",
        "\n",
        "            intersection = (jaccard_output * jaccard_target).sum()\n",
        "            union = jaccard_output.sum() + jaccard_target.sum()\n",
        "\n",
        "            loss -= self.jaccard_weight * torch.log((intersection + eps) / (union - intersection + eps))\n",
        "        return loss"
      ],
      "execution_count": 0,
      "outputs": []
    },
    {
      "metadata": {
        "id": "_8wYL4Kb_jrP",
        "colab_type": "code",
        "colab": {
          "autoexec": {
            "startup": false,
            "wait_interval": 0
          }
        }
      },
      "cell_type": "code",
      "source": [
        "class DanillTransform:\n",
        "    def __init__(self, trans, prob=1., instruction=(True, True, False, False)):\n",
        "        self.trans = trans\n",
        "        self.prob = prob\n",
        "        self.x_in, self.mask_in, self.center_in, self.bound_in = instruction\n",
        "\n",
        "    def __call__(self, x, mask, center, bound):\n",
        "\n",
        "        if True:\n",
        "            if self.x_in:\n",
        "                x = self.trans(x)\n",
        "            if self.mask_in:\n",
        "                mask = self.trans(mask)\n",
        "            if self.center_in:\n",
        "                center = self.trans(center)\n",
        "            if self.bound_in:\n",
        "                bound = self.trans(bound)\n",
        "        return x, mask, center, bound"
      ],
      "execution_count": 0,
      "outputs": []
    },
    {
      "metadata": {
        "id": "V8jnnPqp-oq6",
        "colab_type": "code",
        "colab": {
          "autoexec": {
            "startup": false,
            "wait_interval": 0
          }
        }
      },
      "cell_type": "code",
      "source": [
        "class UnetTansformation:\n",
        "    def __init__(self, prob=.5):\n",
        "        self.prob = prob\n",
        "\n",
        "    def __call__(self, img):\n",
        "        shape = img.shape\n",
        "\n",
        "        if (shape[0] % 64 == 0) and (shape[1] % 64 == 0):\n",
        "            return img\n",
        "\n",
        "        indention_0 = 64 - shape[0] % 64\n",
        "        indention_1 = 64 - shape[1] % 64\n",
        "\n",
        "        indented_img = np.zeros((shape[0] + indention_0, shape[1] + indention_1, shape[2])).astype(np.uint8)\n",
        "        indented_img[indention_0 // 2:-(indention_0 - indention_0 // 2), indention_1 // 2:-(indention_1 - indention_1 // 2), :] = img\n",
        "        return indented_img\n",
        "\n",
        "      \n",
        "def back_shaper(img,shape:tuple):\n",
        "        if (shape[0] % 64 == 0) and (shape[1] % 64 == 0):\n",
        "            return img\n",
        "\n",
        "        indention_0 = 64 - shape[0] % 64\n",
        "        indention_1 = 64 - shape[1] % 64\n",
        "        \n",
        "        return img[indention_0 // 2:-(indention_0 - indention_0 // 2), indention_1 // 2:-(indention_1 - indention_1 // 2)]\n",
        "      \n",
        "      \n",
        "      \n",
        "def unet_deconstructor(dataset, tensor, dirr = '../data/stage1_train/'):\n",
        "    shapes = []\n",
        "    dec_images = []\n",
        "    \n",
        "    for ids in dataset.img_id:\n",
        "        img_dir = os.path.join(dirr, ids, 'images',ids + '.png')\n",
        "        shapes.append(cv2.imread(img_dir).shape)\n",
        "        \n",
        "    for i in range(len(dataset)):\n",
        "        dec_images.append(back_shaper(tensor[i].permute(1,2,0).numpy(),shapes[i]))\n",
        "    \n",
        "    return dec_images"
      ],
      "execution_count": 0,
      "outputs": []
    },
    {
      "metadata": {
        "id": "p0dB_bcoBBgP",
        "colab_type": "code",
        "colab": {
          "autoexec": {
            "startup": false,
            "wait_interval": 0
          }
        }
      },
      "cell_type": "code",
      "source": [
        "class DatasetV2():\n",
        "    def __init__(self, root_dir, img_id, transform=None, train=True):\n",
        "        self.root_dir = root_dir\n",
        "        self.img_id = img_id\n",
        "        self.transform = transform\n",
        "        self.train = train\n",
        "        self.images = [os.path.join(root_dir, train_id, 'images', train_id + '.png') for train_id in img_id]\n",
        "        if train:\n",
        "            self.train_masks = {train_id: [os.path.join(root_dir, train_id, 'masks', img_name) for img_name in os.listdir(os.path.join(root_dir, train_id, 'masks'))] for train_id in img_id}\n",
        "    \n",
        "    def __getitem__(self, idx):\n",
        "        if self.train:\n",
        "            img_dir = os.path.join(self.root_dir, self.img_id[idx], 'images', self.img_id[idx] + '.png')\n",
        "            print(img_dir)\n",
        "            img = cv2.imread(img_dir)\n",
        "            masks = [cv2.imread(train_mask)[..., 0] for train_mask in self.train_masks[self.img_id[idx]]]\n",
        "            mask = sum(masks) #FOR STAS: Here is a mask reading and center+contour extraction\n",
        "            centers = []\n",
        "            for m in masks:\n",
        "                centers.append(get_center(m))#works only for single mask file(not for the sum of masks)\n",
        "            mask_center = sum(centers)\n",
        "            mask_contour = get_contour(mask) #works for sum of masks(but may be better for single mask file, need tests)\n",
        "            \n",
        "            mask_contour = np.expand_dims(mask_contour, -1)\n",
        "            mask_center = np.expand_dims(mask_center, -1)\n",
        "            mask = np.expand_dims(mask, -1)\n",
        "            \n",
        "            mask[mask > 0.00001] = 255\n",
        "            print(img.shape, mask.shape, mask_center.shape, mask_contour.shape)\n",
        "            img, mask, mask_center, mask_contour = self.transform(img, mask, mask_center, mask_contour)\n",
        "            img[:,:,0], img[:,:,2] = img[:,:,2], img[:,:,0] #return_to_RGB\n",
        "            print(img.shape, mask.shape, mask_center.shape, mask_contour.shape)\n",
        "            \n",
        "            \n",
        "            mask = np.swapaxes(mask, 2, 0) / 255.0\n",
        "            img = np.swapaxes(img, 2, 0) / 255.0\n",
        "            mask_contour = np.swapaxes(mask_contour, 2, 0) / 255.0\n",
        "            mask_center = np.swapaxes(mask_center, 2, 0) / 255.0\n",
        "            \n",
        "            print(img.shape, mask.shape, mask_center.shape, mask_contour.shape)\n",
        "            \n",
        "            \n",
        "            sample = torch.FloatTensor(np.stack((img[0], img[1], img[2], mask[0], mask_center[0], mask_contour[0])))\n",
        "            \n",
        "          \n",
        "        else:\n",
        "            img_dir = os.path.join(self.root_dir, self.img_id[idx], 'images', self.img_id[idx] + '.png')\n",
        "            img = cv2.imread(img_dir)\n",
        "            h = img.shape[0]\n",
        "            w = img.shape[1]\n",
        "            #print(shape)\n",
        "            img = self.transform(img)\n",
        "            img = np.expand_dims(img, 0)\n",
        "            img = np.swapaxes(img, -1, 0) / 255.0\n",
        "            img = np.squeeze(img)\n",
        "            #print(img.shape)\n",
        "            sample = torch.FloatTensor(img), self.img_id[idx], h, w # probably big crutch\n",
        "        return sample\n",
        "        \n",
        "    def __len__(self):\n",
        "        return len(self.img_id)"
      ],
      "execution_count": 0,
      "outputs": []
    },
    {
      "metadata": {
        "id": "SmM9ycZGjSbU",
        "colab_type": "code",
        "colab": {
          "autoexec": {
            "startup": false,
            "wait_interval": 0
          }
        }
      },
      "cell_type": "code",
      "source": [
        "def rleToMask(rleString,height,width):\n",
        "  rows,cols = height,width\n",
        "  rleNumbers = [int(numstring) for numstring in rleString.split(' ')]\n",
        "  rlePairs = np.array(rleNumbers).reshape(-1,2)\n",
        "  img = np.zeros(rows*cols,dtype=np.uint8)\n",
        "  for index,length in rlePairs:\n",
        "    index -= 1\n",
        "    img[index:index+length] = 255\n",
        "  img = img.reshape(cols,rows)\n",
        "  img = img.T\n",
        "  return img"
      ],
      "execution_count": 0,
      "outputs": []
    },
    {
      "metadata": {
        "id": "5Tkq_CcGn48F",
        "colab_type": "code",
        "colab": {
          "autoexec": {
            "startup": false,
            "wait_interval": 0
          }
        }
      },
      "cell_type": "code",
      "source": [
        "df = pd.read_csv('stage1_solution.csv')\n",
        "for img_id in test1_ids:\n",
        "    path = os.path.join(TEST1_DIR, img_id)\n",
        "    try:\n",
        "        os.mkdir(os.path.join(path, 'masks/'))\n",
        "    except Exception as e:\n",
        "        print(e)\n",
        "    img = cv2.imread(os.path.join(path, 'images', img_id + '.png'))\n",
        "    h, w = img.shape[:2]\n",
        "    masks = [rleToMask(rle, h, w) for rle in df[df.ImageId == img_id].EncodedPixels]\n",
        "    i = 0\n",
        "    for mask in masks:\n",
        "      print(img_id, i)\n",
        "      cv2.imwrite(os.path.join(path, 'masks', str(i) + '.png'), mask)\n",
        "      i += 1\n",
        "      \n",
        "    "
      ],
      "execution_count": 0,
      "outputs": []
    },
    {
      "metadata": {
        "id": "3J1QoT-Ht3My",
        "colab_type": "code",
        "colab": {
          "autoexec": {
            "startup": false,
            "wait_interval": 0
          },
          "base_uri": "https://localhost:8080/",
          "height": 102
        },
        "outputId": "cb5f3374-9dd7-46ce-eef3-dd0569f4fffd",
        "executionInfo": {
          "status": "ok",
          "timestamp": 1523619263132,
          "user_tz": -180,
          "elapsed": 609,
          "user": {
            "displayName": "Даниил Ларионов",
            "photoUrl": "//lh3.googleusercontent.com/-ctIQBLRHGYI/AAAAAAAAAAI/AAAAAAAAABg/_SlKdw9EHys/s50-c-k-no/photo.jpg",
            "userId": "100808819455405962260"
          }
        }
      },
      "cell_type": "code",
      "source": [
        "data = DatasetV2(TEST1_DIR, test1_ids, transform=train_transform)\n",
        "print(data[0].size())"
      ],
      "execution_count": 108,
      "outputs": [
        {
          "output_type": "stream",
          "text": [
            "bowl/stage1_test/fe9adb627a6f45747c5a8223b671774791ededf9364f6544be487c540107fa4f/images/fe9adb627a6f45747c5a8223b671774791ededf9364f6544be487c540107fa4f.png\n",
            "(256, 256, 3) (256, 256, 1) (256, 256, 1) (256, 256, 1)\n",
            "(256, 256, 3) (256, 256, 1) (256, 256, 1) (256, 256, 1)\n",
            "(3, 256, 256) (1, 256, 256) (1, 256, 256) (1, 256, 256)\n",
            "torch.Size([6, 256, 256])\n"
          ],
          "name": "stdout"
        }
      ]
    },
    {
      "metadata": {
        "id": "CGaupLjTy2AI",
        "colab_type": "code",
        "colab": {
          "autoexec": {
            "startup": false,
            "wait_interval": 0
          }
        }
      },
      "cell_type": "code",
      "source": [
        "!tar -cvf stage1_test_train.zip bowl/stage1_test/"
      ],
      "execution_count": 0,
      "outputs": []
    },
    {
      "metadata": {
        "id": "C_s7NjKdzN3q",
        "colab_type": "code",
        "colab": {
          "autoexec": {
            "startup": false,
            "wait_interval": 0
          }
        }
      },
      "cell_type": "code",
      "source": [
        "!cp stage1_test_train.zip drive/bowl/stage1_test_train.zip"
      ],
      "execution_count": 0,
      "outputs": []
    },
    {
      "metadata": {
        "id": "ADlDwVvvoA_E",
        "colab_type": "code",
        "colab": {
          "autoexec": {
            "startup": false,
            "wait_interval": 0
          }
        }
      },
      "cell_type": "code",
      "source": [
        "model_path = \"drive/bowl/models/\"\n",
        "submission_path = \"drive/bowl/submissions/\"\n",
        "model_name = \"albunet_resize\"\n",
        "model_file = model_name + '.pth'\n",
        "submission_file = model_name + '.csv'"
      ],
      "execution_count": 0,
      "outputs": []
    },
    {
      "metadata": {
        "id": "HY-KlIzA1FKT",
        "colab_type": "code",
        "colab": {
          "autoexec": {
            "startup": false,
            "wait_interval": 0
          }
        }
      },
      "cell_type": "code",
      "source": [
        "TRAIN_DIR = 'bowl/stage1_train/'\n",
        "\n",
        "train_ids = os.listdir(TRAIN_DIR)\n",
        "train_images = [os.path.join(TRAIN_DIR, train_id, 'images', train_id + '.png') \n",
        "                for train_id in train_ids]\n",
        "train_masks = {train_id: [os.path.join(TRAIN_DIR, train_id, 'masks', img_name) \n",
        "                          for img_name in os.listdir(os.path.join(TRAIN_DIR, train_id, 'masks'))]\n",
        "               for train_id in train_ids}"
      ],
      "execution_count": 0,
      "outputs": []
    },
    {
      "metadata": {
        "id": "gKSfADLb1FK5",
        "colab_type": "code",
        "colab": {
          "autoexec": {
            "startup": false,
            "wait_interval": 0
          }
        }
      },
      "cell_type": "code",
      "source": [
        "TEST_DIR = 'bowl/stage2_test/'\n",
        "test_ids = os.listdir(TEST_DIR)\n",
        "test_images = [os.path.join(TEST_DIR, test_id, 'images', test_id + '.png') \n",
        "                for test_id in test_ids]"
      ],
      "execution_count": 0,
      "outputs": []
    },
    {
      "metadata": {
        "id": "fukbh2HKtC4o",
        "colab_type": "code",
        "colab": {
          "autoexec": {
            "startup": false,
            "wait_interval": 0
          }
        }
      },
      "cell_type": "code",
      "source": [
        "TEST1_DIR = 'bowl/stage1_test/'\n",
        "test1_ids = os.listdir(TEST1_DIR)\n",
        "test1_images = [os.path.join(TEST1_DIR, test_id, 'images', test_id + '.png') \n",
        "                for test_id in test1_ids]"
      ],
      "execution_count": 0,
      "outputs": []
    },
    {
      "metadata": {
        "id": "d5SLZF9VbYS3",
        "colab_type": "code",
        "colab": {
          "autoexec": {
            "startup": false,
            "wait_interval": 0
          }
        }
      },
      "cell_type": "code",
      "source": [
        "from scipy import ndimage as ndi\n",
        "def get_contour(img):\n",
        "    img_contour = np.zeros_like(img)\n",
        "    _, contours, hierarchy = cv2.findContours(img,cv2.RETR_TREE,cv2.CHAIN_APPROX_NONE)\n",
        "\n",
        "    cv2.drawContours(img_contour, contours, -1, (255, 255, 255), 2)\n",
        "    return img_contour\n",
        "  \n",
        "def get_center(img):\n",
        "    img_center = np.zeros_like(img)\n",
        "    y, x = ndi.measurements.center_of_mass(img)\n",
        "    cv2.circle(img_center, (int(x), int(y)), 4, (255, 255, 255), -1)\n",
        "    return img_center"
      ],
      "execution_count": 0,
      "outputs": []
    },
    {
      "metadata": {
        "id": "ESOv5InQ1FKg",
        "colab_type": "code",
        "colab": {
          "autoexec": {
            "startup": false,
            "wait_interval": 0
          }
        }
      },
      "cell_type": "code",
      "source": [
        "starter_model = nn.Sequential(nn.Conv2d(3, 16, (11, 11), padding=5),\n",
        "                      nn.ReLU(),\n",
        "                      nn.Conv2d(16, 96, (5, 5), padding=2), #extra mid channels to detect more features\n",
        "                      nn.ReLU(),\n",
        "                      nn.Conv2d(96, 3, (5, 5), padding=2), #3 out channels : [0] - mask; [1] - center; [2] - border\n",
        "                      nn.Sigmoid())"
      ],
      "execution_count": 0,
      "outputs": []
    },
    {
      "metadata": {
        "id": "os2jLWHTP30p",
        "colab_type": "code",
        "colab": {
          "autoexec": {
            "startup": false,
            "wait_interval": 0
          }
        }
      },
      "cell_type": "code",
      "source": [
        "def default_loss_composition(loss1, loss2, loss3):\n",
        "  return loss1 + loss2 + loss3"
      ],
      "execution_count": 0,
      "outputs": []
    },
    {
      "metadata": {
        "id": "qQhLcOKF1FKo",
        "colab_type": "code",
        "colab": {
          "autoexec": {
            "startup": false,
            "wait_interval": 0
          }
        }
      },
      "cell_type": "code",
      "source": [
        "def train(model, dataset, loss_mask, loss_center, loss_border, loss_compose_fn = default_loss_composition, best_loss_val = 9999, name_prefix=\"\", n_epochs=10, batch_size=16):\n",
        "\n",
        "  #tp = TelepythClient(token=\"3105941719605529941\")\n",
        "  #tp.send_text(\"Training on \" + name_prefix + model_name)\n",
        "  \n",
        "  N_EPOCHS = n_epochs\n",
        "  BATCH_SIZE = batch_size\n",
        "  lr = 0.0004\n",
        "  optimizer = Adam(model.parameters(), lr=lr)\n",
        "  model.cuda()\n",
        "  model.train()\n",
        "  best_loss = best_loss_val #тут храним лучший лосс среди всех эпох\n",
        "  losses = []\n",
        "  for epoch in range(N_EPOCHS): #итерируемся по числу эпох\n",
        "      report_ep = \"Epoch[{}]\".format(epoch)\n",
        "      if epoch % 10 == 9:\n",
        "        optimizer = Adam(model.parameters(), lr = lr / 5) #каждые десять эпох уменьшаем лернинг рейт(не уверен что это норм способ)\n",
        "      #tp.send_text(report_ep)\n",
        "      print(\"Epoch[{}]\".format(epoch))\n",
        "      b = 0 #храним номер текущего батча(в конце эпохи зануляется)\n",
        "      i = 0 #хз чо но пусть будет\n",
        "      losses = [] \n",
        "      mean_loss = 999\n",
        "      optimizer.zero_grad()\n",
        "      epoch_iou = [] #массив значений iou по эпохе(содержит средние значения по каждому из батчей)\n",
        "      ious = [] #массив значений iou по батчу\n",
        "      \n",
        "      for sample in dataset:\n",
        "          batch_x = Variable(sample[:3].cuda()).unsqueeze(dim=0) # получаем перве три канала(картинку), оборачиваем в вариэйбл, и расширяем до батч*каналы*высота*ширина\n",
        "\n",
        "          batch_mask = Variable(sample[3].cuda()) #читаем маску\n",
        "          \n",
        "          batch_center = Variable(sample[4].cuda()).squeeze() #читаем центры\n",
        "          \n",
        "          batch_border = Variable(sample[5].cuda()).squeeze() #читаем границы\n",
        "          \n",
        "          \n",
        "        \n",
        "          pred = model(batch_x)[0] #предиктим и берем первый элемент из батча предиктов(размер батча 1)\n",
        "          \n",
        "\n",
        "          loss_1 = loss_mask(pred[0].cpu(), batch_mask.cpu()) #считаем лосс по маскам\n",
        "          loss_2 = loss_center(pred[1].cpu(), batch_center.cpu()) #считаем лосс по центрам\n",
        "          loss_3 = loss_border(pred[2].cpu(), batch_border.cpu()) #считаем лосс по границам\n",
        "          loss = loss_compose_fn(loss_1, loss_2, loss_3) #композитим три лосса\n",
        "          losses.append(loss[0].data.cpu().numpy())\n",
        "          loss = loss / BATCH_SIZE #хз чо но работает\n",
        "          loss.backward() #градиенты\n",
        "          iou = iou_t(batch_mask.data.cpu().numpy(), pred[0].data.cpu().numpy()) #считаем iou для конкретного изображения\n",
        "        \n",
        "          \n",
        "          losses.append(loss)# добавляем в историю лоссов\n",
        "          ious.append(iou)# добавлчем список значений по батчу\n",
        "        \n",
        "          if i % BATCH_SIZE == BATCH_SIZE - 1:#если подошли к концу батча\n",
        "            \n",
        "              mean_loss = np.array(losses).mean()[0].data.cpu().numpy()\n",
        "              losses = []\n",
        "              mean_iou = np.array(ious).mean() #считаем средний по батчу\n",
        "              epoch_iou.append(mean_iou) #добавляем в список средних по эпохе\n",
        "              ious = [] #зануляем список средних по батчу\n",
        "              \n",
        "              report_b = \"Batch #{}; Loss:{}; Mean IoU:{}\".format(b, mean_loss, mean_iou)\n",
        "              #if b % 20 == 0:\n",
        "                #tp.send_text(report_b)\n",
        "              print(report_b)\n",
        "              b += 1\n",
        "              optimizer.step() #Оптимайзим\n",
        "              i = -1\n",
        "              optimizer.zero_grad() #Зануляемся\n",
        "          i += 1\n",
        "      if (mean_loss < best_loss): #Сохраняем модель если лосс улучшился\n",
        "        iou = np.array(epoch_iou).mean()\n",
        "        best_loss = mean_loss\n",
        "        report_loss = \"Epoch loss - {}. Epoch IoU - {}. Loss improved; Model Saved as {}\".format(mean_loss, iou, model_path + name_prefix + model_file)\n",
        "        torch.save(model,  model_path + name_prefix + model_file)\n",
        "        #tp.send_text(report_loss)\n",
        "        print(report_loss)\n",
        "        \n",
        "      else: #Или не сохраняем, если не\n",
        "        report_loss = \"Epoch last loss - {}. Not an improvement\".format(mean_loss)\n",
        "        #tp.send_text(report_loss)\n",
        "        print(report_loss)\n",
        "        \n",
        "  report_end = \"Training ended\"\n",
        "  print(report_end)\n",
        "  #tp.send_text(report_end)\n",
        "  return losses"
      ],
      "execution_count": 0,
      "outputs": []
    },
    {
      "metadata": {
        "id": "cTP65SsuDSCo",
        "colab_type": "code",
        "colab": {
          "autoexec": {
            "startup": false,
            "wait_interval": 0
          }
        }
      },
      "cell_type": "code",
      "source": [
        "def valid(model, data, loss_compose_fn = default_loss_composition, loss_mask=F.binary_cross_entropy, loss_center=F.binary_cross_entropy, loss_border=F.binary_cross_entropy):\n",
        "  model.cuda()\n",
        "  model.eval()\n",
        "  ious = []\n",
        "  losses = []\n",
        "  for sample in data:\n",
        "    x = Variable(sample[:3].cuda()).unsqueeze(dim=0)\n",
        "    y_mask = Variable(sample[3]).cuda()\n",
        "    y_center = Variable(sample[4]).cuda()\n",
        "    y_border = Variable(sample[5]).cuda()\n",
        "    \n",
        "    pred = model(x)[0]\n",
        "    \n",
        "    loss_1 = loss_mask(pred[0], y_mask)\n",
        "    loss_2 = loss_center(pred[1], y_center)\n",
        "    loss_3 = loss_border(pred[2], y_border)\n",
        "    loss = loss_compose_fn(loss_1, loss_2, loss_3)\n",
        "    \n",
        "    \n",
        "    iou = iou_t(y_mask.cpu().data.squeeze().numpy(), pred[0].data.squeeze().cpu().numpy())\n",
        "    \n",
        "    losses.append(loss.cpu().data.numpy())\n",
        "    ious.append(iou)\n",
        "    \n",
        "  val_loss = np.array(losses).mean()\n",
        "  val_iou = np.array(ious).mean()\n",
        "  \n",
        "  return val_loss, val_iou"
      ],
      "execution_count": 0,
      "outputs": []
    },
    {
      "metadata": {
        "id": "4Uv-KzRmFPlz",
        "colab_type": "code",
        "colab": {
          "autoexec": {
            "startup": false,
            "wait_interval": 0
          }
        }
      },
      "cell_type": "code",
      "source": [
        "class DanillCompose:\n",
        "    def __init__(self, transforms):\n",
        "        self.transforms = transforms\n",
        "\n",
        "    def __call__(self, x, mask, center, bound):\n",
        "        for t in self.transforms:\n",
        "            x, mask, center, bound = t(x, mask, center, bound)\n",
        "        return x, mask, center, bound\n",
        "      \n",
        "class Reshape4:\n",
        "    def __init__(self, prob=.5):\n",
        "        self.prob = prob\n",
        "\n",
        "    def __call__(self, img, mask, center, bound):\n",
        "        shape = mask.shape\n",
        "        return img, mask.reshape(shape[0], shape[1], 1), center.reshape(shape[0], shape[1], 1), bound.reshape(shape[0],\n",
        "                                                                                                              shape[1],\n",
        "                                                                                                              1)\n",
        "\n",
        "\n",
        "train_transform = DanillCompose([\n",
        "        DanillTransform(UnetTansformation(),instruction=(True, True, True, True)),\n",
        "        #RandomCrop4(),\n",
        "        #ShiftScaleRotate4(),\n",
        "        #HorizontalFlip4(),\n",
        "        #VerticalFlip4(),\n",
        "        #DanillTransform(RandomHueSaturationValue(), instruction=(True, False, False, False)),\n",
        "        #DanillTransform(RandomBrightness(), instruction=(True, False, False, False)),\n",
        "        #DanillTransform(RandomContrast(), instruction=(True, False, False, False)),\n",
        "        #DanillTransform(Normalize(),instruction=(True, False, False, False),prob=0.5),\n",
        "    ])"
      ],
      "execution_count": 0,
      "outputs": []
    },
    {
      "metadata": {
        "id": "eGn56GecDdu9",
        "colab_type": "code",
        "colab": {
          "autoexec": {
            "startup": false,
            "wait_interval": 0
          }
        }
      },
      "cell_type": "code",
      "source": [
        "train_dataset = DatasetV2(TRAIN_DIR, train_ids[:600], transform=train_transform)"
      ],
      "execution_count": 0,
      "outputs": []
    },
    {
      "metadata": {
        "id": "ch8T_JmMQtcM",
        "colab_type": "code",
        "colab": {
          "autoexec": {
            "startup": false,
            "wait_interval": 0
          },
          "base_uri": "https://localhost:8080/",
          "height": 204
        },
        "outputId": "f99d090d-706a-4946-feb0-56bdc5177759",
        "executionInfo": {
          "status": "ok",
          "timestamp": 1523735648766,
          "user_tz": -180,
          "elapsed": 1846,
          "user": {
            "displayName": "Даниил Ларионов",
            "photoUrl": "//lh3.googleusercontent.com/-ctIQBLRHGYI/AAAAAAAAAAI/AAAAAAAAABg/_SlKdw9EHys/s50-c-k-no/photo.jpg",
            "userId": "100808819455405962260"
          }
        }
      },
      "cell_type": "code",
      "source": [
        "!wget https://raw.githubusercontent.com/stas6626/bowl/master/models.py?token=AE6mj73zduqFnt4n7wK0F3tfUwspODpEks5a2EbqwA%3D%3D"
      ],
      "execution_count": 28,
      "outputs": [
        {
          "output_type": "stream",
          "text": [
            "--2018-04-14 19:54:07--  https://raw.githubusercontent.com/stas6626/bowl/master/models.py?token=AE6mj73zduqFnt4n7wK0F3tfUwspODpEks5a2EbqwA%3D%3D\r\n",
            "Resolving raw.githubusercontent.com (raw.githubusercontent.com)... 151.101.0.133, 151.101.64.133, 151.101.128.133, ...\r\n",
            "Connecting to raw.githubusercontent.com (raw.githubusercontent.com)|151.101.0.133|:443... connected.\n",
            "HTTP request sent, awaiting response... 200 OK\n",
            "Length: 11023 (11K) [text/plain]\n",
            "Saving to: ‘models.py?token=AE6mj73zduqFnt4n7wK0F3tfUwspODpEks5a2EbqwA%3D%3D’\n",
            "\n",
            "models.py?token=AE6 100%[===================>]  10.76K  --.-KB/s    in 0s      \n",
            "\n",
            "2018-04-14 19:54:07 (50.2 MB/s) - ‘models.py?token=AE6mj73zduqFnt4n7wK0F3tfUwspODpEks5a2EbqwA%3D%3D’ saved [11023/11023]\n",
            "\n"
          ],
          "name": "stdout"
        }
      ]
    },
    {
      "metadata": {
        "id": "klyXu7WhQyNf",
        "colab_type": "code",
        "colab": {
          "autoexec": {
            "startup": false,
            "wait_interval": 0
          }
        }
      },
      "cell_type": "code",
      "source": [
        "!mv models.py\\?token\\=AE6mj73zduqFnt4n7wK0F3tfUwspODpEks5a2EbqwA%3D%3D models.py"
      ],
      "execution_count": 0,
      "outputs": []
    },
    {
      "metadata": {
        "id": "ddYVZLo-pVsh",
        "colab_type": "code",
        "colab": {
          "autoexec": {
            "startup": false,
            "wait_interval": 0
          },
          "base_uri": "https://localhost:8080/",
          "height": 204
        },
        "outputId": "549bfed6-0ba0-4a0c-de5e-92b4983e8d64",
        "executionInfo": {
          "status": "ok",
          "timestamp": 1523735655451,
          "user_tz": -180,
          "elapsed": 1865,
          "user": {
            "displayName": "Даниил Ларионов",
            "photoUrl": "//lh3.googleusercontent.com/-ctIQBLRHGYI/AAAAAAAAAAI/AAAAAAAAABg/_SlKdw9EHys/s50-c-k-no/photo.jpg",
            "userId": "100808819455405962260"
          }
        }
      },
      "cell_type": "code",
      "source": [
        "!wget https://raw.githubusercontent.com/stas6626/bowl/master/transforms.py?token=AE6mj1k_DMIuXgu9NbnHygt7irzYlGVJks5a2MD0wA%3D%3D"
      ],
      "execution_count": 30,
      "outputs": [
        {
          "output_type": "stream",
          "text": [
            "--2018-04-14 19:54:14--  https://raw.githubusercontent.com/stas6626/bowl/master/transforms.py?token=AE6mj1k_DMIuXgu9NbnHygt7irzYlGVJks5a2MD0wA%3D%3D\r\n",
            "Resolving raw.githubusercontent.com (raw.githubusercontent.com)... 151.101.0.133, 151.101.64.133, 151.101.128.133, ...\r\n",
            "Connecting to raw.githubusercontent.com (raw.githubusercontent.com)|151.101.0.133|:443... connected.\n",
            "HTTP request sent, awaiting response... 200 OK\n",
            "Length: 27930 (27K) [text/plain]\n",
            "Saving to: ‘transforms.py?token=AE6mj1k_DMIuXgu9NbnHygt7irzYlGVJks5a2MD0wA%3D%3D’\n",
            "\n",
            "transforms.py?token 100%[===================>]  27.28K  --.-KB/s    in 0.008s  \n",
            "\n",
            "2018-04-14 19:54:14 (3.17 MB/s) - ‘transforms.py?token=AE6mj1k_DMIuXgu9NbnHygt7irzYlGVJks5a2MD0wA%3D%3D’ saved [27930/27930]\n",
            "\n"
          ],
          "name": "stdout"
        }
      ]
    },
    {
      "metadata": {
        "id": "tHVJAzLppZ3G",
        "colab_type": "code",
        "colab": {
          "autoexec": {
            "startup": false,
            "wait_interval": 0
          }
        }
      },
      "cell_type": "code",
      "source": [
        "!mv transforms.py\\?token\\=AE6mj1k_DMIuXgu9NbnHygt7irzYlGVJks5a2MD0wA%3D%3D transforms.py"
      ],
      "execution_count": 0,
      "outputs": []
    },
    {
      "metadata": {
        "id": "gicGT9eKIlo4",
        "colab_type": "code",
        "colab": {
          "autoexec": {
            "startup": false,
            "wait_interval": 0
          },
          "base_uri": "https://localhost:8080/",
          "height": 139
        },
        "outputId": "265b86dc-9325-40b1-a7d0-317352e651b5",
        "executionInfo": {
          "status": "ok",
          "timestamp": 1523735668048,
          "user_tz": -180,
          "elapsed": 9467,
          "user": {
            "displayName": "Даниил Ларионов",
            "photoUrl": "//lh3.googleusercontent.com/-ctIQBLRHGYI/AAAAAAAAAAI/AAAAAAAAABg/_SlKdw9EHys/s50-c-k-no/photo.jpg",
            "userId": "100808819455405962260"
          }
        }
      },
      "cell_type": "code",
      "source": [
        "albunet = torch.load(model_path + 'cool_model_which_can_work.torch')"
      ],
      "execution_count": 32,
      "outputs": [
        {
          "output_type": "stream",
          "text": [
            "/usr/local/lib/python3.6/dist-packages/torch/serialization.py:316: SourceChangeWarning: source code of class 'torch.nn.modules.pooling.MaxPool2d' has changed. you can retrieve the original source code by accessing the object's source attribute or set `torch.nn.Module.dump_patches = True` and use the patch tool to revert the changes.\n",
            "  warnings.warn(msg, SourceChangeWarning)\n",
            "/usr/local/lib/python3.6/dist-packages/torch/serialization.py:316: SourceChangeWarning: source code of class 'torch.nn.modules.conv.Conv2d' has changed. you can retrieve the original source code by accessing the object's source attribute or set `torch.nn.Module.dump_patches = True` and use the patch tool to revert the changes.\n",
            "  warnings.warn(msg, SourceChangeWarning)\n",
            "/usr/local/lib/python3.6/dist-packages/torch/serialization.py:316: SourceChangeWarning: source code of class 'torch.nn.modules.linear.Linear' has changed. you can retrieve the original source code by accessing the object's source attribute or set `torch.nn.Module.dump_patches = True` and use the patch tool to revert the changes.\n",
            "  warnings.warn(msg, SourceChangeWarning)\n"
          ],
          "name": "stderr"
        }
      ]
    },
    {
      "metadata": {
        "id": "35o2kXWZJi-A",
        "colab_type": "code",
        "colab": {
          "autoexec": {
            "startup": false,
            "wait_interval": 0
          }
        }
      },
      "cell_type": "code",
      "source": [
        "albunet = AlbuNet1(pretrained=True, num_classes=3)"
      ],
      "execution_count": 0,
      "outputs": []
    },
    {
      "metadata": {
        "id": "0Nw4GLqHHk5V",
        "colab_type": "code",
        "colab": {
          "autoexec": {
            "startup": false,
            "wait_interval": 0
          }
        }
      },
      "cell_type": "code",
      "source": [
        "losses = train(albunet, train_dataset, best_loss_val=999, n_epochs=100, loss_mask=F.binary_cross_entropy, loss_center=LossBinary(0.01), loss_border=LossBinary(0.01), batch_size=32)"
      ],
      "execution_count": 0,
      "outputs": []
    },
    {
      "metadata": {
        "id": "nq29n7zeFQRn",
        "colab_type": "code",
        "colab": {
          "autoexec": {
            "startup": false,
            "wait_interval": 0
          },
          "base_uri": "https://localhost:8080/",
          "height": 34
        },
        "outputId": "efd20362-3523-460e-a78c-0c9960457740",
        "executionInfo": {
          "status": "ok",
          "timestamp": 1523549951619,
          "user_tz": -180,
          "elapsed": 21519,
          "user": {
            "displayName": "Даниил Ларионов",
            "photoUrl": "//lh3.googleusercontent.com/-ctIQBLRHGYI/AAAAAAAAAAI/AAAAAAAAABg/_SlKdw9EHys/s50-c-k-no/photo.jpg",
            "userId": "100808819455405962260"
          }
        }
      },
      "cell_type": "code",
      "source": [
        "#starter_model = torch.load(model_path + model_file)\n",
        "valid_dataset = DatasetV2(TRAIN_DIR, train_ids[600:], transform=train_transform)\n",
        "print(valid(albunet, valid_dataset, loss_mask=LossBinary(), loss_center=LossBinary(), loss_border=LossBinary()))"
      ],
      "execution_count": 46,
      "outputs": [
        {
          "output_type": "stream",
          "text": [
            "(0.23818564, 0.35481761772880926)\n"
          ],
          "name": "stdout"
        }
      ]
    },
    {
      "metadata": {
        "id": "cVm27HauK06E",
        "colab_type": "code",
        "colab": {
          "autoexec": {
            "startup": false,
            "wait_interval": 0
          }
        }
      },
      "cell_type": "code",
      "source": [
        "loss = np.array(losses)"
      ],
      "execution_count": 0,
      "outputs": []
    },
    {
      "metadata": {
        "id": "8KIxwuxlK5Jv",
        "colab_type": "code",
        "colab": {
          "autoexec": {
            "startup": false,
            "wait_interval": 0
          }
        }
      },
      "cell_type": "code",
      "source": [
        "plt.plot(loss)"
      ],
      "execution_count": 0,
      "outputs": []
    },
    {
      "metadata": {
        "id": "E0npAPjIcQX8",
        "colab_type": "code",
        "colab": {
          "autoexec": {
            "startup": false,
            "wait_interval": 0
          }
        }
      },
      "cell_type": "code",
      "source": [
        "test_dataset = DatasetV2(TEST_DIR, test_ids, train=False, transform=UnetTansformation())"
      ],
      "execution_count": 0,
      "outputs": []
    },
    {
      "metadata": {
        "id": "rzUNrdOw_h2q",
        "colab_type": "code",
        "colab": {
          "autoexec": {
            "startup": false,
            "wait_interval": 0
          },
          "base_uri": "https://localhost:8080/",
          "height": 34
        },
        "outputId": "9f6db73f-c314-4b51-a44a-5c70a9053450",
        "executionInfo": {
          "status": "ok",
          "timestamp": 1523739184966,
          "user_tz": -180,
          "elapsed": 674,
          "user": {
            "displayName": "Даниил Ларионов",
            "photoUrl": "//lh3.googleusercontent.com/-ctIQBLRHGYI/AAAAAAAAAAI/AAAAAAAAABg/_SlKdw9EHys/s50-c-k-no/photo.jpg",
            "userId": "100808819455405962260"
          }
        }
      },
      "cell_type": "code",
      "source": [
        "test_dataset[1122][0].size()"
      ],
      "execution_count": 106,
      "outputs": [
        {
          "output_type": "execute_result",
          "data": {
            "text/plain": [
              "torch.Size([3, 576, 704])"
            ]
          },
          "metadata": {
            "tags": []
          },
          "execution_count": 106
        }
      ]
    },
    {
      "metadata": {
        "id": "hNp5oj5NAg8E",
        "colab_type": "code",
        "colab": {
          "autoexec": {
            "startup": false,
            "wait_interval": 0
          }
        }
      },
      "cell_type": "code",
      "source": [
        "albunet.eval()\n",
        "albunet.cuda()"
      ],
      "execution_count": 0,
      "outputs": []
    },
    {
      "metadata": {
        "id": "FN-aiOHw4U3h",
        "colab_type": "code",
        "colab": {
          "autoexec": {
            "startup": false,
            "wait_interval": 0
          }
        }
      },
      "cell_type": "code",
      "source": [
        "def binarize(img : torch.FloatTensor, cutoff = 0.41):\n",
        "  cutoff_value = img.max() - (cutoff * abs((img.max() - img.min())))\n",
        "  img = (img < cutoff_value)\n",
        "  return img"
      ],
      "execution_count": 0,
      "outputs": []
    },
    {
      "metadata": {
        "id": "OE8124h7knOE",
        "colab_type": "code",
        "colab": {
          "autoexec": {
            "startup": false,
            "wait_interval": 0
          }
        }
      },
      "cell_type": "code",
      "source": [
        "def binarize_minmax(img : torch.FloatTensor, cutoff = 0.5):\n",
        "  img_p =  1 - ((img - img.min()) / img.max())\n",
        "  return img_p < cutoff"
      ],
      "execution_count": 0,
      "outputs": []
    },
    {
      "metadata": {
        "id": "IitpTZYS5L80",
        "colab_type": "code",
        "colab": {
          "autoexec": {
            "startup": false,
            "wait_interval": 0
          }
        }
      },
      "cell_type": "code",
      "source": [
        "def imshow_tensor(img: torch.FloatTensor, grayscale = False, title=\"Img\"):\n",
        "  plt.figure()\n",
        "  plt.title(title)\n",
        "  if grayscale:\n",
        "    plt.imshow(img.squeeze().numpy())\n",
        "  else:\n",
        "    plt.imshow(img.permute(1, 2, 0).numpy())"
      ],
      "execution_count": 0,
      "outputs": []
    },
    {
      "metadata": {
        "id": "tHoke14q471q",
        "colab_type": "code",
        "colab": {
          "autoexec": {
            "startup": false,
            "wait_interval": 0
          },
          "base_uri": "https://localhost:8080/",
          "height": 713
        },
        "outputId": "0e41327a-c9ff-4352-f84d-40cf648f4099",
        "executionInfo": {
          "status": "ok",
          "timestamp": 1523739198975,
          "user_tz": -180,
          "elapsed": 8395,
          "user": {
            "displayName": "Даниил Ларионов",
            "photoUrl": "//lh3.googleusercontent.com/-ctIQBLRHGYI/AAAAAAAAAAI/AAAAAAAAABg/_SlKdw9EHys/s50-c-k-no/photo.jpg",
            "userId": "100808819455405962260"
          }
        }
      },
      "cell_type": "code",
      "source": [
        "sample, name, h, w = test_dataset[1122]\n",
        "print(cv2.imread(os.path.join(TEST_DIR, name, 'images', name + '.png')).shape)\n",
        "print(h, w)\n",
        "print(sample.size)\n",
        "imshow_tensor(sample, title='Original Image')\n",
        "#sample_mask = sample[3]\n",
        "#imshow_tensor(sample_mask, True, 'Mask')\n",
        "pred = albunet(Variable(sample).cuda().unsqueeze(dim=0)).squeeze().cpu()\n",
        "imshow_tensor(torch.FloatTensor(label(watershed_v3(pred[0].data.numpy(), pred[2].data.numpy()))), True)\n",
        "print(pred[0].min(), pred[0].max())"
      ],
      "execution_count": 107,
      "outputs": [
        {
          "output_type": "stream",
          "text": [
            "(520, 694, 3)\n",
            "520 694\n",
            "<built-in method size of torch.FloatTensor object at 0x7f2e6bd8fd88>\n",
            "Variable containing:\n",
            "-12.1980\n",
            "[torch.FloatTensor of size 1]\n",
            " Variable containing:\n",
            " 6.2829\n",
            "[torch.FloatTensor of size 1]\n",
            "\n"
          ],
          "name": "stdout"
        },
        {
          "output_type": "display_data",
          "data": {
            "image/png": "[encoded data removed]",
            "text/plain": [
              "<matplotlib.figure.Figure at 0x7f2e6bda4390>"
            ]
          },
          "metadata": {
            "tags": []
          }
        },
        {
          "output_type": "display_data",
          "data": {
            "image/png": "[encoded data removed]",
            "text/plain": [
              "<matplotlib.figure.Figure at 0x7f2e6bed88d0>"
            ]
          },
          "metadata": {
            "tags": []
          }
        }
      ]
    },
    {
      "metadata": {
        "id": "aMANDhRv1FLE",
        "colab_type": "code",
        "colab": {
          "autoexec": {
            "startup": false,
            "wait_interval": 0
          }
        }
      },
      "cell_type": "code",
      "source": [
        "\n",
        "\n",
        "def rle_encoding(x):\n",
        "    dots = np.where(x.flatten() == 1)[0]\n",
        "    run_lengths = []\n",
        "    prev = -2\n",
        "    for b in dots:\n",
        "        if (b>prev+1): run_lengths.extend((b + 1, 0))\n",
        "        run_lengths[-1] += 1\n",
        "        prev = b\n",
        "    return run_lengths\n",
        "\n",
        "def prob_to_rles(x):\n",
        "    lab_img = label(x)\n",
        "    for i in range(1, lab_img.max() + 1):\n",
        "        yield rle_encoding(lab_img == i)"
      ],
      "execution_count": 0,
      "outputs": []
    },
    {
      "metadata": {
        "id": "9JyaqTMPBMOM",
        "colab_type": "code",
        "colab": {
          "autoexec": {
            "startup": false,
            "wait_interval": 0
          },
          "base_uri": "https://localhost:8080/",
          "height": 102
        },
        "outputId": "7d902989-557b-4084-86af-e59025544fe1",
        "executionInfo": {
          "status": "ok",
          "timestamp": 1523735689653,
          "user_tz": -180,
          "elapsed": 4521,
          "user": {
            "displayName": "Даниил Ларионов",
            "photoUrl": "//lh3.googleusercontent.com/-ctIQBLRHGYI/AAAAAAAAAAI/AAAAAAAAABg/_SlKdw9EHys/s50-c-k-no/photo.jpg",
            "userId": "100808819455405962260"
          }
        }
      },
      "cell_type": "code",
      "source": [
        "!pip install tqdm"
      ],
      "execution_count": 38,
      "outputs": [
        {
          "output_type": "stream",
          "text": [
            "Collecting tqdm\n",
            "  Downloading https://files.pythonhosted.org/packages/5e/49/a1a39f8038da939443912d322f2ebdc11020983d771d10ad9991f3125671/tqdm-4.22.0-py2.py3-none-any.whl (42kB)\n",
            "\u001b[K    100% |████████████████████████████████| 51kB 3.1MB/s \n",
            "\u001b[?25hInstalling collected packages: tqdm\n",
            "Successfully installed tqdm-4.22.0\n"
          ],
          "name": "stdout"
        }
      ]
    },
    {
      "metadata": {
        "id": "H4n6TqFkYLtw",
        "colab_type": "code",
        "colab": {
          "autoexec": {
            "startup": false,
            "wait_interval": 0
          },
          "base_uri": "https://localhost:8080/",
          "height": 51
        },
        "outputId": "5a1eaa95-5fe5-466d-9456-11a323dc1e66",
        "executionInfo": {
          "status": "ok",
          "timestamp": 1523629556486,
          "user_tz": -180,
          "elapsed": 662,
          "user": {
            "displayName": "Даниил Ларионов",
            "photoUrl": "//lh3.googleusercontent.com/-ctIQBLRHGYI/AAAAAAAAAAI/AAAAAAAAABg/_SlKdw9EHys/s50-c-k-no/photo.jpg",
            "userId": "100808819455405962260"
          }
        }
      },
      "cell_type": "code",
      "source": [
        "x, name, h, w = test_dataset[540]\n",
        "img = cv2.imread(os.path.join(TEST_DIR, name, 'images', name + '.png'))\n",
        "print(img.shape)\n",
        "print(h, w)"
      ],
      "execution_count": 65,
      "outputs": [
        {
          "output_type": "stream",
          "text": [
            "(304, 560, 3)\n",
            "304 560\n"
          ],
          "name": "stdout"
        }
      ]
    },
    {
      "metadata": {
        "id": "DmPyAAwn5Uf_",
        "colab_type": "code",
        "colab": {
          "autoexec": {
            "startup": false,
            "wait_interval": 0
          }
        }
      },
      "cell_type": "code",
      "source": [
        "from tqdm import *"
      ],
      "execution_count": 0,
      "outputs": []
    },
    {
      "metadata": {
        "id": "MEuNrEEhcGvH",
        "colab_type": "code",
        "colab": {
          "autoexec": {
            "startup": false,
            "wait_interval": 0
          },
          "base_uri": "https://localhost:8080/",
          "height": 34
        },
        "outputId": "5ad43c15-b121-49d1-e0cc-13e308b87f99"
      },
      "cell_type": "code",
      "source": [
        "from skimage.transform import resize\n",
        "image_ids = []\n",
        "rles = []\n",
        "predicts = []\n",
        "#starternet.cpu()\n",
        "#albunet.cpu()\n",
        "#starternet.eval()\n",
        "#albunet.eval()\n",
        "albunet.cuda()\n",
        "\n",
        "for i in tqdm(range(0, len(test_dataset))):\n",
        "    test, name, h, w = test_dataset[i]\n",
        "    #test_h = test[2]\n",
        "    #test_w = test[3]\n",
        "    \n",
        "    #print(h, w)\n",
        "    #print(test.size())\n",
        "    \n",
        "    batch_x = torch.unsqueeze(test, dim=0)\n",
        "    batch_x = Variable(batch_x).cuda()\n",
        "    \n",
        "    \n",
        "    pred_i = albunet(batch_x).squeeze().data.cpu().numpy()\n",
        "    \n",
        "    mask = back_shaper(pred_i[0], (h, w))\n",
        "    #pred_i[1] = back_shaper(pred_i[1], (w, h))\n",
        "    #contour = back_shaper(pred_i[2], (h, w))\n",
        "    \n",
        "    #pred_i = binarize_minmax(pred_i)\n",
        "    \n",
        "    #water_predict = binarize(watershed_v3(mask, contour), cutoff=1.0)\n",
        "    \n",
        "    \n",
        "    #pred_i = np.expand_dims(pred_i, -1)\n",
        "    #pred_i = np.swapaxes(pred_i, 0, -1)\n",
        "    #pred_i = np.squeeze(pred_i)\n",
        "    \n",
        "    current_rles = [rle for rle in prob_to_rles(binarize(mask))]\n",
        "    \n",
        "    if len(current_rles) != 0:\n",
        "        for rle in current_rles:\n",
        "            image_ids.append(name)\n",
        "            rles.append(rle)\n",
        "    else:\n",
        "        image_ids.append(name)\n",
        "        rles.append([])\n",
        "    #print(name, len(rles))"
      ],
      "execution_count": 0,
      "outputs": [
        {
          "output_type": "stream",
          "text": [
            " 31%|███       | 936/3019 [03:17<07:20,  4.73it/s]"
          ],
          "name": "stderr"
        }
      ]
    },
    {
      "metadata": {
        "id": "ZMNfNBCp1FLQ",
        "colab_type": "code",
        "colab": {
          "autoexec": {
            "startup": false,
            "wait_interval": 0
          }
        }
      },
      "cell_type": "code",
      "source": [
        "import pandas as pd\n",
        "submission = pd.DataFrame(data={'ImageId': image_ids,\n",
        "                                'EncodedPixels': [' '.join(map(str, x)) for x in rles]})"
      ],
      "execution_count": 0,
      "outputs": []
    },
    {
      "metadata": {
        "id": "bR8mTQMNGmTU",
        "colab_type": "code",
        "colab": {
          "autoexec": {
            "startup": false,
            "wait_interval": 0
          },
          "base_uri": "https://localhost:8080/",
          "height": 80
        },
        "outputId": "b232e22a-80b4-485e-daff-81b39f7aa4b1",
        "executionInfo": {
          "status": "ok",
          "timestamp": 1523736515303,
          "user_tz": -180,
          "elapsed": 1017,
          "user": {
            "displayName": "Даниил Ларионов",
            "photoUrl": "//lh3.googleusercontent.com/-ctIQBLRHGYI/AAAAAAAAAAI/AAAAAAAAABg/_SlKdw9EHys/s50-c-k-no/photo.jpg",
            "userId": "100808819455405962260"
          }
        }
      },
      "cell_type": "code",
      "source": [
        "submission.head(1)"
      ],
      "execution_count": 45,
      "outputs": [
        {
          "output_type": "execute_result",
          "data": {
            "text/html": [
              "<div>\n",
              "<style scoped>\n",
              "    .dataframe tbody tr th:only-of-type {\n",
              "        vertical-align: middle;\n",
              "    }\n",
              "\n",
              "    .dataframe tbody tr th {\n",
              "        vertical-align: top;\n",
              "    }\n",
              "\n",
              "    .dataframe thead th {\n",
              "        text-align: right;\n",
              "    }\n",
              "</style>\n",
              "<table border=\"1\" class=\"dataframe\">\n",
              "  <thead>\n",
              "    <tr style=\"text-align: right;\">\n",
              "      <th></th>\n",
              "      <th>EncodedPixels</th>\n",
              "      <th>ImageId</th>\n",
              "    </tr>\n",
              "  </thead>\n",
              "  <tbody>\n",
              "    <tr>\n",
              "      <th>0</th>\n",
              "      <td>1 6 257 5 513 5 769 5 1025 5 1281 4 1537 2</td>\n",
              "      <td>bc9ee507f0b0d0f68f49ee72cbf1a1275465d0b7a99136...</td>\n",
              "    </tr>\n",
              "  </tbody>\n",
              "</table>\n",
              "</div>"
            ],
            "text/plain": [
              "                                EncodedPixels  \\\n",
              "0  1 6 257 5 513 5 769 5 1025 5 1281 4 1537 2   \n",
              "\n",
              "                                             ImageId  \n",
              "0  bc9ee507f0b0d0f68f49ee72cbf1a1275465d0b7a99136...  "
            ]
          },
          "metadata": {
            "tags": []
          },
          "execution_count": 45
        }
      ]
    },
    {
      "metadata": {
        "id": "KnbwtKngdmiA",
        "colab_type": "code",
        "colab": {
          "autoexec": {
            "startup": false,
            "wait_interval": 0
          },
          "base_uri": "https://localhost:8080/",
          "height": 34
        },
        "outputId": "6434eff0-698a-4bac-91bb-db06814d86be",
        "executionInfo": {
          "status": "ok",
          "timestamp": 1523736518264,
          "user_tz": -180,
          "elapsed": 1035,
          "user": {
            "displayName": "Даниил Ларионов",
            "photoUrl": "//lh3.googleusercontent.com/-ctIQBLRHGYI/AAAAAAAAAAI/AAAAAAAAABg/_SlKdw9EHys/s50-c-k-no/photo.jpg",
            "userId": "100808819455405962260"
          }
        }
      },
      "cell_type": "code",
      "source": [
        "len(submission['ImageId'].drop_duplicates())"
      ],
      "execution_count": 46,
      "outputs": [
        {
          "output_type": "execute_result",
          "data": {
            "text/plain": [
              "3019"
            ]
          },
          "metadata": {
            "tags": []
          },
          "execution_count": 46
        }
      ]
    },
    {
      "metadata": {
        "id": "5aPVx6VkyX7x",
        "colab_type": "code",
        "colab": {
          "autoexec": {
            "startup": false,
            "wait_interval": 0
          }
        }
      },
      "cell_type": "code",
      "source": [
        "submission.to_csv('submit1.csv', index=None)"
      ],
      "execution_count": 0,
      "outputs": []
    },
    {
      "metadata": {
        "id": "fqGK6YvMygDC",
        "colab_type": "code",
        "colab": {
          "autoexec": {
            "startup": false,
            "wait_interval": 0
          },
          "base_uri": "https://localhost:8080/",
          "height": 34
        },
        "outputId": "9f90fc5b-c7a3-47c6-d7cb-81d667a41a70",
        "executionInfo": {
          "status": "ok",
          "timestamp": 1523736553566,
          "user_tz": -180,
          "elapsed": 1719,
          "user": {
            "displayName": "Даниил Ларионов",
            "photoUrl": "//lh3.googleusercontent.com/-ctIQBLRHGYI/AAAAAAAAAAI/AAAAAAAAABg/_SlKdw9EHys/s50-c-k-no/photo.jpg",
            "userId": "100808819455405962260"
          }
        }
      },
      "cell_type": "code",
      "source": [
        "!tar -cvf submit1.csv.zip submit1.csv"
      ],
      "execution_count": 48,
      "outputs": [
        {
          "output_type": "stream",
          "text": [
            "submit1.csv\r\n"
          ],
          "name": "stdout"
        }
      ]
    },
    {
      "metadata": {
        "id": "Qu2llAICynxH",
        "colab_type": "code",
        "colab": {
          "autoexec": {
            "startup": false,
            "wait_interval": 0
          },
          "base_uri": "https://localhost:8080/",
          "height": 52
        },
        "outputId": "cd697ec2-aa68-41a1-e502-ea43a13d95fd",
        "executionInfo": {
          "status": "ok",
          "timestamp": 1523569036847,
          "user_tz": -180,
          "elapsed": 2124,
          "user": {
            "displayName": "Даниил Ларионов",
            "photoUrl": "//lh3.googleusercontent.com/-ctIQBLRHGYI/AAAAAAAAAAI/AAAAAAAAABg/_SlKdw9EHys/s50-c-k-no/photo.jpg",
            "userId": "100808819455405962260"
          }
        }
      },
      "cell_type": "code",
      "source": [
        "!ls"
      ],
      "execution_count": 92,
      "outputs": [
        {
          "output_type": "stream",
          "text": [
            "bowl\t drive\t    __pycache__\t\t submit.csv\t transforms.py\r\n",
            "datalab  models.py  stage1_solution.csv  submit.csv.zip\r\n"
          ],
          "name": "stdout"
        }
      ]
    },
    {
      "metadata": {
        "id": "MAfXkCXNyp3j",
        "colab_type": "code",
        "colab": {
          "autoexec": {
            "startup": false,
            "wait_interval": 0
          }
        }
      },
      "cell_type": "code",
      "source": [
        "!cp submit1.csv.zip drive/bowl/submissions/submit1.csv.zip"
      ],
      "execution_count": 0,
      "outputs": []
    },
    {
      "metadata": {
        "id": "5pC_yqBj1FLV",
        "colab_type": "code",
        "colab": {
          "autoexec": {
            "startup": false,
            "wait_interval": 0
          }
        }
      },
      "cell_type": "code",
      "source": [
        "submission.to_csv(submission_path + '1'+submission_file, index=None)"
      ],
      "execution_count": 0,
      "outputs": []
    },
    {
      "metadata": {
        "id": "2zHXVQSMX7Pd",
        "colab_type": "code",
        "colab": {
          "autoexec": {
            "startup": false,
            "wait_interval": 0
          },
          "base_uri": "https://localhost:8080/",
          "height": 831
        },
        "outputId": "c8522c24-481e-4ae9-da18-b1fcda4769ff",
        "executionInfo": {
          "status": "ok",
          "timestamp": 1523562871749,
          "user_tz": -180,
          "elapsed": 1467,
          "user": {
            "displayName": "Даниил Ларионов",
            "photoUrl": "//lh3.googleusercontent.com/-ctIQBLRHGYI/AAAAAAAAAAI/AAAAAAAAABg/_SlKdw9EHys/s50-c-k-no/photo.jpg",
            "userId": "100808819455405962260"
          }
        }
      },
      "cell_type": "code",
      "source": [
        "sample = test_dataset[1344]\n",
        "img = sample[0]\n",
        "imshow_tensor(img)\n",
        "pred = albunet(Variable(img).cuda().unsqueeze(dim=0)).squeeze()\n",
        "imshow_tensor(binarize(pred.cpu().data[0]), grayscale=True)\n",
        "x = watershed_v3(pred[0].cpu().data.numpy(), pred[2].cpu().data.numpy())\n",
        "print(x.min(), x.max())\n",
        "plt.figure()\n",
        "plt.imshow(x>0.1)"
      ],
      "execution_count": 80,
      "outputs": [
        {
          "output_type": "stream",
          "text": [
            "0 11\n"
          ],
          "name": "stdout"
        },
        {
          "output_type": "execute_result",
          "data": {
            "text/plain": [
              "<matplotlib.image.AxesImage at 0x7f250a8ca198>"
            ]
          },
          "metadata": {
            "tags": []
          },
          "execution_count": 80
        },
        {
          "output_type": "display_data",
          "data": {
            "image/png": "[encoded data removed]",
            "text/plain": [
              "<matplotlib.figure.Figure at 0x7f250aa4b908>"
            ]
          },
          "metadata": {
            "tags": []
          }
        },
        {
          "output_type": "display_data",
          "data": {
            "image/png": "[encoded data removed]",
            "text/plain": [
              "<matplotlib.figure.Figure at 0x7f252b3a4710>"
            ]
          },
          "metadata": {
            "tags": []
          }
        },
        {
          "output_type": "display_data",
          "data": {
            "image/png": "[encoded data removed]",
            "text/plain": [
              "<matplotlib.figure.Figure at 0x7f252b3a4b38>"
            ]
          },
          "metadata": {
            "tags": []
          }
        }
      ]
    },
    {
      "metadata": {
        "id": "ZfrUfqJdWej4",
        "colab_type": "code",
        "colab": {
          "autoexec": {
            "startup": false,
            "wait_interval": 0
          }
        }
      },
      "cell_type": "code",
      "source": [
        "#WATERSHED"
      ],
      "execution_count": 0,
      "outputs": []
    },
    {
      "metadata": {
        "id": "1WRFHcuXWieS",
        "colab_type": "code",
        "colab": {
          "autoexec": {
            "startup": false,
            "wait_interval": 0
          }
        }
      },
      "cell_type": "code",
      "source": [
        "from itertools import product\n",
        "import skimage.morphology as morph\n",
        "from skimage.filters import threshold_otsu\n",
        "import scipy.ndimage as ndi\n",
        "from scipy.stats import itemfreq\n",
        "\n",
        "def drop_artifacts(mask_after, mask_pre, min_coverage=0.5):\n",
        "    connected, nr_connected = ndi.label(mask_after)\n",
        "    mask = np.zeros_like(mask_after)\n",
        "    for i in range(1, nr_connected + 1):\n",
        "        conn_blob = np.where(connected == i, 1, 0)\n",
        "        initial_space = np.where(connected == i, mask_pre, 0)\n",
        "        blob_size = np.sum(conn_blob)\n",
        "        initial_blob_size = np.sum(initial_space)\n",
        "        coverage = float(initial_blob_size) / float(blob_size)\n",
        "        if coverage > min_coverage:\n",
        "            mask = mask + conn_blob\n",
        "        else:\n",
        "            mask = mask + initial_space\n",
        "    return mask\n",
        "\n",
        "def pad_mask(mask, pad):\n",
        "    if pad <= 1:\n",
        "        pad = 2\n",
        "    h, w = mask.shape\n",
        "    h_pad = h + 2 * pad\n",
        "    w_pad = w + 2 * pad\n",
        "    mask_padded = np.zeros((h_pad, w_pad))\n",
        "    mask_padded[pad:pad + h, pad:pad + w] = mask\n",
        "    mask_padded[pad - 1, :] = 1\n",
        "    mask_padded[pad + h + 1, :] = 1\n",
        "    mask_padded[:, pad - 1] = 1\n",
        "    mask_padded[:, pad + w + 1] = 1\n",
        "\n",
        "    return mask_padded\n",
        "\n",
        "def crop_mask(mask, crop):\n",
        "    if crop <= 1:\n",
        "        crop = 2\n",
        "    h, w = mask.shape\n",
        "    mask_cropped = mask[crop:h - crop, crop:w - crop]\n",
        "    return mask_cropped\n",
        "\n",
        "def mean_blob_size(mask):\n",
        "    labels, labels_nr = ndi.label(mask)\n",
        "    if labels_nr < 2:\n",
        "        mean_area = 1\n",
        "        mean_radius = 1\n",
        "    else:\n",
        "        mean_area = int(itemfreq(labels)[1:, 1].mean())\n",
        "        mean_radius = int(np.round(np.sqrt(mean_area) / np.pi))\n",
        "    return mean_area, mean_radius\n",
        "\n",
        "def add_dropped_water_blobs(water, mask_cleaned):\n",
        "    water_mask = (water > 0).astype(np.uint8)\n",
        "    dropped = mask_cleaned - water_mask\n",
        "    dropped, _ = ndi.label(dropped)\n",
        "    dropped = np.where(dropped, dropped + water.max(), 0)\n",
        "    water = water + dropped\n",
        "    return water\n",
        "\n",
        "def relabel(img):\n",
        "    h, w = img.shape\n",
        "\n",
        "    relabel_dict = {}\n",
        "\n",
        "    for i, k in enumerate(np.unique(img)):\n",
        "        if k == 0:\n",
        "            relabel_dict[k] = 0\n",
        "        else:\n",
        "            relabel_dict[k] = i\n",
        "    for i, j in product(range(h), range(w)):\n",
        "        img[i, j] = relabel_dict[img[i, j]]\n",
        "    return img\n",
        "\n",
        "def drop_small(img, min_size):\n",
        "    img = morph.remove_small_objects(img, min_size=min_size)\n",
        "    return relabel(img)\n",
        "\n",
        "def fill_holes_per_blob(image):\n",
        "    image_cleaned = np.zeros_like(image)\n",
        "    for i in range(1, image.max() + 1):\n",
        "        mask = np.where(image == i, 1, 0)\n",
        "        mask = ndi.morphology.binary_fill_holes(mask)\n",
        "        image_cleaned = image_cleaned + mask * i\n",
        "    return image_cleaned\n",
        "\n",
        "def drop_artifacts_per_label(labels, initial_mask):\n",
        "    labels_cleaned = np.zeros_like(labels)\n",
        "    for i in range(1, labels.max() + 1):\n",
        "        component = np.where(labels == i, 1, 0)\n",
        "        component_initial_mask = np.where(labels == i, initial_mask, 0)\n",
        "        component = drop_artifacts(component, component_initial_mask)\n",
        "        labels_cleaned = labels_cleaned + component * i\n",
        "    return labels_cleaned\n",
        "\n",
        "def clean_mask_v2(m,c):\n",
        "    # threshold\n",
        "    m_b = m > threshold_otsu(m)\n",
        "    c_b = c > threshold_otsu(c)\n",
        "\n",
        "    # combine contours and masks and fill the cells\n",
        "    m_ = np.where(m_b | c_b, 1, 0)\n",
        "    m_ = ndi.binary_fill_holes(m_)\n",
        "\n",
        "    # close what wasn't closed before \n",
        "    area, radius = mean_blob_size(m_b)\n",
        "    struct_size = int(1.25*radius)\n",
        "    struct_el = morph.disk(struct_size)\n",
        "    m_padded = pad_mask(m_, pad=struct_size)\n",
        "    m_padded = morph.binary_closing(m_padded, selem=struct_el)\n",
        "    m_ = crop_mask(m_padded, crop=struct_size)\n",
        "    \n",
        "    # open to cut the real cells from the artifacts\n",
        "    area, radius = mean_blob_size(m_b)\n",
        "    struct_size = int(0.75*radius)\n",
        "    struct_el = morph.disk(struct_size)\n",
        "    m_ = np.where(c_b & (~m_b), 0, m_)\n",
        "    m_padded = pad_mask(m_, pad=struct_size)\n",
        "    m_padded = morph.binary_opening(m_padded, selem=struct_el)\n",
        "    m_ = crop_mask(m_padded, crop=struct_size)\n",
        "\n",
        "    # join the connected cells with what we had at the beginning\n",
        "    m_ = np.where(m_b|m_,1,0)\n",
        "    m_ = ndi.binary_fill_holes(m_)\n",
        "    \n",
        "    # drop all the cells that weren't present at least in 25% of area in the initial mask \n",
        "    m_ = drop_artifacts(m_, m_b,min_coverage=0.25)\n",
        "    \n",
        "    return m_\n",
        "\n",
        "def good_markers_v3(m_b,c):\n",
        "    # threshold\n",
        "    c_b = c > threshold_otsu(c)\n",
        "    \n",
        "    mk_ = np.where(c_b,0,m_b)\n",
        "    \n",
        "    area, radius = mean_blob_size(m_b)\n",
        "    struct_size = int(0.25*radius)\n",
        "    struct_el = morph.disk(struct_size)\n",
        "    m_padded = pad_mask(mk_, pad=struct_size)\n",
        "    m_padded = morph.erosion(m_padded, selem=struct_el)\n",
        "    mk_ = crop_mask(m_padded, crop=struct_size)\n",
        "    mk_,_ = ndi.label(mk_) \n",
        "    return mk_\n",
        "\n",
        "def good_distance_v1(m_b):\n",
        "    distance = ndi.distance_transform_edt(m_b)\n",
        "    return distance"
      ],
      "execution_count": 0,
      "outputs": []
    },
    {
      "metadata": {
        "id": "qVfvZVDqWg8N",
        "colab_type": "code",
        "colab": {
          "autoexec": {
            "startup": false,
            "wait_interval": 0
          }
        }
      },
      "cell_type": "code",
      "source": [
        "def watershed_v3(mask, contour):\n",
        "    cleaned_mask = clean_mask_v2(mask, contour)\n",
        "    good_markers = good_markers_v3(cleaned_mask,contour)\n",
        "    good_distance = good_distance_v1(cleaned_mask)\n",
        "    \n",
        "    labels = morph.watershed(-good_distance, good_markers, mask=cleaned_mask)\n",
        "    \n",
        "    labels = add_dropped_water_blobs(labels, cleaned_mask)\n",
        "    \n",
        "    m_thresh = threshold_otsu(mask)\n",
        "    initial_mask_binary = (mask > m_thresh).astype(np.uint8)\n",
        "    labels = drop_artifacts_per_label(labels,initial_mask_binary)\n",
        "    \n",
        "    labels = drop_small(labels, min_size=20)\n",
        "    labels = fill_holes_per_blob(labels)\n",
        "        \n",
        "    return labels"
      ],
      "execution_count": 0,
      "outputs": []
    }
  ]
}